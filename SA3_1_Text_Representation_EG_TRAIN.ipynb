{
  "nbformat": 4,
  "nbformat_minor": 0,
  "metadata": {
    "kernelspec": {
      "display_name": "Python 3",
      "language": "python",
      "name": "python3"
    },
    "language_info": {
      "codemirror_mode": {
        "name": "ipython",
        "version": 3
      },
      "file_extension": ".py",
      "mimetype": "text/x-python",
      "name": "python",
      "nbconvert_exporter": "python",
      "pygments_lexer": "ipython3",
      "version": "3.7.6"
    },
    "colab": {
      "name": "SA3_1_Text_Representation_EG_TRAIN.ipynb",
      "provenance": [],
      "collapsed_sections": [],
      "toc_visible": true,
      "include_colab_link": true
    }
  },
  "cells": [
    {
      "cell_type": "markdown",
      "metadata": {
        "id": "view-in-github",
        "colab_type": "text"
      },
      "source": [
        "<a href=\"https://colab.research.google.com/github/DanielaManate/SentimentAnalysis_MADC_UBB/blob/master/SA3_1_Text_Representation_EG_TRAIN.ipynb\" target=\"_parent\"><img src=\"https://colab.research.google.com/assets/colab-badge.svg\" alt=\"Open In Colab\"/></a>"
      ]
    },
    {
      "cell_type": "markdown",
      "metadata": {
        "id": "xpAxbaOwDdtn",
        "colab_type": "text"
      },
      "source": [
        "# Importing Libraries"
      ]
    },
    {
      "cell_type": "code",
      "metadata": {
        "id": "FCa6nzorDdto",
        "colab_type": "code",
        "colab": {}
      },
      "source": [
        "import pandas as pd\n",
        "import numpy as np\n",
        "\n",
        "from gensim.models import Word2Vec\n",
        "from gensim.models.fasttext import FastText\n",
        "\n",
        "from sklearn.decomposition import PCA\n",
        "\n",
        "import plotly.express as px"
      ],
      "execution_count": 0,
      "outputs": []
    },
    {
      "cell_type": "code",
      "metadata": {
        "id": "Fel5lBCkDdtw",
        "colab_type": "code",
        "colab": {}
      },
      "source": [
        "# Training data\n",
        "sentences = [['we', 'are', 'going', 'to', 'use', 'word2vec'],\n",
        "        ['also', 'we', 'will', 'use', 'fasttext'],\n",
        "        ['this', 'is', 'a', 'sentence'],\n",
        "        ['which', 'embedding', 'is', 'the', 'best', 'for', 'these', 'sentences'],\n",
        "        ['lets', 'find', 'out']]"
      ],
      "execution_count": 0,
      "outputs": []
    },
    {
      "cell_type": "code",
      "metadata": {
        "id": "0Wo3uBxEG_2D",
        "colab_type": "code",
        "colab": {}
      },
      "source": [
        "# %env PYTHONHASHSEED=0"
      ],
      "execution_count": 0,
      "outputs": []
    },
    {
      "cell_type": "markdown",
      "metadata": {
        "id": "eCiDsMzTDdtv",
        "colab_type": "text"
      },
      "source": [
        "# 1. Word2Vec - train your own Model. Default = CBOW (sg=0)"
      ]
    },
    {
      "cell_type": "code",
      "metadata": {
        "id": "_wK7klGuDdtz",
        "colab_type": "code",
        "colab": {}
      },
      "source": [
        "# Train model\n",
        "# Size = 4 => 4 dimensions\n",
        "# min_count = 1 => Ignores all words with total frequency lower than this\n",
        "model_word2vec = Word2Vec(sentences, min_count=1, size = 4)\n",
        "# seed=5, workers=1"
      ],
      "execution_count": 0,
      "outputs": []
    },
    {
      "cell_type": "code",
      "metadata": {
        "id": "aFwGqrpxDdt5",
        "colab_type": "code",
        "outputId": "47945bd8-8605-4250-a597-4789f9348180",
        "colab": {
          "base_uri": "https://localhost:8080/",
          "height": 408
        }
      },
      "source": [
        "# Summarize vocabulary\n",
        "word_list = list(model_word2vec.wv.vocab)\n",
        "word_list"
      ],
      "execution_count": 5,
      "outputs": [
        {
          "output_type": "execute_result",
          "data": {
            "text/plain": [
              "['we',\n",
              " 'are',\n",
              " 'going',\n",
              " 'to',\n",
              " 'use',\n",
              " 'word2vec',\n",
              " 'also',\n",
              " 'will',\n",
              " 'fasttext',\n",
              " 'this',\n",
              " 'is',\n",
              " 'a',\n",
              " 'sentence',\n",
              " 'which',\n",
              " 'embedding',\n",
              " 'the',\n",
              " 'best',\n",
              " 'for',\n",
              " 'these',\n",
              " 'sentences',\n",
              " 'lets',\n",
              " 'find',\n",
              " 'out']"
            ]
          },
          "metadata": {
            "tags": []
          },
          "execution_count": 5
        }
      ]
    },
    {
      "cell_type": "code",
      "metadata": {
        "id": "vz0ql4rpDdt8",
        "colab_type": "code",
        "outputId": "316e2c93-b064-4a79-d710-32efbf5fdafd",
        "colab": {
          "base_uri": "https://localhost:8080/",
          "height": 34
        }
      },
      "source": [
        "# Access vector for one word\n",
        "model_word2vec.wv['sentence']"
      ],
      "execution_count": 6,
      "outputs": [
        {
          "output_type": "execute_result",
          "data": {
            "text/plain": [
              "array([ 0.01587466, -0.06909975,  0.03416497,  0.05477782], dtype=float32)"
            ]
          },
          "metadata": {
            "tags": []
          },
          "execution_count": 6
        }
      ]
    },
    {
      "cell_type": "markdown",
      "metadata": {
        "id": "t0ssGIs4Dw47",
        "colab_type": "text"
      },
      "source": [
        "## What happens if we are trying to determine the embedding for a word that wasn't seen in the training phase?"
      ]
    },
    {
      "cell_type": "code",
      "metadata": {
        "id": "ja_eYFDNDsEa",
        "colab_type": "code",
        "colab": {}
      },
      "source": [
        "# model_word2vec.wv['sentiment']\n",
        "# \"word 'sentiment' not in vocabulary\""
      ],
      "execution_count": 0,
      "outputs": []
    },
    {
      "cell_type": "code",
      "metadata": {
        "id": "9gX1d9XoDzUX",
        "colab_type": "code",
        "colab": {}
      },
      "source": [
        "# model_word2vec.wv['random']\n",
        "# \"word 'random' not in vocabulary\""
      ],
      "execution_count": 0,
      "outputs": []
    },
    {
      "cell_type": "markdown",
      "metadata": {
        "id": "JG8YekffIi34",
        "colab_type": "text"
      },
      "source": [
        "*   If we are trying to determine the embeddings for the words 'sentiment' and 'random', which did not exist in the training phase, we will get the following error: \"word '...' not in vocabulary\".\n",
        "*   Word2Vec cannot show embeddings for words that were not seen in the training phase\n",
        "\n"
      ]
    },
    {
      "cell_type": "markdown",
      "metadata": {
        "id": "NtJ3DZK2Ddt_",
        "colab_type": "text"
      },
      "source": [
        "## Visualization"
      ]
    },
    {
      "cell_type": "code",
      "metadata": {
        "id": "TYpI_YS6DduA",
        "colab_type": "code",
        "outputId": "c79eada9-ab54-4c90-8a57-1a25585510c1",
        "colab": {
          "base_uri": "https://localhost:8080/",
          "height": 425
        }
      },
      "source": [
        "X_word2vec = model_word2vec.wv[word_list]\n",
        "X_word2vec"
      ],
      "execution_count": 9,
      "outputs": [
        {
          "output_type": "execute_result",
          "data": {
            "text/plain": [
              "array([[-0.07902575, -0.06842621,  0.07083109,  0.08555245],\n",
              "       [ 0.09756257, -0.05231469, -0.08910951,  0.09866431],\n",
              "       [ 0.06362847, -0.03827805, -0.00503045,  0.01877309],\n",
              "       [-0.0491444 ,  0.04018881, -0.11751047,  0.07474335],\n",
              "       [-0.04847693, -0.02630245,  0.03138343, -0.07643729],\n",
              "       [ 0.02418801,  0.11990099,  0.07720531,  0.0222541 ],\n",
              "       [ 0.02726939, -0.05427095, -0.03311149,  0.00594523],\n",
              "       [-0.01241367,  0.09394597,  0.08032301, -0.10774031],\n",
              "       [-0.02654121, -0.11094412,  0.05059164, -0.10145399],\n",
              "       [ 0.03353186, -0.06959727,  0.08702777, -0.08627736],\n",
              "       [ 0.06110029, -0.0543455 ,  0.1092888 ,  0.08007254],\n",
              "       [ 0.09169698,  0.02508538, -0.03747644, -0.07516889],\n",
              "       [ 0.01587466, -0.06909975,  0.03416497,  0.05477782],\n",
              "       [-0.06119813,  0.11127528,  0.03100854,  0.07332224],\n",
              "       [ 0.04481099, -0.00627586,  0.0255466 , -0.08535679],\n",
              "       [-0.08459608,  0.00687029, -0.10617413,  0.11529242],\n",
              "       [ 0.12194087, -0.06503996, -0.09925091,  0.01915032],\n",
              "       [-0.11274507, -0.06061362,  0.04621434,  0.08412659],\n",
              "       [ 0.07308176, -0.07919075, -0.01515623, -0.06549179],\n",
              "       [ 0.06168042, -0.03296467, -0.05169556, -0.03581213],\n",
              "       [-0.11999586,  0.12344259, -0.10011269,  0.07601557],\n",
              "       [-0.00063897,  0.11228635, -0.03929214, -0.10519066],\n",
              "       [-0.08088935, -0.05470875, -0.07117611,  0.02337739]],\n",
              "      dtype=float32)"
            ]
          },
          "metadata": {
            "tags": []
          },
          "execution_count": 9
        }
      ]
    },
    {
      "cell_type": "code",
      "metadata": {
        "id": "KQYXsC-RDduD",
        "colab_type": "code",
        "outputId": "c1b88289-3cc0-4810-93d7-611be4ddee79",
        "colab": {
          "base_uri": "https://localhost:8080/",
          "height": 408
        }
      },
      "source": [
        "# Fit a 2D PCA model to the vectors\n",
        "pca_word2vec = PCA(n_components=2).fit_transform(X_word2vec)\n",
        "pca_word2vec"
      ],
      "execution_count": 10,
      "outputs": [
        {
          "output_type": "execute_result",
          "data": {
            "text/plain": [
              "array([[ 4.82901968e-02, -3.27646062e-02],\n",
              "       [ 2.78435033e-02, -1.34967715e-01],\n",
              "       [-3.38228233e-02, -4.84774373e-02],\n",
              "       [ 1.34071380e-01, -1.66592002e-02],\n",
              "       [-4.65583839e-02,  5.28310500e-02],\n",
              "       [ 1.47776138e-02,  1.08762912e-01],\n",
              "       [-1.79692153e-02, -5.21891788e-02],\n",
              "       [-6.26698434e-02,  1.63020298e-01],\n",
              "       [-1.12177148e-01,  1.14603390e-05],\n",
              "       [-1.33374840e-01,  1.69975515e-02],\n",
              "       [-4.01110686e-02, -5.13209663e-02],\n",
              "       [-7.70343989e-02,  2.41710581e-02],\n",
              "       [-9.73050855e-03, -6.07987307e-02],\n",
              "       [ 1.09025337e-01,  9.00992602e-02],\n",
              "       [-9.33695957e-02,  4.07283083e-02],\n",
              "       [ 1.64153561e-01, -4.60125282e-02],\n",
              "       [-3.90255116e-02, -1.18142202e-01],\n",
              "       [ 7.74538293e-02, -2.35672314e-02],\n",
              "       [-1.05815634e-01, -4.59795073e-02],\n",
              "       [-4.98274900e-02, -3.33824158e-02],\n",
              "       [ 1.95904285e-01,  7.37552196e-02],\n",
              "       [-1.59421116e-02,  1.32832646e-01],\n",
              "       [ 6.59088492e-02, -3.89480144e-02]], dtype=float32)"
            ]
          },
          "metadata": {
            "tags": []
          },
          "execution_count": 10
        }
      ]
    },
    {
      "cell_type": "code",
      "metadata": {
        "id": "Mnohc1IJ_32z",
        "colab_type": "code",
        "outputId": "cb5580ef-58fc-4218-8b80-46698245ebbf",
        "colab": {
          "base_uri": "https://localhost:8080/",
          "height": 542
        }
      },
      "source": [
        "fig = px.scatter(x=pca_word2vec[:, 0], y=pca_word2vec[:, 1],\n",
        "                 text = word_list)\n",
        "fig.update_traces(textposition='top center', \n",
        "                  textfont_size=14)\n",
        "fig.show()"
      ],
      "execution_count": 11,
      "outputs": [
        {
          "output_type": "display_data",
          "data": {
            "text/html": [
              "<html>\n",
              "<head><meta charset=\"utf-8\" /></head>\n",
              "<body>\n",
              "    <div>\n",
              "            <script src=\"https://cdnjs.cloudflare.com/ajax/libs/mathjax/2.7.5/MathJax.js?config=TeX-AMS-MML_SVG\"></script><script type=\"text/javascript\">if (window.MathJax) {MathJax.Hub.Config({SVG: {font: \"STIX-Web\"}});}</script>\n",
              "                <script type=\"text/javascript\">window.PlotlyConfig = {MathJaxConfig: 'local'};</script>\n",
              "        <script src=\"https://cdn.plot.ly/plotly-latest.min.js\"></script>    \n",
              "            <div id=\"7fe110e9-e3f3-4d1f-9fd0-37316420e64a\" class=\"plotly-graph-div\" style=\"height:525px; width:100%;\"></div>\n",
              "            <script type=\"text/javascript\">\n",
              "                \n",
              "                    window.PLOTLYENV=window.PLOTLYENV || {};\n",
              "                    \n",
              "                if (document.getElementById(\"7fe110e9-e3f3-4d1f-9fd0-37316420e64a\")) {\n",
              "                    Plotly.newPlot(\n",
              "                        '7fe110e9-e3f3-4d1f-9fd0-37316420e64a',\n",
              "                        [{\"hoverlabel\": {\"namelength\": 0}, \"hovertemplate\": \"x=%{x}<br>y=%{y}<br>text=%{text}\", \"legendgroup\": \"\", \"marker\": {\"color\": \"#636efa\", \"symbol\": \"circle\"}, \"mode\": \"markers+text\", \"name\": \"\", \"showlegend\": false, \"text\": [\"we\", \"are\", \"going\", \"to\", \"use\", \"word2vec\", \"also\", \"will\", \"fasttext\", \"this\", \"is\", \"a\", \"sentence\", \"which\", \"embedding\", \"the\", \"best\", \"for\", \"these\", \"sentences\", \"lets\", \"find\", \"out\"], \"textfont\": {\"size\": 14}, \"textposition\": \"top center\", \"type\": \"scatter\", \"x\": [0.0482901968061924, 0.027843503281474113, -0.03382282331585884, 0.13407137989997864, -0.04655838385224342, 0.014777613803744316, -0.017969215288758278, -0.06266984343528748, -0.11217714846134186, -0.13337484002113342, -0.04011106863617897, -0.07703439891338348, -0.009730508551001549, 0.10902533680200577, -0.09336959570646286, 0.1641535609960556, -0.03902551159262657, 0.07745382934808731, -0.10581563413143158, -0.049827490001916885, 0.19590428471565247, -0.015942111611366272, 0.06590884923934937], \"xaxis\": \"x\", \"y\": [-0.032764606177806854, -0.13496771454811096, -0.04847743734717369, -0.016659200191497803, 0.052831050008535385, 0.10876291245222092, -0.0521891787648201, 0.1630202978849411, 1.1460339010227472e-05, 0.016997551545500755, -0.051320966333150864, 0.02417105808854103, -0.060798730701208115, 0.0900992602109909, 0.040728308260440826, -0.046012528240680695, -0.11814220249652863, -0.023567231371998787, -0.04597950726747513, -0.033382415771484375, 0.07375521957874298, 0.13283264636993408, -0.03894801437854767], \"yaxis\": \"y\"}],\n",
              "                        {\"legend\": {\"tracegroupgap\": 0}, \"margin\": {\"t\": 60}, \"template\": {\"data\": {\"bar\": [{\"error_x\": {\"color\": \"#2a3f5f\"}, \"error_y\": {\"color\": \"#2a3f5f\"}, \"marker\": {\"line\": {\"color\": \"#E5ECF6\", \"width\": 0.5}}, \"type\": \"bar\"}], \"barpolar\": [{\"marker\": {\"line\": {\"color\": \"#E5ECF6\", \"width\": 0.5}}, \"type\": \"barpolar\"}], \"carpet\": [{\"aaxis\": {\"endlinecolor\": \"#2a3f5f\", \"gridcolor\": \"white\", \"linecolor\": \"white\", \"minorgridcolor\": \"white\", \"startlinecolor\": \"#2a3f5f\"}, \"baxis\": {\"endlinecolor\": \"#2a3f5f\", \"gridcolor\": \"white\", \"linecolor\": \"white\", \"minorgridcolor\": \"white\", \"startlinecolor\": \"#2a3f5f\"}, \"type\": \"carpet\"}], \"choropleth\": [{\"colorbar\": {\"outlinewidth\": 0, \"ticks\": \"\"}, \"type\": \"choropleth\"}], \"contour\": [{\"colorbar\": {\"outlinewidth\": 0, \"ticks\": \"\"}, \"colorscale\": [[0.0, \"#0d0887\"], [0.1111111111111111, \"#46039f\"], [0.2222222222222222, \"#7201a8\"], [0.3333333333333333, \"#9c179e\"], [0.4444444444444444, \"#bd3786\"], [0.5555555555555556, \"#d8576b\"], [0.6666666666666666, \"#ed7953\"], [0.7777777777777778, \"#fb9f3a\"], [0.8888888888888888, \"#fdca26\"], [1.0, \"#f0f921\"]], \"type\": \"contour\"}], \"contourcarpet\": [{\"colorbar\": {\"outlinewidth\": 0, \"ticks\": \"\"}, \"type\": \"contourcarpet\"}], \"heatmap\": [{\"colorbar\": {\"outlinewidth\": 0, \"ticks\": \"\"}, \"colorscale\": [[0.0, \"#0d0887\"], [0.1111111111111111, \"#46039f\"], [0.2222222222222222, \"#7201a8\"], [0.3333333333333333, \"#9c179e\"], [0.4444444444444444, \"#bd3786\"], [0.5555555555555556, \"#d8576b\"], [0.6666666666666666, \"#ed7953\"], [0.7777777777777778, \"#fb9f3a\"], [0.8888888888888888, \"#fdca26\"], [1.0, \"#f0f921\"]], \"type\": \"heatmap\"}], \"heatmapgl\": [{\"colorbar\": {\"outlinewidth\": 0, \"ticks\": \"\"}, \"colorscale\": [[0.0, \"#0d0887\"], [0.1111111111111111, \"#46039f\"], [0.2222222222222222, \"#7201a8\"], [0.3333333333333333, \"#9c179e\"], [0.4444444444444444, \"#bd3786\"], [0.5555555555555556, \"#d8576b\"], [0.6666666666666666, \"#ed7953\"], [0.7777777777777778, \"#fb9f3a\"], [0.8888888888888888, \"#fdca26\"], [1.0, \"#f0f921\"]], \"type\": \"heatmapgl\"}], \"histogram\": [{\"marker\": {\"colorbar\": {\"outlinewidth\": 0, \"ticks\": \"\"}}, \"type\": \"histogram\"}], \"histogram2d\": [{\"colorbar\": {\"outlinewidth\": 0, \"ticks\": \"\"}, \"colorscale\": [[0.0, \"#0d0887\"], [0.1111111111111111, \"#46039f\"], [0.2222222222222222, \"#7201a8\"], [0.3333333333333333, \"#9c179e\"], [0.4444444444444444, \"#bd3786\"], [0.5555555555555556, \"#d8576b\"], [0.6666666666666666, \"#ed7953\"], [0.7777777777777778, \"#fb9f3a\"], [0.8888888888888888, \"#fdca26\"], [1.0, \"#f0f921\"]], \"type\": \"histogram2d\"}], \"histogram2dcontour\": [{\"colorbar\": {\"outlinewidth\": 0, \"ticks\": \"\"}, \"colorscale\": [[0.0, \"#0d0887\"], [0.1111111111111111, \"#46039f\"], [0.2222222222222222, \"#7201a8\"], [0.3333333333333333, \"#9c179e\"], [0.4444444444444444, \"#bd3786\"], [0.5555555555555556, \"#d8576b\"], [0.6666666666666666, \"#ed7953\"], [0.7777777777777778, \"#fb9f3a\"], [0.8888888888888888, \"#fdca26\"], [1.0, \"#f0f921\"]], \"type\": \"histogram2dcontour\"}], \"mesh3d\": [{\"colorbar\": {\"outlinewidth\": 0, \"ticks\": \"\"}, \"type\": \"mesh3d\"}], \"parcoords\": [{\"line\": {\"colorbar\": {\"outlinewidth\": 0, \"ticks\": \"\"}}, \"type\": \"parcoords\"}], \"pie\": [{\"automargin\": true, \"type\": \"pie\"}], \"scatter\": [{\"marker\": {\"colorbar\": {\"outlinewidth\": 0, \"ticks\": \"\"}}, \"type\": \"scatter\"}], \"scatter3d\": [{\"line\": {\"colorbar\": {\"outlinewidth\": 0, \"ticks\": \"\"}}, \"marker\": {\"colorbar\": {\"outlinewidth\": 0, \"ticks\": \"\"}}, \"type\": \"scatter3d\"}], \"scattercarpet\": [{\"marker\": {\"colorbar\": {\"outlinewidth\": 0, \"ticks\": \"\"}}, \"type\": \"scattercarpet\"}], \"scattergeo\": [{\"marker\": {\"colorbar\": {\"outlinewidth\": 0, \"ticks\": \"\"}}, \"type\": \"scattergeo\"}], \"scattergl\": [{\"marker\": {\"colorbar\": {\"outlinewidth\": 0, \"ticks\": \"\"}}, \"type\": \"scattergl\"}], \"scattermapbox\": [{\"marker\": {\"colorbar\": {\"outlinewidth\": 0, \"ticks\": \"\"}}, \"type\": \"scattermapbox\"}], \"scatterpolar\": [{\"marker\": {\"colorbar\": {\"outlinewidth\": 0, \"ticks\": \"\"}}, \"type\": \"scatterpolar\"}], \"scatterpolargl\": [{\"marker\": {\"colorbar\": {\"outlinewidth\": 0, \"ticks\": \"\"}}, \"type\": \"scatterpolargl\"}], \"scatterternary\": [{\"marker\": {\"colorbar\": {\"outlinewidth\": 0, \"ticks\": \"\"}}, \"type\": \"scatterternary\"}], \"surface\": [{\"colorbar\": {\"outlinewidth\": 0, \"ticks\": \"\"}, \"colorscale\": [[0.0, \"#0d0887\"], [0.1111111111111111, \"#46039f\"], [0.2222222222222222, \"#7201a8\"], [0.3333333333333333, \"#9c179e\"], [0.4444444444444444, \"#bd3786\"], [0.5555555555555556, \"#d8576b\"], [0.6666666666666666, \"#ed7953\"], [0.7777777777777778, \"#fb9f3a\"], [0.8888888888888888, \"#fdca26\"], [1.0, \"#f0f921\"]], \"type\": \"surface\"}], \"table\": [{\"cells\": {\"fill\": {\"color\": \"#EBF0F8\"}, \"line\": {\"color\": \"white\"}}, \"header\": {\"fill\": {\"color\": \"#C8D4E3\"}, \"line\": {\"color\": \"white\"}}, \"type\": \"table\"}]}, \"layout\": {\"annotationdefaults\": {\"arrowcolor\": \"#2a3f5f\", \"arrowhead\": 0, \"arrowwidth\": 1}, \"coloraxis\": {\"colorbar\": {\"outlinewidth\": 0, \"ticks\": \"\"}}, \"colorscale\": {\"diverging\": [[0, \"#8e0152\"], [0.1, \"#c51b7d\"], [0.2, \"#de77ae\"], [0.3, \"#f1b6da\"], [0.4, \"#fde0ef\"], [0.5, \"#f7f7f7\"], [0.6, \"#e6f5d0\"], [0.7, \"#b8e186\"], [0.8, \"#7fbc41\"], [0.9, \"#4d9221\"], [1, \"#276419\"]], \"sequential\": [[0.0, \"#0d0887\"], [0.1111111111111111, \"#46039f\"], [0.2222222222222222, \"#7201a8\"], [0.3333333333333333, \"#9c179e\"], [0.4444444444444444, \"#bd3786\"], [0.5555555555555556, \"#d8576b\"], [0.6666666666666666, \"#ed7953\"], [0.7777777777777778, \"#fb9f3a\"], [0.8888888888888888, \"#fdca26\"], [1.0, \"#f0f921\"]], \"sequentialminus\": [[0.0, \"#0d0887\"], [0.1111111111111111, \"#46039f\"], [0.2222222222222222, \"#7201a8\"], [0.3333333333333333, \"#9c179e\"], [0.4444444444444444, \"#bd3786\"], [0.5555555555555556, \"#d8576b\"], [0.6666666666666666, \"#ed7953\"], [0.7777777777777778, \"#fb9f3a\"], [0.8888888888888888, \"#fdca26\"], [1.0, \"#f0f921\"]]}, \"colorway\": [\"#636efa\", \"#EF553B\", \"#00cc96\", \"#ab63fa\", \"#FFA15A\", \"#19d3f3\", \"#FF6692\", \"#B6E880\", \"#FF97FF\", \"#FECB52\"], \"font\": {\"color\": \"#2a3f5f\"}, \"geo\": {\"bgcolor\": \"white\", \"lakecolor\": \"white\", \"landcolor\": \"#E5ECF6\", \"showlakes\": true, \"showland\": true, \"subunitcolor\": \"white\"}, \"hoverlabel\": {\"align\": \"left\"}, \"hovermode\": \"closest\", \"mapbox\": {\"style\": \"light\"}, \"paper_bgcolor\": \"white\", \"plot_bgcolor\": \"#E5ECF6\", \"polar\": {\"angularaxis\": {\"gridcolor\": \"white\", \"linecolor\": \"white\", \"ticks\": \"\"}, \"bgcolor\": \"#E5ECF6\", \"radialaxis\": {\"gridcolor\": \"white\", \"linecolor\": \"white\", \"ticks\": \"\"}}, \"scene\": {\"xaxis\": {\"backgroundcolor\": \"#E5ECF6\", \"gridcolor\": \"white\", \"gridwidth\": 2, \"linecolor\": \"white\", \"showbackground\": true, \"ticks\": \"\", \"zerolinecolor\": \"white\"}, \"yaxis\": {\"backgroundcolor\": \"#E5ECF6\", \"gridcolor\": \"white\", \"gridwidth\": 2, \"linecolor\": \"white\", \"showbackground\": true, \"ticks\": \"\", \"zerolinecolor\": \"white\"}, \"zaxis\": {\"backgroundcolor\": \"#E5ECF6\", \"gridcolor\": \"white\", \"gridwidth\": 2, \"linecolor\": \"white\", \"showbackground\": true, \"ticks\": \"\", \"zerolinecolor\": \"white\"}}, \"shapedefaults\": {\"line\": {\"color\": \"#2a3f5f\"}}, \"ternary\": {\"aaxis\": {\"gridcolor\": \"white\", \"linecolor\": \"white\", \"ticks\": \"\"}, \"baxis\": {\"gridcolor\": \"white\", \"linecolor\": \"white\", \"ticks\": \"\"}, \"bgcolor\": \"#E5ECF6\", \"caxis\": {\"gridcolor\": \"white\", \"linecolor\": \"white\", \"ticks\": \"\"}}, \"title\": {\"x\": 0.05}, \"xaxis\": {\"automargin\": true, \"gridcolor\": \"white\", \"linecolor\": \"white\", \"ticks\": \"\", \"title\": {\"standoff\": 15}, \"zerolinecolor\": \"white\", \"zerolinewidth\": 2}, \"yaxis\": {\"automargin\": true, \"gridcolor\": \"white\", \"linecolor\": \"white\", \"ticks\": \"\", \"title\": {\"standoff\": 15}, \"zerolinecolor\": \"white\", \"zerolinewidth\": 2}}}, \"xaxis\": {\"anchor\": \"y\", \"domain\": [0.0, 1.0], \"title\": {\"text\": \"x\"}}, \"yaxis\": {\"anchor\": \"x\", \"domain\": [0.0, 1.0], \"title\": {\"text\": \"y\"}}},\n",
              "                        {\"responsive\": true}\n",
              "                    ).then(function(){\n",
              "                            \n",
              "var gd = document.getElementById('7fe110e9-e3f3-4d1f-9fd0-37316420e64a');\n",
              "var x = new MutationObserver(function (mutations, observer) {{\n",
              "        var display = window.getComputedStyle(gd).display;\n",
              "        if (!display || display === 'none') {{\n",
              "            console.log([gd, 'removed!']);\n",
              "            Plotly.purge(gd);\n",
              "            observer.disconnect();\n",
              "        }}\n",
              "}});\n",
              "\n",
              "// Listen for the removal of the full notebook cells\n",
              "var notebookContainer = gd.closest('#notebook-container');\n",
              "if (notebookContainer) {{\n",
              "    x.observe(notebookContainer, {childList: true});\n",
              "}}\n",
              "\n",
              "// Listen for the clearing of the current output cell\n",
              "var outputEl = gd.closest('.output');\n",
              "if (outputEl) {{\n",
              "    x.observe(outputEl, {childList: true});\n",
              "}}\n",
              "\n",
              "                        })\n",
              "                };\n",
              "                \n",
              "            </script>\n",
              "        </div>\n",
              "</body>\n",
              "</html>"
            ]
          },
          "metadata": {
            "tags": []
          }
        }
      ]
    },
    {
      "cell_type": "markdown",
      "metadata": {
        "id": "DIONYdDKDduk",
        "colab_type": "text"
      },
      "source": [
        "# 2. FastText - train your own Model. Default = CBOW (sg=0)"
      ]
    },
    {
      "cell_type": "code",
      "metadata": {
        "id": "xMQEtXgoDdul",
        "colab_type": "code",
        "colab": {}
      },
      "source": [
        "# Train model\n",
        "# Size of character ngrams default: min_n=3, max_n=6\n",
        "model_fasttext = FastText(sentences, min_count=1, size = 4)\n",
        "# seed=5, workers=1"
      ],
      "execution_count": 0,
      "outputs": []
    },
    {
      "cell_type": "code",
      "metadata": {
        "id": "GWYZp2hzDdup",
        "colab_type": "code",
        "outputId": "3d527ab0-f6a8-4431-9021-c8fd31ed4a59",
        "colab": {
          "base_uri": "https://localhost:8080/",
          "height": 54
        }
      },
      "source": [
        "# Summarize vocabulary\n",
        "word_list = list(model_fasttext.wv.vocab)\n",
        "print(word_list)"
      ],
      "execution_count": 13,
      "outputs": [
        {
          "output_type": "stream",
          "text": [
            "['we', 'are', 'going', 'to', 'use', 'word2vec', 'also', 'will', 'fasttext', 'this', 'is', 'a', 'sentence', 'which', 'embedding', 'the', 'best', 'for', 'these', 'sentences', 'lets', 'find', 'out']\n"
          ],
          "name": "stdout"
        }
      ]
    },
    {
      "cell_type": "code",
      "metadata": {
        "id": "Zbq3KIKVDdur",
        "colab_type": "code",
        "outputId": "f7c81fbf-7e3d-424a-a2f8-e730abcce1de",
        "colab": {
          "base_uri": "https://localhost:8080/",
          "height": 34
        }
      },
      "source": [
        "# Access vector for one word\n",
        "print(model_fasttext.wv['sentence'])"
      ],
      "execution_count": 14,
      "outputs": [
        {
          "output_type": "stream",
          "text": [
            "[ 0.00564454 -0.02561449 -0.02562428 -0.02249124]\n"
          ],
          "name": "stdout"
        }
      ]
    },
    {
      "cell_type": "markdown",
      "metadata": {
        "id": "J3Rsi4RzDG3n",
        "colab_type": "text"
      },
      "source": [
        "## What happens if we are trying to determine the embedding for a word that wasn't seen in the training phase?"
      ]
    },
    {
      "cell_type": "code",
      "metadata": {
        "id": "A3dNjO0i-pTj",
        "colab_type": "code",
        "outputId": "80b1b39c-73a7-477f-b340-5ac36e40d040",
        "colab": {
          "base_uri": "https://localhost:8080/",
          "height": 34
        }
      },
      "source": [
        "model_fasttext.wv['sentiment']"
      ],
      "execution_count": 15,
      "outputs": [
        {
          "output_type": "execute_result",
          "data": {
            "text/plain": [
              "array([-0.03443928, -0.06827369, -0.06017304,  0.007128  ], dtype=float32)"
            ]
          },
          "metadata": {
            "tags": []
          },
          "execution_count": 15
        }
      ]
    },
    {
      "cell_type": "code",
      "metadata": {
        "id": "mRWhtmxf-1YI",
        "colab_type": "code",
        "colab": {}
      },
      "source": [
        "# model_fasttext.wv['random']\n",
        "# 'all ngrams for word random absent from model'"
      ],
      "execution_count": 0,
      "outputs": []
    },
    {
      "cell_type": "markdown",
      "metadata": {
        "id": "mDJwaiWMJGBx",
        "colab_type": "text"
      },
      "source": [
        "*   If we are trying to determine the embedding for the word 'sentiment' (which was not in the training phase), fasttext can show it's embeddings because the word's character ngrams were present in the training phase\n",
        "*   For the word 'random', we are getting an error because all ngrams for the word are absent from model\n",
        "*   FastText can show embeddings for words that were not seen in the training phase, as long as the ngrams were present in the training\n",
        "\n"
      ]
    },
    {
      "cell_type": "markdown",
      "metadata": {
        "id": "MbhwdEIVDduu",
        "colab_type": "text"
      },
      "source": [
        "## Visualisation"
      ]
    },
    {
      "cell_type": "code",
      "metadata": {
        "id": "_EpqUkdODduu",
        "colab_type": "code",
        "outputId": "142e7d7a-9e87-4675-9aa1-fe4b33ce1637",
        "colab": {
          "base_uri": "https://localhost:8080/",
          "height": 799
        }
      },
      "source": [
        "X_fasttext = model_fasttext.wv[word_list]\n",
        "X_fasttext"
      ],
      "execution_count": 17,
      "outputs": [
        {
          "output_type": "execute_result",
          "data": {
            "text/plain": [
              "array([[ 1.21204033e-02,  4.99350205e-02, -8.78660530e-02,\n",
              "        -6.07791878e-02],\n",
              "       [ 6.21617176e-02,  8.45489427e-02, -1.37556955e-01,\n",
              "         1.46440333e-02],\n",
              "       [-2.61515211e-02, -1.09270103e-01, -3.84047963e-02,\n",
              "         5.08586355e-02],\n",
              "       [ 4.00994942e-02,  1.83750257e-01, -4.02536131e-02,\n",
              "         4.12145779e-02],\n",
              "       [-6.26747683e-02, -9.83016379e-03,  1.28589766e-02,\n",
              "         3.35453488e-02],\n",
              "       [ 1.34324366e-02,  4.72705103e-02, -1.83642488e-02,\n",
              "         2.53529791e-02],\n",
              "       [-2.73731463e-02,  1.74377933e-02,  5.19142635e-02,\n",
              "         4.21980470e-02],\n",
              "       [ 1.66560952e-02,  8.05674866e-03,  1.59828421e-02,\n",
              "        -2.28994116e-02],\n",
              "       [ 2.45919377e-02,  2.28262017e-03, -3.85213620e-03,\n",
              "        -3.79294008e-02],\n",
              "       [ 4.10076343e-02, -5.09262718e-02,  3.17586921e-02,\n",
              "         1.36985490e-03],\n",
              "       [ 1.19109683e-01, -2.28398312e-02, -1.76607296e-02,\n",
              "         5.28974459e-02],\n",
              "       [-9.80637074e-02,  3.04356329e-02,  1.69686362e-01,\n",
              "        -1.44012511e-01],\n",
              "       [ 5.64453658e-03, -2.56144851e-02, -2.56242789e-02,\n",
              "        -2.24912427e-02],\n",
              "       [-2.61155758e-02, -3.11546330e-03,  5.15929312e-02,\n",
              "        -1.31164808e-02],\n",
              "       [ 6.18141331e-03, -3.39346053e-03,  1.12899411e-02,\n",
              "        -3.01785325e-03],\n",
              "       [-5.34480885e-02, -5.40667474e-02,  1.38786035e-02,\n",
              "         1.95627343e-02],\n",
              "       [ 1.40558594e-04, -3.82642448e-02,  1.39196217e-02,\n",
              "         5.48865600e-03],\n",
              "       [ 4.03086506e-02, -1.58417765e-02,  7.93633983e-02,\n",
              "        -7.28361234e-02],\n",
              "       [-8.63246620e-02,  8.77593644e-03, -1.12405820e-02,\n",
              "         2.59549189e-02],\n",
              "       [ 2.53861677e-02, -3.72854099e-02, -8.34503956e-03,\n",
              "        -2.20982898e-02],\n",
              "       [-9.60664731e-03,  4.26428989e-02, -2.46387497e-02,\n",
              "         2.73399591e-03],\n",
              "       [ 2.60110814e-02, -3.19710784e-02,  8.72155093e-03,\n",
              "         7.55289868e-02],\n",
              "       [-2.46716617e-03,  6.48487359e-02, -5.42003252e-02,\n",
              "         1.64188612e-02]], dtype=float32)"
            ]
          },
          "metadata": {
            "tags": []
          },
          "execution_count": 17
        }
      ]
    },
    {
      "cell_type": "code",
      "metadata": {
        "id": "zDuBOcrLDdux",
        "colab_type": "code",
        "outputId": "ff062fa7-8f7d-446f-9797-ba8d0d3c94dd",
        "colab": {
          "base_uri": "https://localhost:8080/",
          "height": 408
        }
      },
      "source": [
        "# Fit a 2D PCA model to the vectors\n",
        "pca_fasttext = PCA(n_components=2).fit_transform(X_fasttext)\n",
        "pca_fasttext"
      ],
      "execution_count": 18,
      "outputs": [
        {
          "output_type": "execute_result",
          "data": {
            "text/plain": [
              "array([[-0.06378063,  0.05084066],\n",
              "       [-0.16215678,  0.03011004],\n",
              "       [ 0.01165616, -0.12420192],\n",
              "       [-0.13164093,  0.12147529],\n",
              "       [ 0.0303038 , -0.01728766],\n",
              "       [-0.0437893 ,  0.01920552],\n",
              "       [ 0.03027428,  0.00294396],\n",
              "       [ 0.01348476,  0.01295085],\n",
              "       [ 0.00353009,  0.01068245],\n",
              "       [ 0.03002763, -0.05011297],\n",
              "       [-0.0682824 , -0.06947778],\n",
              "       [ 0.20815597,  0.12990944],\n",
              "       [ 0.00097946, -0.02103066],\n",
              "       [ 0.05801173,  0.01082189],\n",
              "       [ 0.01170602, -0.00529915],\n",
              "       [ 0.05024039, -0.04995183],\n",
              "       [ 0.02708293, -0.03785813],\n",
              "       [ 0.07808102,  0.02213352],\n",
              "       [ 0.01759859,  0.00195458],\n",
              "       [ 0.01011732, -0.03146114],\n",
              "       [-0.02882611,  0.02822603],\n",
              "       [-0.01541857, -0.06975606],\n",
              "       [-0.06735545,  0.03518307]], dtype=float32)"
            ]
          },
          "metadata": {
            "tags": []
          },
          "execution_count": 18
        }
      ]
    },
    {
      "cell_type": "code",
      "metadata": {
        "id": "gNmJj7m4CNfQ",
        "colab_type": "code",
        "outputId": "041f2ece-064b-40e2-a6d8-bf8d6ae293a2",
        "colab": {
          "base_uri": "https://localhost:8080/",
          "height": 542
        }
      },
      "source": [
        "fig = px.scatter(x=pca_fasttext[:, 0], y=pca_fasttext[:, 1],\n",
        "                 text = word_list)\n",
        "fig.update_traces(textposition='top center', \n",
        "                  textfont_size=14)\n",
        "fig.show()"
      ],
      "execution_count": 19,
      "outputs": [
        {
          "output_type": "display_data",
          "data": {
            "text/html": [
              "<html>\n",
              "<head><meta charset=\"utf-8\" /></head>\n",
              "<body>\n",
              "    <div>\n",
              "            <script src=\"https://cdnjs.cloudflare.com/ajax/libs/mathjax/2.7.5/MathJax.js?config=TeX-AMS-MML_SVG\"></script><script type=\"text/javascript\">if (window.MathJax) {MathJax.Hub.Config({SVG: {font: \"STIX-Web\"}});}</script>\n",
              "                <script type=\"text/javascript\">window.PlotlyConfig = {MathJaxConfig: 'local'};</script>\n",
              "        <script src=\"https://cdn.plot.ly/plotly-latest.min.js\"></script>    \n",
              "            <div id=\"3908d54f-08e0-41c9-abe6-b6da3afdef3e\" class=\"plotly-graph-div\" style=\"height:525px; width:100%;\"></div>\n",
              "            <script type=\"text/javascript\">\n",
              "                \n",
              "                    window.PLOTLYENV=window.PLOTLYENV || {};\n",
              "                    \n",
              "                if (document.getElementById(\"3908d54f-08e0-41c9-abe6-b6da3afdef3e\")) {\n",
              "                    Plotly.newPlot(\n",
              "                        '3908d54f-08e0-41c9-abe6-b6da3afdef3e',\n",
              "                        [{\"hoverlabel\": {\"namelength\": 0}, \"hovertemplate\": \"x=%{x}<br>y=%{y}<br>text=%{text}\", \"legendgroup\": \"\", \"marker\": {\"color\": \"#636efa\", \"symbol\": \"circle\"}, \"mode\": \"markers+text\", \"name\": \"\", \"showlegend\": false, \"text\": [\"we\", \"are\", \"going\", \"to\", \"use\", \"word2vec\", \"also\", \"will\", \"fasttext\", \"this\", \"is\", \"a\", \"sentence\", \"which\", \"embedding\", \"the\", \"best\", \"for\", \"these\", \"sentences\", \"lets\", \"find\", \"out\"], \"textfont\": {\"size\": 14}, \"textposition\": \"top center\", \"type\": \"scatter\", \"x\": [-0.06378062814474106, -0.16215677559375763, 0.011656164191663265, -0.13164092600345612, 0.030303802341222763, -0.04378930479288101, 0.030274279415607452, 0.01348476018756628, 0.0035300927702337503, 0.030027633532881737, -0.06828240305185318, 0.20815597474575043, 0.000979463686235249, 0.058011725544929504, 0.011706024408340454, 0.05024039372801781, 0.027082934975624084, 0.07808101922273636, 0.0175985936075449, 0.01011731754988432, -0.028826113790273666, -0.015418569557368755, -0.0673554539680481], \"xaxis\": \"x\", \"y\": [0.05084065720438957, 0.030110036954283714, -0.12420192360877991, 0.12147529423236847, -0.017287656664848328, 0.019205523654818535, 0.0029439623467624187, 0.01295084971934557, 0.010682445950806141, -0.05011296644806862, -0.06947778165340424, 0.1299094408750534, -0.021030664443969727, 0.010821886360645294, -0.005299154203385115, -0.04995182529091835, -0.037858132272958755, 0.022133518010377884, 0.001954581355676055, -0.031461142003536224, 0.028226027265191078, -0.06975606083869934, 0.03518306836485863], \"yaxis\": \"y\"}],\n",
              "                        {\"legend\": {\"tracegroupgap\": 0}, \"margin\": {\"t\": 60}, \"template\": {\"data\": {\"bar\": [{\"error_x\": {\"color\": \"#2a3f5f\"}, \"error_y\": {\"color\": \"#2a3f5f\"}, \"marker\": {\"line\": {\"color\": \"#E5ECF6\", \"width\": 0.5}}, \"type\": \"bar\"}], \"barpolar\": [{\"marker\": {\"line\": {\"color\": \"#E5ECF6\", \"width\": 0.5}}, \"type\": \"barpolar\"}], \"carpet\": [{\"aaxis\": {\"endlinecolor\": \"#2a3f5f\", \"gridcolor\": \"white\", \"linecolor\": \"white\", \"minorgridcolor\": \"white\", \"startlinecolor\": \"#2a3f5f\"}, \"baxis\": {\"endlinecolor\": \"#2a3f5f\", \"gridcolor\": \"white\", \"linecolor\": \"white\", \"minorgridcolor\": \"white\", \"startlinecolor\": \"#2a3f5f\"}, \"type\": \"carpet\"}], \"choropleth\": [{\"colorbar\": {\"outlinewidth\": 0, \"ticks\": \"\"}, \"type\": \"choropleth\"}], \"contour\": [{\"colorbar\": {\"outlinewidth\": 0, \"ticks\": \"\"}, \"colorscale\": [[0.0, \"#0d0887\"], [0.1111111111111111, \"#46039f\"], [0.2222222222222222, \"#7201a8\"], [0.3333333333333333, \"#9c179e\"], [0.4444444444444444, \"#bd3786\"], [0.5555555555555556, \"#d8576b\"], [0.6666666666666666, \"#ed7953\"], [0.7777777777777778, \"#fb9f3a\"], [0.8888888888888888, \"#fdca26\"], [1.0, \"#f0f921\"]], \"type\": \"contour\"}], \"contourcarpet\": [{\"colorbar\": {\"outlinewidth\": 0, \"ticks\": \"\"}, \"type\": \"contourcarpet\"}], \"heatmap\": [{\"colorbar\": {\"outlinewidth\": 0, \"ticks\": \"\"}, \"colorscale\": [[0.0, \"#0d0887\"], [0.1111111111111111, \"#46039f\"], [0.2222222222222222, \"#7201a8\"], [0.3333333333333333, \"#9c179e\"], [0.4444444444444444, \"#bd3786\"], [0.5555555555555556, \"#d8576b\"], [0.6666666666666666, \"#ed7953\"], [0.7777777777777778, \"#fb9f3a\"], [0.8888888888888888, \"#fdca26\"], [1.0, \"#f0f921\"]], \"type\": \"heatmap\"}], \"heatmapgl\": [{\"colorbar\": {\"outlinewidth\": 0, \"ticks\": \"\"}, \"colorscale\": [[0.0, \"#0d0887\"], [0.1111111111111111, \"#46039f\"], [0.2222222222222222, \"#7201a8\"], [0.3333333333333333, \"#9c179e\"], [0.4444444444444444, \"#bd3786\"], [0.5555555555555556, \"#d8576b\"], [0.6666666666666666, \"#ed7953\"], [0.7777777777777778, \"#fb9f3a\"], [0.8888888888888888, \"#fdca26\"], [1.0, \"#f0f921\"]], \"type\": \"heatmapgl\"}], \"histogram\": [{\"marker\": {\"colorbar\": {\"outlinewidth\": 0, \"ticks\": \"\"}}, \"type\": \"histogram\"}], \"histogram2d\": [{\"colorbar\": {\"outlinewidth\": 0, \"ticks\": \"\"}, \"colorscale\": [[0.0, \"#0d0887\"], [0.1111111111111111, \"#46039f\"], [0.2222222222222222, \"#7201a8\"], [0.3333333333333333, \"#9c179e\"], [0.4444444444444444, \"#bd3786\"], [0.5555555555555556, \"#d8576b\"], [0.6666666666666666, \"#ed7953\"], [0.7777777777777778, \"#fb9f3a\"], [0.8888888888888888, \"#fdca26\"], [1.0, \"#f0f921\"]], \"type\": \"histogram2d\"}], \"histogram2dcontour\": [{\"colorbar\": {\"outlinewidth\": 0, \"ticks\": \"\"}, \"colorscale\": [[0.0, \"#0d0887\"], [0.1111111111111111, \"#46039f\"], [0.2222222222222222, \"#7201a8\"], [0.3333333333333333, \"#9c179e\"], [0.4444444444444444, \"#bd3786\"], [0.5555555555555556, \"#d8576b\"], [0.6666666666666666, \"#ed7953\"], [0.7777777777777778, \"#fb9f3a\"], [0.8888888888888888, \"#fdca26\"], [1.0, \"#f0f921\"]], \"type\": \"histogram2dcontour\"}], \"mesh3d\": [{\"colorbar\": {\"outlinewidth\": 0, \"ticks\": \"\"}, \"type\": \"mesh3d\"}], \"parcoords\": [{\"line\": {\"colorbar\": {\"outlinewidth\": 0, \"ticks\": \"\"}}, \"type\": \"parcoords\"}], \"pie\": [{\"automargin\": true, \"type\": \"pie\"}], \"scatter\": [{\"marker\": {\"colorbar\": {\"outlinewidth\": 0, \"ticks\": \"\"}}, \"type\": \"scatter\"}], \"scatter3d\": [{\"line\": {\"colorbar\": {\"outlinewidth\": 0, \"ticks\": \"\"}}, \"marker\": {\"colorbar\": {\"outlinewidth\": 0, \"ticks\": \"\"}}, \"type\": \"scatter3d\"}], \"scattercarpet\": [{\"marker\": {\"colorbar\": {\"outlinewidth\": 0, \"ticks\": \"\"}}, \"type\": \"scattercarpet\"}], \"scattergeo\": [{\"marker\": {\"colorbar\": {\"outlinewidth\": 0, \"ticks\": \"\"}}, \"type\": \"scattergeo\"}], \"scattergl\": [{\"marker\": {\"colorbar\": {\"outlinewidth\": 0, \"ticks\": \"\"}}, \"type\": \"scattergl\"}], \"scattermapbox\": [{\"marker\": {\"colorbar\": {\"outlinewidth\": 0, \"ticks\": \"\"}}, \"type\": \"scattermapbox\"}], \"scatterpolar\": [{\"marker\": {\"colorbar\": {\"outlinewidth\": 0, \"ticks\": \"\"}}, \"type\": \"scatterpolar\"}], \"scatterpolargl\": [{\"marker\": {\"colorbar\": {\"outlinewidth\": 0, \"ticks\": \"\"}}, \"type\": \"scatterpolargl\"}], \"scatterternary\": [{\"marker\": {\"colorbar\": {\"outlinewidth\": 0, \"ticks\": \"\"}}, \"type\": \"scatterternary\"}], \"surface\": [{\"colorbar\": {\"outlinewidth\": 0, \"ticks\": \"\"}, \"colorscale\": [[0.0, \"#0d0887\"], [0.1111111111111111, \"#46039f\"], [0.2222222222222222, \"#7201a8\"], [0.3333333333333333, \"#9c179e\"], [0.4444444444444444, \"#bd3786\"], [0.5555555555555556, \"#d8576b\"], [0.6666666666666666, \"#ed7953\"], [0.7777777777777778, \"#fb9f3a\"], [0.8888888888888888, \"#fdca26\"], [1.0, \"#f0f921\"]], \"type\": \"surface\"}], \"table\": [{\"cells\": {\"fill\": {\"color\": \"#EBF0F8\"}, \"line\": {\"color\": \"white\"}}, \"header\": {\"fill\": {\"color\": \"#C8D4E3\"}, \"line\": {\"color\": \"white\"}}, \"type\": \"table\"}]}, \"layout\": {\"annotationdefaults\": {\"arrowcolor\": \"#2a3f5f\", \"arrowhead\": 0, \"arrowwidth\": 1}, \"coloraxis\": {\"colorbar\": {\"outlinewidth\": 0, \"ticks\": \"\"}}, \"colorscale\": {\"diverging\": [[0, \"#8e0152\"], [0.1, \"#c51b7d\"], [0.2, \"#de77ae\"], [0.3, \"#f1b6da\"], [0.4, \"#fde0ef\"], [0.5, \"#f7f7f7\"], [0.6, \"#e6f5d0\"], [0.7, \"#b8e186\"], [0.8, \"#7fbc41\"], [0.9, \"#4d9221\"], [1, \"#276419\"]], \"sequential\": [[0.0, \"#0d0887\"], [0.1111111111111111, \"#46039f\"], [0.2222222222222222, \"#7201a8\"], [0.3333333333333333, \"#9c179e\"], [0.4444444444444444, \"#bd3786\"], [0.5555555555555556, \"#d8576b\"], [0.6666666666666666, \"#ed7953\"], [0.7777777777777778, \"#fb9f3a\"], [0.8888888888888888, \"#fdca26\"], [1.0, \"#f0f921\"]], \"sequentialminus\": [[0.0, \"#0d0887\"], [0.1111111111111111, \"#46039f\"], [0.2222222222222222, \"#7201a8\"], [0.3333333333333333, \"#9c179e\"], [0.4444444444444444, \"#bd3786\"], [0.5555555555555556, \"#d8576b\"], [0.6666666666666666, \"#ed7953\"], [0.7777777777777778, \"#fb9f3a\"], [0.8888888888888888, \"#fdca26\"], [1.0, \"#f0f921\"]]}, \"colorway\": [\"#636efa\", \"#EF553B\", \"#00cc96\", \"#ab63fa\", \"#FFA15A\", \"#19d3f3\", \"#FF6692\", \"#B6E880\", \"#FF97FF\", \"#FECB52\"], \"font\": {\"color\": \"#2a3f5f\"}, \"geo\": {\"bgcolor\": \"white\", \"lakecolor\": \"white\", \"landcolor\": \"#E5ECF6\", \"showlakes\": true, \"showland\": true, \"subunitcolor\": \"white\"}, \"hoverlabel\": {\"align\": \"left\"}, \"hovermode\": \"closest\", \"mapbox\": {\"style\": \"light\"}, \"paper_bgcolor\": \"white\", \"plot_bgcolor\": \"#E5ECF6\", \"polar\": {\"angularaxis\": {\"gridcolor\": \"white\", \"linecolor\": \"white\", \"ticks\": \"\"}, \"bgcolor\": \"#E5ECF6\", \"radialaxis\": {\"gridcolor\": \"white\", \"linecolor\": \"white\", \"ticks\": \"\"}}, \"scene\": {\"xaxis\": {\"backgroundcolor\": \"#E5ECF6\", \"gridcolor\": \"white\", \"gridwidth\": 2, \"linecolor\": \"white\", \"showbackground\": true, \"ticks\": \"\", \"zerolinecolor\": \"white\"}, \"yaxis\": {\"backgroundcolor\": \"#E5ECF6\", \"gridcolor\": \"white\", \"gridwidth\": 2, \"linecolor\": \"white\", \"showbackground\": true, \"ticks\": \"\", \"zerolinecolor\": \"white\"}, \"zaxis\": {\"backgroundcolor\": \"#E5ECF6\", \"gridcolor\": \"white\", \"gridwidth\": 2, \"linecolor\": \"white\", \"showbackground\": true, \"ticks\": \"\", \"zerolinecolor\": \"white\"}}, \"shapedefaults\": {\"line\": {\"color\": \"#2a3f5f\"}}, \"ternary\": {\"aaxis\": {\"gridcolor\": \"white\", \"linecolor\": \"white\", \"ticks\": \"\"}, \"baxis\": {\"gridcolor\": \"white\", \"linecolor\": \"white\", \"ticks\": \"\"}, \"bgcolor\": \"#E5ECF6\", \"caxis\": {\"gridcolor\": \"white\", \"linecolor\": \"white\", \"ticks\": \"\"}}, \"title\": {\"x\": 0.05}, \"xaxis\": {\"automargin\": true, \"gridcolor\": \"white\", \"linecolor\": \"white\", \"ticks\": \"\", \"title\": {\"standoff\": 15}, \"zerolinecolor\": \"white\", \"zerolinewidth\": 2}, \"yaxis\": {\"automargin\": true, \"gridcolor\": \"white\", \"linecolor\": \"white\", \"ticks\": \"\", \"title\": {\"standoff\": 15}, \"zerolinecolor\": \"white\", \"zerolinewidth\": 2}}}, \"xaxis\": {\"anchor\": \"y\", \"domain\": [0.0, 1.0], \"title\": {\"text\": \"x\"}}, \"yaxis\": {\"anchor\": \"x\", \"domain\": [0.0, 1.0], \"title\": {\"text\": \"y\"}}},\n",
              "                        {\"responsive\": true}\n",
              "                    ).then(function(){\n",
              "                            \n",
              "var gd = document.getElementById('3908d54f-08e0-41c9-abe6-b6da3afdef3e');\n",
              "var x = new MutationObserver(function (mutations, observer) {{\n",
              "        var display = window.getComputedStyle(gd).display;\n",
              "        if (!display || display === 'none') {{\n",
              "            console.log([gd, 'removed!']);\n",
              "            Plotly.purge(gd);\n",
              "            observer.disconnect();\n",
              "        }}\n",
              "}});\n",
              "\n",
              "// Listen for the removal of the full notebook cells\n",
              "var notebookContainer = gd.closest('#notebook-container');\n",
              "if (notebookContainer) {{\n",
              "    x.observe(notebookContainer, {childList: true});\n",
              "}}\n",
              "\n",
              "// Listen for the clearing of the current output cell\n",
              "var outputEl = gd.closest('.output');\n",
              "if (outputEl) {{\n",
              "    x.observe(outputEl, {childList: true});\n",
              "}}\n",
              "\n",
              "                        })\n",
              "                };\n",
              "                \n",
              "            </script>\n",
              "        </div>\n",
              "</body>\n",
              "</html>"
            ]
          },
          "metadata": {
            "tags": []
          }
        }
      ]
    }
  ]
}