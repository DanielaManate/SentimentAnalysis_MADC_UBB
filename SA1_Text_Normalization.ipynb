{
  "nbformat": 4,
  "nbformat_minor": 0,
  "metadata": {
    "colab": {
      "name": "SA1_Text_Normalization.ipynb",
      "provenance": [],
      "collapsed_sections": []
    },
    "kernelspec": {
      "name": "python3",
      "display_name": "Python 3"
    }
  },
  "cells": [
    {
      "cell_type": "markdown",
      "metadata": {
        "id": "golDG17X12O1",
        "colab_type": "text"
      },
      "source": [
        "# Importing Libraries"
      ]
    },
    {
      "cell_type": "code",
      "metadata": {
        "id": "BfOwdTpf1jWZ",
        "colab_type": "code",
        "outputId": "d5a77cbb-e87f-42a8-e33c-3f208d8e2976",
        "colab": {
          "base_uri": "https://localhost:8080/",
          "height": 105
        }
      },
      "source": [
        "!pip install contractions"
      ],
      "execution_count": 1,
      "outputs": [
        {
          "output_type": "stream",
          "text": [
            "Requirement already satisfied: contractions in /usr/local/lib/python3.6/dist-packages (0.0.24)\n",
            "Requirement already satisfied: textsearch in /usr/local/lib/python3.6/dist-packages (from contractions) (0.0.17)\n",
            "Requirement already satisfied: Unidecode in /usr/local/lib/python3.6/dist-packages (from textsearch->contractions) (1.1.1)\n",
            "Requirement already satisfied: pyahocorasick in /usr/local/lib/python3.6/dist-packages (from textsearch->contractions) (1.4.0)\n"
          ],
          "name": "stdout"
        }
      ]
    },
    {
      "cell_type": "code",
      "metadata": {
        "id": "iRvFJVqh1Sxi",
        "colab_type": "code",
        "outputId": "471189e6-a069-4331-f448-8676e0d2e26d",
        "colab": {
          "base_uri": "https://localhost:8080/",
          "height": 85
        }
      },
      "source": [
        "import pandas as pd\n",
        "import numpy as np\n",
        "\n",
        "#regular expressions\n",
        "import re\n",
        "\n",
        "# for contractions (don't -> do not; can't -> can not)\n",
        "import contractions\n",
        "\n",
        "# natural language toolkit\n",
        "import nltk \n",
        "\n",
        "# for stopwords (common words: to, that, this...)\n",
        "nltk.download('stopwords')\n",
        "from nltk.corpus import stopwords\n",
        "\n",
        "# for word_tokenize (dividing the review(document) into words)\n",
        "nltk.download('punkt')\n",
        "from nltk.tokenize import word_tokenize\n",
        "\n",
        "# spacy - advanced natural language processing\n",
        "# for lemmatization\n",
        "import spacy\n",
        "nlp = spacy.load('en_core_web_sm')\n",
        "\n",
        "# plotting\n",
        "import matplotlib.pyplot as plt"
      ],
      "execution_count": 2,
      "outputs": [
        {
          "output_type": "stream",
          "text": [
            "[nltk_data] Downloading package stopwords to /root/nltk_data...\n",
            "[nltk_data]   Package stopwords is already up-to-date!\n",
            "[nltk_data] Downloading package punkt to /root/nltk_data...\n",
            "[nltk_data]   Package punkt is already up-to-date!\n"
          ],
          "name": "stdout"
        }
      ]
    },
    {
      "cell_type": "code",
      "metadata": {
        "id": "OU64hVs42ouE",
        "colab_type": "code",
        "colab": {}
      },
      "source": [
        "from google.colab import drive"
      ],
      "execution_count": 0,
      "outputs": []
    },
    {
      "cell_type": "code",
      "metadata": {
        "id": "6bj08k1L3HEv",
        "colab_type": "code",
        "colab": {
          "base_uri": "https://localhost:8080/",
          "height": 54
        },
        "outputId": "b98b9202-3362-43e1-f1ed-0b82af21659b"
      },
      "source": [
        "drive.mount('/content/gdrive')"
      ],
      "execution_count": 4,
      "outputs": [
        {
          "output_type": "stream",
          "text": [
            "Drive already mounted at /content/gdrive; to attempt to forcibly remount, call drive.mount(\"/content/gdrive\", force_remount=True).\n"
          ],
          "name": "stdout"
        }
      ]
    },
    {
      "cell_type": "code",
      "metadata": {
        "id": "HCGzVVHf6Zdk",
        "colab_type": "code",
        "colab": {}
      },
      "source": [
        "path = 'gdrive/My Drive/Colab Notebooks/Data/'"
      ],
      "execution_count": 0,
      "outputs": []
    },
    {
      "cell_type": "markdown",
      "metadata": {
        "id": "ZGTBc7J42Qpk",
        "colab_type": "text"
      },
      "source": [
        "# Reading Dataset & EDA (Exploratory Data Analysis)"
      ]
    },
    {
      "cell_type": "code",
      "metadata": {
        "id": "MLMMqeol3MnM",
        "colab_type": "code",
        "outputId": "89c0ff90-5c3e-49bb-9a2f-885bd18e5173",
        "colab": {
          "base_uri": "https://localhost:8080/",
          "height": 204
        }
      },
      "source": [
        "reviews = pd.read_csv(path + 'yelp_glendale_az_rest_2017.csv')\n",
        "reviews.head()"
      ],
      "execution_count": 6,
      "outputs": [
        {
          "output_type": "execute_result",
          "data": {
            "text/html": [
              "<div>\n",
              "<style scoped>\n",
              "    .dataframe tbody tr th:only-of-type {\n",
              "        vertical-align: middle;\n",
              "    }\n",
              "\n",
              "    .dataframe tbody tr th {\n",
              "        vertical-align: top;\n",
              "    }\n",
              "\n",
              "    .dataframe thead th {\n",
              "        text-align: right;\n",
              "    }\n",
              "</style>\n",
              "<table border=\"1\" class=\"dataframe\">\n",
              "  <thead>\n",
              "    <tr style=\"text-align: right;\">\n",
              "      <th></th>\n",
              "      <th>rest_id</th>\n",
              "      <th>text</th>\n",
              "      <th>rating</th>\n",
              "    </tr>\n",
              "  </thead>\n",
              "  <tbody>\n",
              "    <tr>\n",
              "      <th>0</th>\n",
              "      <td>yGMCl0vYigshkXiZFIDTNw</td>\n",
              "      <td>We arrived for our reservation at 7:15pm.  The...</td>\n",
              "      <td>4.0</td>\n",
              "    </tr>\n",
              "    <tr>\n",
              "      <th>1</th>\n",
              "      <td>yGMCl0vYigshkXiZFIDTNw</td>\n",
              "      <td>BOGO....I find that when a server is inefficie...</td>\n",
              "      <td>3.0</td>\n",
              "    </tr>\n",
              "    <tr>\n",
              "      <th>2</th>\n",
              "      <td>yGMCl0vYigshkXiZFIDTNw</td>\n",
              "      <td>We received amazing service again. The food wa...</td>\n",
              "      <td>5.0</td>\n",
              "    </tr>\n",
              "    <tr>\n",
              "      <th>3</th>\n",
              "      <td>yGMCl0vYigshkXiZFIDTNw</td>\n",
              "      <td>Breakfast was delicious and waitress was aweso...</td>\n",
              "      <td>5.0</td>\n",
              "    </tr>\n",
              "    <tr>\n",
              "      <th>4</th>\n",
              "      <td>yGMCl0vYigshkXiZFIDTNw</td>\n",
              "      <td>We have eaten here twice, for lunch. The first...</td>\n",
              "      <td>4.0</td>\n",
              "    </tr>\n",
              "  </tbody>\n",
              "</table>\n",
              "</div>"
            ],
            "text/plain": [
              "                  rest_id  ... rating\n",
              "0  yGMCl0vYigshkXiZFIDTNw  ...    4.0\n",
              "1  yGMCl0vYigshkXiZFIDTNw  ...    3.0\n",
              "2  yGMCl0vYigshkXiZFIDTNw  ...    5.0\n",
              "3  yGMCl0vYigshkXiZFIDTNw  ...    5.0\n",
              "4  yGMCl0vYigshkXiZFIDTNw  ...    4.0\n",
              "\n",
              "[5 rows x 3 columns]"
            ]
          },
          "metadata": {
            "tags": []
          },
          "execution_count": 6
        }
      ]
    },
    {
      "cell_type": "code",
      "metadata": {
        "id": "0FQtcGvh69Da",
        "colab_type": "code",
        "outputId": "542d2152-e18f-4b28-80c7-070273d22d31",
        "colab": {
          "base_uri": "https://localhost:8080/",
          "height": 85
        }
      },
      "source": [
        "#Data Types\n",
        "reviews.dtypes"
      ],
      "execution_count": 7,
      "outputs": [
        {
          "output_type": "execute_result",
          "data": {
            "text/plain": [
              "rest_id     object\n",
              "text        object\n",
              "rating     float64\n",
              "dtype: object"
            ]
          },
          "metadata": {
            "tags": []
          },
          "execution_count": 7
        }
      ]
    },
    {
      "cell_type": "code",
      "metadata": {
        "colab_type": "code",
        "id": "QFAP7Xnh3d1W",
        "colab": {}
      },
      "source": [
        "# Convert Rating to Integer (numar intreg)\n",
        "reviews['rating'] = reviews['rating'].astype(int)"
      ],
      "execution_count": 0,
      "outputs": []
    },
    {
      "cell_type": "code",
      "metadata": {
        "id": "0ZxVDXlu3brJ",
        "colab_type": "code",
        "outputId": "37344c8b-af13-4d3d-c55a-2a0a86df73d3",
        "colab": {
          "base_uri": "https://localhost:8080/",
          "height": 359
        }
      },
      "source": [
        "# Look at first 10 rows\n",
        "reviews.head(10)"
      ],
      "execution_count": 9,
      "outputs": [
        {
          "output_type": "execute_result",
          "data": {
            "text/html": [
              "<div>\n",
              "<style scoped>\n",
              "    .dataframe tbody tr th:only-of-type {\n",
              "        vertical-align: middle;\n",
              "    }\n",
              "\n",
              "    .dataframe tbody tr th {\n",
              "        vertical-align: top;\n",
              "    }\n",
              "\n",
              "    .dataframe thead th {\n",
              "        text-align: right;\n",
              "    }\n",
              "</style>\n",
              "<table border=\"1\" class=\"dataframe\">\n",
              "  <thead>\n",
              "    <tr style=\"text-align: right;\">\n",
              "      <th></th>\n",
              "      <th>rest_id</th>\n",
              "      <th>text</th>\n",
              "      <th>rating</th>\n",
              "    </tr>\n",
              "  </thead>\n",
              "  <tbody>\n",
              "    <tr>\n",
              "      <th>0</th>\n",
              "      <td>yGMCl0vYigshkXiZFIDTNw</td>\n",
              "      <td>We arrived for our reservation at 7:15pm.  The...</td>\n",
              "      <td>4</td>\n",
              "    </tr>\n",
              "    <tr>\n",
              "      <th>1</th>\n",
              "      <td>yGMCl0vYigshkXiZFIDTNw</td>\n",
              "      <td>BOGO....I find that when a server is inefficie...</td>\n",
              "      <td>3</td>\n",
              "    </tr>\n",
              "    <tr>\n",
              "      <th>2</th>\n",
              "      <td>yGMCl0vYigshkXiZFIDTNw</td>\n",
              "      <td>We received amazing service again. The food wa...</td>\n",
              "      <td>5</td>\n",
              "    </tr>\n",
              "    <tr>\n",
              "      <th>3</th>\n",
              "      <td>yGMCl0vYigshkXiZFIDTNw</td>\n",
              "      <td>Breakfast was delicious and waitress was aweso...</td>\n",
              "      <td>5</td>\n",
              "    </tr>\n",
              "    <tr>\n",
              "      <th>4</th>\n",
              "      <td>yGMCl0vYigshkXiZFIDTNw</td>\n",
              "      <td>We have eaten here twice, for lunch. The first...</td>\n",
              "      <td>4</td>\n",
              "    </tr>\n",
              "    <tr>\n",
              "      <th>5</th>\n",
              "      <td>yGMCl0vYigshkXiZFIDTNw</td>\n",
              "      <td>awesome service, great food.  Buffy was an ama...</td>\n",
              "      <td>5</td>\n",
              "    </tr>\n",
              "    <tr>\n",
              "      <th>6</th>\n",
              "      <td>yGMCl0vYigshkXiZFIDTNw</td>\n",
              "      <td>I love this establishment. Great service and f...</td>\n",
              "      <td>5</td>\n",
              "    </tr>\n",
              "    <tr>\n",
              "      <th>7</th>\n",
              "      <td>yGMCl0vYigshkXiZFIDTNw</td>\n",
              "      <td>Great food, passed my expectations. Good coffe...</td>\n",
              "      <td>5</td>\n",
              "    </tr>\n",
              "    <tr>\n",
              "      <th>8</th>\n",
              "      <td>yGMCl0vYigshkXiZFIDTNw</td>\n",
              "      <td>What a great place for breakfast.  Are at Mimi...</td>\n",
              "      <td>4</td>\n",
              "    </tr>\n",
              "    <tr>\n",
              "      <th>9</th>\n",
              "      <td>yGMCl0vYigshkXiZFIDTNw</td>\n",
              "      <td>I really like this place for breakfast and bru...</td>\n",
              "      <td>4</td>\n",
              "    </tr>\n",
              "  </tbody>\n",
              "</table>\n",
              "</div>"
            ],
            "text/plain": [
              "                  rest_id  ... rating\n",
              "0  yGMCl0vYigshkXiZFIDTNw  ...      4\n",
              "1  yGMCl0vYigshkXiZFIDTNw  ...      3\n",
              "2  yGMCl0vYigshkXiZFIDTNw  ...      5\n",
              "3  yGMCl0vYigshkXiZFIDTNw  ...      5\n",
              "4  yGMCl0vYigshkXiZFIDTNw  ...      4\n",
              "5  yGMCl0vYigshkXiZFIDTNw  ...      5\n",
              "6  yGMCl0vYigshkXiZFIDTNw  ...      5\n",
              "7  yGMCl0vYigshkXiZFIDTNw  ...      5\n",
              "8  yGMCl0vYigshkXiZFIDTNw  ...      4\n",
              "9  yGMCl0vYigshkXiZFIDTNw  ...      4\n",
              "\n",
              "[10 rows x 3 columns]"
            ]
          },
          "metadata": {
            "tags": []
          },
          "execution_count": 9
        }
      ]
    },
    {
      "cell_type": "code",
      "metadata": {
        "id": "R-R1il0T4q1x",
        "colab_type": "code",
        "outputId": "a1b89982-e892-4033-c3eb-817e61885bd1",
        "colab": {
          "base_uri": "https://localhost:8080/",
          "height": 669
        }
      },
      "source": [
        "# Look at last 20 rows\n",
        "reviews.tail(20)"
      ],
      "execution_count": 10,
      "outputs": [
        {
          "output_type": "execute_result",
          "data": {
            "text/html": [
              "<div>\n",
              "<style scoped>\n",
              "    .dataframe tbody tr th:only-of-type {\n",
              "        vertical-align: middle;\n",
              "    }\n",
              "\n",
              "    .dataframe tbody tr th {\n",
              "        vertical-align: top;\n",
              "    }\n",
              "\n",
              "    .dataframe thead th {\n",
              "        text-align: right;\n",
              "    }\n",
              "</style>\n",
              "<table border=\"1\" class=\"dataframe\">\n",
              "  <thead>\n",
              "    <tr style=\"text-align: right;\">\n",
              "      <th></th>\n",
              "      <th>rest_id</th>\n",
              "      <th>text</th>\n",
              "      <th>rating</th>\n",
              "    </tr>\n",
              "  </thead>\n",
              "  <tbody>\n",
              "    <tr>\n",
              "      <th>10326</th>\n",
              "      <td>WyeENX8AdrERdFZtVy7uzQ</td>\n",
              "      <td>Love the California burrito carne asada,potato...</td>\n",
              "      <td>5</td>\n",
              "    </tr>\n",
              "    <tr>\n",
              "      <th>10327</th>\n",
              "      <td>WyeENX8AdrERdFZtVy7uzQ</td>\n",
              "      <td>This place has comE a long way since it 1st op...</td>\n",
              "      <td>4</td>\n",
              "    </tr>\n",
              "    <tr>\n",
              "      <th>10328</th>\n",
              "      <td>WyeENX8AdrERdFZtVy7uzQ</td>\n",
              "      <td>This place is my top neighborhood favorite. Gr...</td>\n",
              "      <td>5</td>\n",
              "    </tr>\n",
              "    <tr>\n",
              "      <th>10329</th>\n",
              "      <td>WyeENX8AdrERdFZtVy7uzQ</td>\n",
              "      <td>Me and my husband have been here twice in 1 we...</td>\n",
              "      <td>3</td>\n",
              "    </tr>\n",
              "    <tr>\n",
              "      <th>10330</th>\n",
              "      <td>WyeENX8AdrERdFZtVy7uzQ</td>\n",
              "      <td>Really good fast Mexican food place good speci...</td>\n",
              "      <td>4</td>\n",
              "    </tr>\n",
              "    <tr>\n",
              "      <th>10331</th>\n",
              "      <td>WyeENX8AdrERdFZtVy7uzQ</td>\n",
              "      <td>Don't know how these people gave this place a ...</td>\n",
              "      <td>5</td>\n",
              "    </tr>\n",
              "    <tr>\n",
              "      <th>10332</th>\n",
              "      <td>dN1mIYbhGYdO68Ic0eTSUw</td>\n",
              "      <td>Very fun place to go for dinner and drinks!! T...</td>\n",
              "      <td>5</td>\n",
              "    </tr>\n",
              "    <tr>\n",
              "      <th>10333</th>\n",
              "      <td>dN1mIYbhGYdO68Ic0eTSUw</td>\n",
              "      <td>Well, passing of an era. The doors are locked ...</td>\n",
              "      <td>1</td>\n",
              "    </tr>\n",
              "    <tr>\n",
              "      <th>10334</th>\n",
              "      <td>oVJoGIPWFPrWZG1XcSYVow</td>\n",
              "      <td>I take off a star for the price which isn't to...</td>\n",
              "      <td>4</td>\n",
              "    </tr>\n",
              "    <tr>\n",
              "      <th>10335</th>\n",
              "      <td>oVJoGIPWFPrWZG1XcSYVow</td>\n",
              "      <td>This place was very small and had a funky smel...</td>\n",
              "      <td>3</td>\n",
              "    </tr>\n",
              "    <tr>\n",
              "      <th>10336</th>\n",
              "      <td>oVJoGIPWFPrWZG1XcSYVow</td>\n",
              "      <td>I was in Flagstaff this weekend and stopped at...</td>\n",
              "      <td>5</td>\n",
              "    </tr>\n",
              "    <tr>\n",
              "      <th>10337</th>\n",
              "      <td>TjziWy83MOEkWDiO07RwRA</td>\n",
              "      <td>You must try this place, the service is so kin...</td>\n",
              "      <td>4</td>\n",
              "    </tr>\n",
              "    <tr>\n",
              "      <th>10338</th>\n",
              "      <td>TjziWy83MOEkWDiO07RwRA</td>\n",
              "      <td>For a Friday night, this place was loud with t...</td>\n",
              "      <td>1</td>\n",
              "    </tr>\n",
              "    <tr>\n",
              "      <th>10339</th>\n",
              "      <td>tTktEIk4Z9O6ZNEfk1ASlA</td>\n",
              "      <td>I drove to sonic on occasion to grab some mozz...</td>\n",
              "      <td>4</td>\n",
              "    </tr>\n",
              "    <tr>\n",
              "      <th>10340</th>\n",
              "      <td>8fBmyHKbrqCDLD9at83EgQ</td>\n",
              "      <td>Probably the best Salsitas in the valley. The ...</td>\n",
              "      <td>5</td>\n",
              "    </tr>\n",
              "    <tr>\n",
              "      <th>10341</th>\n",
              "      <td>8fBmyHKbrqCDLD9at83EgQ</td>\n",
              "      <td>My family had a bad experience before here wit...</td>\n",
              "      <td>1</td>\n",
              "    </tr>\n",
              "    <tr>\n",
              "      <th>10342</th>\n",
              "      <td>8fBmyHKbrqCDLD9at83EgQ</td>\n",
              "      <td>Again blows everyone outa the water best Calif...</td>\n",
              "      <td>5</td>\n",
              "    </tr>\n",
              "    <tr>\n",
              "      <th>10343</th>\n",
              "      <td>8fBmyHKbrqCDLD9at83EgQ</td>\n",
              "      <td>I am in college and love coming to this place....</td>\n",
              "      <td>5</td>\n",
              "    </tr>\n",
              "    <tr>\n",
              "      <th>10344</th>\n",
              "      <td>8fBmyHKbrqCDLD9at83EgQ</td>\n",
              "      <td>This place offers some of the best tacos. Alwa...</td>\n",
              "      <td>5</td>\n",
              "    </tr>\n",
              "    <tr>\n",
              "      <th>10345</th>\n",
              "      <td>-g28gT1L7LlDKyXYrusI6Q</td>\n",
              "      <td>Delicious meal, fast quick service, looked ver...</td>\n",
              "      <td>5</td>\n",
              "    </tr>\n",
              "  </tbody>\n",
              "</table>\n",
              "</div>"
            ],
            "text/plain": [
              "                      rest_id  ... rating\n",
              "10326  WyeENX8AdrERdFZtVy7uzQ  ...      5\n",
              "10327  WyeENX8AdrERdFZtVy7uzQ  ...      4\n",
              "10328  WyeENX8AdrERdFZtVy7uzQ  ...      5\n",
              "10329  WyeENX8AdrERdFZtVy7uzQ  ...      3\n",
              "10330  WyeENX8AdrERdFZtVy7uzQ  ...      4\n",
              "10331  WyeENX8AdrERdFZtVy7uzQ  ...      5\n",
              "10332  dN1mIYbhGYdO68Ic0eTSUw  ...      5\n",
              "10333  dN1mIYbhGYdO68Ic0eTSUw  ...      1\n",
              "10334  oVJoGIPWFPrWZG1XcSYVow  ...      4\n",
              "10335  oVJoGIPWFPrWZG1XcSYVow  ...      3\n",
              "10336  oVJoGIPWFPrWZG1XcSYVow  ...      5\n",
              "10337  TjziWy83MOEkWDiO07RwRA  ...      4\n",
              "10338  TjziWy83MOEkWDiO07RwRA  ...      1\n",
              "10339  tTktEIk4Z9O6ZNEfk1ASlA  ...      4\n",
              "10340  8fBmyHKbrqCDLD9at83EgQ  ...      5\n",
              "10341  8fBmyHKbrqCDLD9at83EgQ  ...      1\n",
              "10342  8fBmyHKbrqCDLD9at83EgQ  ...      5\n",
              "10343  8fBmyHKbrqCDLD9at83EgQ  ...      5\n",
              "10344  8fBmyHKbrqCDLD9at83EgQ  ...      5\n",
              "10345  -g28gT1L7LlDKyXYrusI6Q  ...      5\n",
              "\n",
              "[20 rows x 3 columns]"
            ]
          },
          "metadata": {
            "tags": []
          },
          "execution_count": 10
        }
      ]
    },
    {
      "cell_type": "code",
      "metadata": {
        "id": "yNcdAQ0M4tZP",
        "colab_type": "code",
        "outputId": "d8913b28-5f7b-478f-fcdc-302fba4ab694",
        "colab": {
          "base_uri": "https://localhost:8080/",
          "height": 297
        }
      },
      "source": [
        "# Describe the data\n",
        "reviews.describe()"
      ],
      "execution_count": 11,
      "outputs": [
        {
          "output_type": "execute_result",
          "data": {
            "text/html": [
              "<div>\n",
              "<style scoped>\n",
              "    .dataframe tbody tr th:only-of-type {\n",
              "        vertical-align: middle;\n",
              "    }\n",
              "\n",
              "    .dataframe tbody tr th {\n",
              "        vertical-align: top;\n",
              "    }\n",
              "\n",
              "    .dataframe thead th {\n",
              "        text-align: right;\n",
              "    }\n",
              "</style>\n",
              "<table border=\"1\" class=\"dataframe\">\n",
              "  <thead>\n",
              "    <tr style=\"text-align: right;\">\n",
              "      <th></th>\n",
              "      <th>rating</th>\n",
              "    </tr>\n",
              "  </thead>\n",
              "  <tbody>\n",
              "    <tr>\n",
              "      <th>count</th>\n",
              "      <td>10346.000000</td>\n",
              "    </tr>\n",
              "    <tr>\n",
              "      <th>mean</th>\n",
              "      <td>3.633482</td>\n",
              "    </tr>\n",
              "    <tr>\n",
              "      <th>std</th>\n",
              "      <td>1.562123</td>\n",
              "    </tr>\n",
              "    <tr>\n",
              "      <th>min</th>\n",
              "      <td>1.000000</td>\n",
              "    </tr>\n",
              "    <tr>\n",
              "      <th>25%</th>\n",
              "      <td>2.000000</td>\n",
              "    </tr>\n",
              "    <tr>\n",
              "      <th>50%</th>\n",
              "      <td>4.000000</td>\n",
              "    </tr>\n",
              "    <tr>\n",
              "      <th>75%</th>\n",
              "      <td>5.000000</td>\n",
              "    </tr>\n",
              "    <tr>\n",
              "      <th>max</th>\n",
              "      <td>5.000000</td>\n",
              "    </tr>\n",
              "  </tbody>\n",
              "</table>\n",
              "</div>"
            ],
            "text/plain": [
              "             rating\n",
              "count  10346.000000\n",
              "mean       3.633482\n",
              "std        1.562123\n",
              "min        1.000000\n",
              "25%        2.000000\n",
              "50%        4.000000\n",
              "75%        5.000000\n",
              "max        5.000000"
            ]
          },
          "metadata": {
            "tags": []
          },
          "execution_count": 11
        }
      ]
    },
    {
      "cell_type": "code",
      "metadata": {
        "id": "ZVDWLf794x51",
        "colab_type": "code",
        "outputId": "71df22f0-ea6a-46e8-fd8e-519fe3163911",
        "colab": {
          "base_uri": "https://localhost:8080/",
          "height": 390
        }
      },
      "source": [
        "# default: only numeric columns; include = 'all' to see all\n",
        "reviews.describe(include='all')"
      ],
      "execution_count": 12,
      "outputs": [
        {
          "output_type": "execute_result",
          "data": {
            "text/html": [
              "<div>\n",
              "<style scoped>\n",
              "    .dataframe tbody tr th:only-of-type {\n",
              "        vertical-align: middle;\n",
              "    }\n",
              "\n",
              "    .dataframe tbody tr th {\n",
              "        vertical-align: top;\n",
              "    }\n",
              "\n",
              "    .dataframe thead th {\n",
              "        text-align: right;\n",
              "    }\n",
              "</style>\n",
              "<table border=\"1\" class=\"dataframe\">\n",
              "  <thead>\n",
              "    <tr style=\"text-align: right;\">\n",
              "      <th></th>\n",
              "      <th>rest_id</th>\n",
              "      <th>text</th>\n",
              "      <th>rating</th>\n",
              "    </tr>\n",
              "  </thead>\n",
              "  <tbody>\n",
              "    <tr>\n",
              "      <th>count</th>\n",
              "      <td>10346</td>\n",
              "      <td>10346</td>\n",
              "      <td>10346.000000</td>\n",
              "    </tr>\n",
              "    <tr>\n",
              "      <th>unique</th>\n",
              "      <td>501</td>\n",
              "      <td>10323</td>\n",
              "      <td>NaN</td>\n",
              "    </tr>\n",
              "    <tr>\n",
              "      <th>top</th>\n",
              "      <td>ojGCRzEym2W3tSTo69fhxA</td>\n",
              "      <td>This Sonic is horrible. We go semi frequently ...</td>\n",
              "      <td>NaN</td>\n",
              "    </tr>\n",
              "    <tr>\n",
              "      <th>freq</th>\n",
              "      <td>201</td>\n",
              "      <td>2</td>\n",
              "      <td>NaN</td>\n",
              "    </tr>\n",
              "    <tr>\n",
              "      <th>mean</th>\n",
              "      <td>NaN</td>\n",
              "      <td>NaN</td>\n",
              "      <td>3.633482</td>\n",
              "    </tr>\n",
              "    <tr>\n",
              "      <th>std</th>\n",
              "      <td>NaN</td>\n",
              "      <td>NaN</td>\n",
              "      <td>1.562123</td>\n",
              "    </tr>\n",
              "    <tr>\n",
              "      <th>min</th>\n",
              "      <td>NaN</td>\n",
              "      <td>NaN</td>\n",
              "      <td>1.000000</td>\n",
              "    </tr>\n",
              "    <tr>\n",
              "      <th>25%</th>\n",
              "      <td>NaN</td>\n",
              "      <td>NaN</td>\n",
              "      <td>2.000000</td>\n",
              "    </tr>\n",
              "    <tr>\n",
              "      <th>50%</th>\n",
              "      <td>NaN</td>\n",
              "      <td>NaN</td>\n",
              "      <td>4.000000</td>\n",
              "    </tr>\n",
              "    <tr>\n",
              "      <th>75%</th>\n",
              "      <td>NaN</td>\n",
              "      <td>NaN</td>\n",
              "      <td>5.000000</td>\n",
              "    </tr>\n",
              "    <tr>\n",
              "      <th>max</th>\n",
              "      <td>NaN</td>\n",
              "      <td>NaN</td>\n",
              "      <td>5.000000</td>\n",
              "    </tr>\n",
              "  </tbody>\n",
              "</table>\n",
              "</div>"
            ],
            "text/plain": [
              "                       rest_id  ...        rating\n",
              "count                    10346  ...  10346.000000\n",
              "unique                     501  ...           NaN\n",
              "top     ojGCRzEym2W3tSTo69fhxA  ...           NaN\n",
              "freq                       201  ...           NaN\n",
              "mean                       NaN  ...      3.633482\n",
              "std                        NaN  ...      1.562123\n",
              "min                        NaN  ...      1.000000\n",
              "25%                        NaN  ...      2.000000\n",
              "50%                        NaN  ...      4.000000\n",
              "75%                        NaN  ...      5.000000\n",
              "max                        NaN  ...      5.000000\n",
              "\n",
              "[11 rows x 3 columns]"
            ]
          },
          "metadata": {
            "tags": []
          },
          "execution_count": 12
        }
      ]
    },
    {
      "cell_type": "code",
      "metadata": {
        "id": "HxUVXlWa49hD",
        "colab_type": "code",
        "colab": {}
      },
      "source": [
        "# Duplicate review text exists"
      ],
      "execution_count": 0,
      "outputs": []
    },
    {
      "cell_type": "code",
      "metadata": {
        "id": "9ZLeIqCI4z-N",
        "colab_type": "code",
        "outputId": "70fbf094-3080-428e-f5f5-817d9c0560a3",
        "colab": {
          "base_uri": "https://localhost:8080/",
          "height": 119
        }
      },
      "source": [
        "# Occurences of each rating\n",
        "reviews['rating'].value_counts()"
      ],
      "execution_count": 14,
      "outputs": [
        {
          "output_type": "execute_result",
          "data": {
            "text/plain": [
              "5    4772\n",
              "1    1905\n",
              "4    1754\n",
              "3     981\n",
              "2     934\n",
              "Name: rating, dtype: int64"
            ]
          },
          "metadata": {
            "tags": []
          },
          "execution_count": 14
        }
      ]
    },
    {
      "cell_type": "code",
      "metadata": {
        "id": "uCEBuVUG4-p4",
        "colab_type": "code",
        "outputId": "eedd44b8-9b09-46c8-ecd2-6096fb581fee",
        "colab": {
          "base_uri": "https://localhost:8080/",
          "height": 119
        }
      },
      "source": [
        "# Occurences of each rating, sorted ascending by rating\n",
        "reviews['rating'].value_counts().sort_index()"
      ],
      "execution_count": 15,
      "outputs": [
        {
          "output_type": "execute_result",
          "data": {
            "text/plain": [
              "1    1905\n",
              "2     934\n",
              "3     981\n",
              "4    1754\n",
              "5    4772\n",
              "Name: rating, dtype: int64"
            ]
          },
          "metadata": {
            "tags": []
          },
          "execution_count": 15
        }
      ]
    },
    {
      "cell_type": "code",
      "metadata": {
        "id": "GeUCyz3j5Ac8",
        "colab_type": "code",
        "outputId": "3a11b205-f7f4-43e0-8fd0-28f2c7cde315",
        "colab": {
          "base_uri": "https://localhost:8080/",
          "height": 292
        }
      },
      "source": [
        "# Rating Frequency Graph\n",
        "\n",
        "fig = reviews['rating'].value_counts().sort_index().plot(kind = 'bar')\n",
        "\n",
        "fig.set_title('Rating Frequency')\n",
        "fig.set_xlabel('Rating')\n",
        "fig.set_ylabel('Frequency')\n",
        "\n",
        "plt.show()"
      ],
      "execution_count": 16,
      "outputs": [
        {
          "output_type": "display_data",
          "data": {
            "image/png": "[encoded data removed]",
            "text/plain": [
              "<Figure size 432x288 with 1 Axes>"
            ]
          },
          "metadata": {
            "tags": []
          }
        }
      ]
    },
    {
      "cell_type": "code",
      "metadata": {
        "id": "jnBSn3T85Cg1",
        "colab_type": "code",
        "outputId": "7526ecfb-a11d-4ea6-c7eb-cc5dcecffa3f",
        "colab": {
          "base_uri": "https://localhost:8080/",
          "height": 204
        }
      },
      "source": [
        "reviews.head()"
      ],
      "execution_count": 17,
      "outputs": [
        {
          "output_type": "execute_result",
          "data": {
            "text/html": [
              "<div>\n",
              "<style scoped>\n",
              "    .dataframe tbody tr th:only-of-type {\n",
              "        vertical-align: middle;\n",
              "    }\n",
              "\n",
              "    .dataframe tbody tr th {\n",
              "        vertical-align: top;\n",
              "    }\n",
              "\n",
              "    .dataframe thead th {\n",
              "        text-align: right;\n",
              "    }\n",
              "</style>\n",
              "<table border=\"1\" class=\"dataframe\">\n",
              "  <thead>\n",
              "    <tr style=\"text-align: right;\">\n",
              "      <th></th>\n",
              "      <th>rest_id</th>\n",
              "      <th>text</th>\n",
              "      <th>rating</th>\n",
              "    </tr>\n",
              "  </thead>\n",
              "  <tbody>\n",
              "    <tr>\n",
              "      <th>0</th>\n",
              "      <td>yGMCl0vYigshkXiZFIDTNw</td>\n",
              "      <td>We arrived for our reservation at 7:15pm.  The...</td>\n",
              "      <td>4</td>\n",
              "    </tr>\n",
              "    <tr>\n",
              "      <th>1</th>\n",
              "      <td>yGMCl0vYigshkXiZFIDTNw</td>\n",
              "      <td>BOGO....I find that when a server is inefficie...</td>\n",
              "      <td>3</td>\n",
              "    </tr>\n",
              "    <tr>\n",
              "      <th>2</th>\n",
              "      <td>yGMCl0vYigshkXiZFIDTNw</td>\n",
              "      <td>We received amazing service again. The food wa...</td>\n",
              "      <td>5</td>\n",
              "    </tr>\n",
              "    <tr>\n",
              "      <th>3</th>\n",
              "      <td>yGMCl0vYigshkXiZFIDTNw</td>\n",
              "      <td>Breakfast was delicious and waitress was aweso...</td>\n",
              "      <td>5</td>\n",
              "    </tr>\n",
              "    <tr>\n",
              "      <th>4</th>\n",
              "      <td>yGMCl0vYigshkXiZFIDTNw</td>\n",
              "      <td>We have eaten here twice, for lunch. The first...</td>\n",
              "      <td>4</td>\n",
              "    </tr>\n",
              "  </tbody>\n",
              "</table>\n",
              "</div>"
            ],
            "text/plain": [
              "                  rest_id  ... rating\n",
              "0  yGMCl0vYigshkXiZFIDTNw  ...      4\n",
              "1  yGMCl0vYigshkXiZFIDTNw  ...      3\n",
              "2  yGMCl0vYigshkXiZFIDTNw  ...      5\n",
              "3  yGMCl0vYigshkXiZFIDTNw  ...      5\n",
              "4  yGMCl0vYigshkXiZFIDTNw  ...      4\n",
              "\n",
              "[5 rows x 3 columns]"
            ]
          },
          "metadata": {
            "tags": []
          },
          "execution_count": 17
        }
      ]
    },
    {
      "cell_type": "code",
      "metadata": {
        "id": "mg0eRwXY5EqV",
        "colab_type": "code",
        "outputId": "103508ec-781f-4b61-8c2f-8ec73ae440b5",
        "colab": {
          "base_uri": "https://localhost:8080/",
          "height": 71
        }
      },
      "source": [
        "# Review Example\n",
        "\n",
        "# Review 250 Text\n",
        "print(reviews.iloc[250,1])\n",
        "print(reviews['text'].iloc[250])"
      ],
      "execution_count": 18,
      "outputs": [
        {
          "output_type": "stream",
          "text": [
            "Excellent food, fresh, with great flavor. Some Greek food places can feel a little divey, not this place. Modern and clean atmosphere, friendly staff, and delicious food. The Greek fries are my family's favorite. Sometimes we drop in during the middle of the day just to satisfy our craving for them! Highly recommended this place.\n",
            "Excellent food, fresh, with great flavor. Some Greek food places can feel a little divey, not this place. Modern and clean atmosphere, friendly staff, and delicious food. The Greek fries are my family's favorite. Sometimes we drop in during the middle of the day just to satisfy our craving for them! Highly recommended this place.\n"
          ],
          "name": "stdout"
        }
      ]
    },
    {
      "cell_type": "code",
      "metadata": {
        "id": "2a48WaMS6N_I",
        "colab_type": "code",
        "outputId": "2f0a224a-0167-49f2-ae12-521280c4485b",
        "colab": {
          "base_uri": "https://localhost:8080/",
          "height": 80
        }
      },
      "source": [
        "# Review 250 - all info\n",
        "reviews[250:251]"
      ],
      "execution_count": 19,
      "outputs": [
        {
          "output_type": "execute_result",
          "data": {
            "text/html": [
              "<div>\n",
              "<style scoped>\n",
              "    .dataframe tbody tr th:only-of-type {\n",
              "        vertical-align: middle;\n",
              "    }\n",
              "\n",
              "    .dataframe tbody tr th {\n",
              "        vertical-align: top;\n",
              "    }\n",
              "\n",
              "    .dataframe thead th {\n",
              "        text-align: right;\n",
              "    }\n",
              "</style>\n",
              "<table border=\"1\" class=\"dataframe\">\n",
              "  <thead>\n",
              "    <tr style=\"text-align: right;\">\n",
              "      <th></th>\n",
              "      <th>rest_id</th>\n",
              "      <th>text</th>\n",
              "      <th>rating</th>\n",
              "    </tr>\n",
              "  </thead>\n",
              "  <tbody>\n",
              "    <tr>\n",
              "      <th>250</th>\n",
              "      <td>Q8GBjqGjamI3b2ZaPQNa_Q</td>\n",
              "      <td>Excellent food, fresh, with great flavor. Some...</td>\n",
              "      <td>5</td>\n",
              "    </tr>\n",
              "  </tbody>\n",
              "</table>\n",
              "</div>"
            ],
            "text/plain": [
              "                    rest_id  ... rating\n",
              "250  Q8GBjqGjamI3b2ZaPQNa_Q  ...      5\n",
              "\n",
              "[1 rows x 3 columns]"
            ]
          },
          "metadata": {
            "tags": []
          },
          "execution_count": 19
        }
      ]
    },
    {
      "cell_type": "code",
      "metadata": {
        "id": "nvDuo3Pq6UtW",
        "colab_type": "code",
        "outputId": "e5ff4895-6636-4144-a3ba-a4dac2f971fb",
        "colab": {
          "base_uri": "https://localhost:8080/",
          "height": 85
        }
      },
      "source": [
        "# Review 250 - all info\n",
        "print(reviews.iloc[250])"
      ],
      "execution_count": 20,
      "outputs": [
        {
          "output_type": "stream",
          "text": [
            "rest_id                               Q8GBjqGjamI3b2ZaPQNa_Q\n",
            "text       Excellent food, fresh, with great flavor. Some...\n",
            "rating                                                     5\n",
            "Name: 250, dtype: object\n"
          ],
          "name": "stdout"
        }
      ]
    },
    {
      "cell_type": "code",
      "metadata": {
        "id": "pmvc7tfy6Y2Q",
        "colab_type": "code",
        "outputId": "7b6cc948-c38d-487c-a2e3-8f22d1248546",
        "colab": {
          "base_uri": "https://localhost:8080/",
          "height": 34
        }
      },
      "source": [
        "# Length of the text of the review for Review 250\n",
        "len(reviews['text'].iloc[250])"
      ],
      "execution_count": 21,
      "outputs": [
        {
          "output_type": "execute_result",
          "data": {
            "text/plain": [
              "331"
            ]
          },
          "metadata": {
            "tags": []
          },
          "execution_count": 21
        }
      ]
    },
    {
      "cell_type": "code",
      "metadata": {
        "id": "SZvgtQMT6cDB",
        "colab_type": "code",
        "outputId": "3c32815b-0243-4e8b-a755-75a7d5851a6b",
        "colab": {
          "base_uri": "https://localhost:8080/",
          "height": 204
        }
      },
      "source": [
        "# Add char count as a separate column\n",
        "reviews['char_count'] = reviews['text'].apply(len)\n",
        "reviews.head()"
      ],
      "execution_count": 22,
      "outputs": [
        {
          "output_type": "execute_result",
          "data": {
            "text/html": [
              "<div>\n",
              "<style scoped>\n",
              "    .dataframe tbody tr th:only-of-type {\n",
              "        vertical-align: middle;\n",
              "    }\n",
              "\n",
              "    .dataframe tbody tr th {\n",
              "        vertical-align: top;\n",
              "    }\n",
              "\n",
              "    .dataframe thead th {\n",
              "        text-align: right;\n",
              "    }\n",
              "</style>\n",
              "<table border=\"1\" class=\"dataframe\">\n",
              "  <thead>\n",
              "    <tr style=\"text-align: right;\">\n",
              "      <th></th>\n",
              "      <th>rest_id</th>\n",
              "      <th>text</th>\n",
              "      <th>rating</th>\n",
              "      <th>char_count</th>\n",
              "    </tr>\n",
              "  </thead>\n",
              "  <tbody>\n",
              "    <tr>\n",
              "      <th>0</th>\n",
              "      <td>yGMCl0vYigshkXiZFIDTNw</td>\n",
              "      <td>We arrived for our reservation at 7:15pm.  The...</td>\n",
              "      <td>4</td>\n",
              "      <td>302</td>\n",
              "    </tr>\n",
              "    <tr>\n",
              "      <th>1</th>\n",
              "      <td>yGMCl0vYigshkXiZFIDTNw</td>\n",
              "      <td>BOGO....I find that when a server is inefficie...</td>\n",
              "      <td>3</td>\n",
              "      <td>151</td>\n",
              "    </tr>\n",
              "    <tr>\n",
              "      <th>2</th>\n",
              "      <td>yGMCl0vYigshkXiZFIDTNw</td>\n",
              "      <td>We received amazing service again. The food wa...</td>\n",
              "      <td>5</td>\n",
              "      <td>111</td>\n",
              "    </tr>\n",
              "    <tr>\n",
              "      <th>3</th>\n",
              "      <td>yGMCl0vYigshkXiZFIDTNw</td>\n",
              "      <td>Breakfast was delicious and waitress was aweso...</td>\n",
              "      <td>5</td>\n",
              "      <td>146</td>\n",
              "    </tr>\n",
              "    <tr>\n",
              "      <th>4</th>\n",
              "      <td>yGMCl0vYigshkXiZFIDTNw</td>\n",
              "      <td>We have eaten here twice, for lunch. The first...</td>\n",
              "      <td>4</td>\n",
              "      <td>710</td>\n",
              "    </tr>\n",
              "  </tbody>\n",
              "</table>\n",
              "</div>"
            ],
            "text/plain": [
              "                  rest_id  ... char_count\n",
              "0  yGMCl0vYigshkXiZFIDTNw  ...        302\n",
              "1  yGMCl0vYigshkXiZFIDTNw  ...        151\n",
              "2  yGMCl0vYigshkXiZFIDTNw  ...        111\n",
              "3  yGMCl0vYigshkXiZFIDTNw  ...        146\n",
              "4  yGMCl0vYigshkXiZFIDTNw  ...        710\n",
              "\n",
              "[5 rows x 4 columns]"
            ]
          },
          "metadata": {
            "tags": []
          },
          "execution_count": 22
        }
      ]
    },
    {
      "cell_type": "code",
      "metadata": {
        "id": "aeovsjQP6eVy",
        "colab_type": "code",
        "outputId": "9fd56a9b-ebea-4f2e-eca9-9c52d523c761",
        "colab": {
          "base_uri": "https://localhost:8080/",
          "height": 51
        }
      },
      "source": [
        "# This returns length of df (no of rows)\n",
        "print(len(reviews))\n",
        "print(len(reviews['text']))"
      ],
      "execution_count": 23,
      "outputs": [
        {
          "output_type": "stream",
          "text": [
            "10346\n",
            "10346\n"
          ],
          "name": "stdout"
        }
      ]
    },
    {
      "cell_type": "code",
      "metadata": {
        "id": "Yqb4KyRf6rjx",
        "colab_type": "code",
        "outputId": "160e1e80-be7f-4ad8-ed70-6b2efb7cdbcf",
        "colab": {
          "base_uri": "https://localhost:8080/",
          "height": 221
        }
      },
      "source": [
        "# What rows have a rating of 3\n",
        "reviews['rating']==3"
      ],
      "execution_count": 24,
      "outputs": [
        {
          "output_type": "execute_result",
          "data": {
            "text/plain": [
              "0        False\n",
              "1         True\n",
              "2        False\n",
              "3        False\n",
              "4        False\n",
              "         ...  \n",
              "10341    False\n",
              "10342    False\n",
              "10343    False\n",
              "10344    False\n",
              "10345    False\n",
              "Name: rating, Length: 10346, dtype: bool"
            ]
          },
          "metadata": {
            "tags": []
          },
          "execution_count": 24
        }
      ]
    },
    {
      "cell_type": "code",
      "metadata": {
        "id": "muEjHWyB6tyr",
        "colab_type": "code",
        "outputId": "25364360-0f5a-4d33-d0c0-39bc0579228e",
        "colab": {
          "base_uri": "https://localhost:8080/",
          "height": 419
        }
      },
      "source": [
        "# Filter df to only the rows that have reviews with a rating of 3\n",
        "reviews[reviews['rating']==3]"
      ],
      "execution_count": 25,
      "outputs": [
        {
          "output_type": "execute_result",
          "data": {
            "text/html": [
              "<div>\n",
              "<style scoped>\n",
              "    .dataframe tbody tr th:only-of-type {\n",
              "        vertical-align: middle;\n",
              "    }\n",
              "\n",
              "    .dataframe tbody tr th {\n",
              "        vertical-align: top;\n",
              "    }\n",
              "\n",
              "    .dataframe thead th {\n",
              "        text-align: right;\n",
              "    }\n",
              "</style>\n",
              "<table border=\"1\" class=\"dataframe\">\n",
              "  <thead>\n",
              "    <tr style=\"text-align: right;\">\n",
              "      <th></th>\n",
              "      <th>rest_id</th>\n",
              "      <th>text</th>\n",
              "      <th>rating</th>\n",
              "      <th>char_count</th>\n",
              "    </tr>\n",
              "  </thead>\n",
              "  <tbody>\n",
              "    <tr>\n",
              "      <th>1</th>\n",
              "      <td>yGMCl0vYigshkXiZFIDTNw</td>\n",
              "      <td>BOGO....I find that when a server is inefficie...</td>\n",
              "      <td>3</td>\n",
              "      <td>151</td>\n",
              "    </tr>\n",
              "    <tr>\n",
              "      <th>26</th>\n",
              "      <td>yGMCl0vYigshkXiZFIDTNw</td>\n",
              "      <td>The service was great. There was a 20 minute w...</td>\n",
              "      <td>3</td>\n",
              "      <td>348</td>\n",
              "    </tr>\n",
              "    <tr>\n",
              "      <th>39</th>\n",
              "      <td>thlAnPN1ApoNxSnok_fcvA</td>\n",
              "      <td>So we brought our kids here for breakfast befo...</td>\n",
              "      <td>3</td>\n",
              "      <td>459</td>\n",
              "    </tr>\n",
              "    <tr>\n",
              "      <th>53</th>\n",
              "      <td>thlAnPN1ApoNxSnok_fcvA</td>\n",
              "      <td>While the food is good here, the entire place ...</td>\n",
              "      <td>3</td>\n",
              "      <td>127</td>\n",
              "    </tr>\n",
              "    <tr>\n",
              "      <th>61</th>\n",
              "      <td>thlAnPN1ApoNxSnok_fcvA</td>\n",
              "      <td>Food was pretty decent. But service was slow. ...</td>\n",
              "      <td>3</td>\n",
              "      <td>248</td>\n",
              "    </tr>\n",
              "    <tr>\n",
              "      <th>...</th>\n",
              "      <td>...</td>\n",
              "      <td>...</td>\n",
              "      <td>...</td>\n",
              "      <td>...</td>\n",
              "    </tr>\n",
              "    <tr>\n",
              "      <th>10303</th>\n",
              "      <td>oXIYs7rxT-bdgpeYzBfrzA</td>\n",
              "      <td>Meh!  Shared the carambas nachos.  What a sogg...</td>\n",
              "      <td>3</td>\n",
              "      <td>349</td>\n",
              "    </tr>\n",
              "    <tr>\n",
              "      <th>10306</th>\n",
              "      <td>oXIYs7rxT-bdgpeYzBfrzA</td>\n",
              "      <td>I have been going to this same Caramba for 20 ...</td>\n",
              "      <td>3</td>\n",
              "      <td>462</td>\n",
              "    </tr>\n",
              "    <tr>\n",
              "      <th>10323</th>\n",
              "      <td>F32Z-kI7ZJyGbjT8Vu3WOA</td>\n",
              "      <td>I am proud of my neighborhood Subway. I checke...</td>\n",
              "      <td>3</td>\n",
              "      <td>851</td>\n",
              "    </tr>\n",
              "    <tr>\n",
              "      <th>10329</th>\n",
              "      <td>WyeENX8AdrERdFZtVy7uzQ</td>\n",
              "      <td>Me and my husband have been here twice in 1 we...</td>\n",
              "      <td>3</td>\n",
              "      <td>463</td>\n",
              "    </tr>\n",
              "    <tr>\n",
              "      <th>10335</th>\n",
              "      <td>oVJoGIPWFPrWZG1XcSYVow</td>\n",
              "      <td>This place was very small and had a funky smel...</td>\n",
              "      <td>3</td>\n",
              "      <td>271</td>\n",
              "    </tr>\n",
              "  </tbody>\n",
              "</table>\n",
              "<p>981 rows × 4 columns</p>\n",
              "</div>"
            ],
            "text/plain": [
              "                      rest_id  ... char_count\n",
              "1      yGMCl0vYigshkXiZFIDTNw  ...        151\n",
              "26     yGMCl0vYigshkXiZFIDTNw  ...        348\n",
              "39     thlAnPN1ApoNxSnok_fcvA  ...        459\n",
              "53     thlAnPN1ApoNxSnok_fcvA  ...        127\n",
              "61     thlAnPN1ApoNxSnok_fcvA  ...        248\n",
              "...                       ...  ...        ...\n",
              "10303  oXIYs7rxT-bdgpeYzBfrzA  ...        349\n",
              "10306  oXIYs7rxT-bdgpeYzBfrzA  ...        462\n",
              "10323  F32Z-kI7ZJyGbjT8Vu3WOA  ...        851\n",
              "10329  WyeENX8AdrERdFZtVy7uzQ  ...        463\n",
              "10335  oVJoGIPWFPrWZG1XcSYVow  ...        271\n",
              "\n",
              "[981 rows x 4 columns]"
            ]
          },
          "metadata": {
            "tags": []
          },
          "execution_count": 25
        }
      ]
    },
    {
      "cell_type": "code",
      "metadata": {
        "id": "38eXB_Fz6xK_",
        "colab_type": "code",
        "outputId": "fc89cdea-b4ac-4793-f927-9b3a6911968a",
        "colab": {
          "base_uri": "https://localhost:8080/",
          "height": 204
        }
      },
      "source": [
        "# We are excluding 3 (neutral), because our objective is to \n",
        "# build a model that recognizes positive and negative reviews.\n",
        "\n",
        "# 3 star reviews can contain both emotions. However, in normal \n",
        "# language, neutral language would mean no emotion.\n",
        "\n",
        "# This is not applied in the case of reviews -> a 3 star\n",
        "# review could mean users are content about some things\n",
        "# and dissatisfied with others.\n",
        "\n",
        "# Exclude reviews with 3 rating\n",
        "reviews = reviews[reviews['rating']!=3]\n",
        "reviews.head()"
      ],
      "execution_count": 26,
      "outputs": [
        {
          "output_type": "execute_result",
          "data": {
            "text/html": [
              "<div>\n",
              "<style scoped>\n",
              "    .dataframe tbody tr th:only-of-type {\n",
              "        vertical-align: middle;\n",
              "    }\n",
              "\n",
              "    .dataframe tbody tr th {\n",
              "        vertical-align: top;\n",
              "    }\n",
              "\n",
              "    .dataframe thead th {\n",
              "        text-align: right;\n",
              "    }\n",
              "</style>\n",
              "<table border=\"1\" class=\"dataframe\">\n",
              "  <thead>\n",
              "    <tr style=\"text-align: right;\">\n",
              "      <th></th>\n",
              "      <th>rest_id</th>\n",
              "      <th>text</th>\n",
              "      <th>rating</th>\n",
              "      <th>char_count</th>\n",
              "    </tr>\n",
              "  </thead>\n",
              "  <tbody>\n",
              "    <tr>\n",
              "      <th>0</th>\n",
              "      <td>yGMCl0vYigshkXiZFIDTNw</td>\n",
              "      <td>We arrived for our reservation at 7:15pm.  The...</td>\n",
              "      <td>4</td>\n",
              "      <td>302</td>\n",
              "    </tr>\n",
              "    <tr>\n",
              "      <th>2</th>\n",
              "      <td>yGMCl0vYigshkXiZFIDTNw</td>\n",
              "      <td>We received amazing service again. The food wa...</td>\n",
              "      <td>5</td>\n",
              "      <td>111</td>\n",
              "    </tr>\n",
              "    <tr>\n",
              "      <th>3</th>\n",
              "      <td>yGMCl0vYigshkXiZFIDTNw</td>\n",
              "      <td>Breakfast was delicious and waitress was aweso...</td>\n",
              "      <td>5</td>\n",
              "      <td>146</td>\n",
              "    </tr>\n",
              "    <tr>\n",
              "      <th>4</th>\n",
              "      <td>yGMCl0vYigshkXiZFIDTNw</td>\n",
              "      <td>We have eaten here twice, for lunch. The first...</td>\n",
              "      <td>4</td>\n",
              "      <td>710</td>\n",
              "    </tr>\n",
              "    <tr>\n",
              "      <th>5</th>\n",
              "      <td>yGMCl0vYigshkXiZFIDTNw</td>\n",
              "      <td>awesome service, great food.  Buffy was an ama...</td>\n",
              "      <td>5</td>\n",
              "      <td>59</td>\n",
              "    </tr>\n",
              "  </tbody>\n",
              "</table>\n",
              "</div>"
            ],
            "text/plain": [
              "                  rest_id  ... char_count\n",
              "0  yGMCl0vYigshkXiZFIDTNw  ...        302\n",
              "2  yGMCl0vYigshkXiZFIDTNw  ...        111\n",
              "3  yGMCl0vYigshkXiZFIDTNw  ...        146\n",
              "4  yGMCl0vYigshkXiZFIDTNw  ...        710\n",
              "5  yGMCl0vYigshkXiZFIDTNw  ...         59\n",
              "\n",
              "[5 rows x 4 columns]"
            ]
          },
          "metadata": {
            "tags": []
          },
          "execution_count": 26
        }
      ]
    },
    {
      "cell_type": "code",
      "metadata": {
        "id": "xLmaz8-f7jp7",
        "colab_type": "code",
        "outputId": "9561cbb5-b7ea-4f48-cc4b-e19b4466e32f",
        "colab": {
          "base_uri": "https://localhost:8080/",
          "height": 204
        }
      },
      "source": [
        "# Reset index. Use the drop parameter to avoid the old index \n",
        "# being added as a column\n",
        "\n",
        "reviews = reviews[reviews['rating']!=3].reset_index(drop=True)\n",
        "reviews.head()"
      ],
      "execution_count": 27,
      "outputs": [
        {
          "output_type": "execute_result",
          "data": {
            "text/html": [
              "<div>\n",
              "<style scoped>\n",
              "    .dataframe tbody tr th:only-of-type {\n",
              "        vertical-align: middle;\n",
              "    }\n",
              "\n",
              "    .dataframe tbody tr th {\n",
              "        vertical-align: top;\n",
              "    }\n",
              "\n",
              "    .dataframe thead th {\n",
              "        text-align: right;\n",
              "    }\n",
              "</style>\n",
              "<table border=\"1\" class=\"dataframe\">\n",
              "  <thead>\n",
              "    <tr style=\"text-align: right;\">\n",
              "      <th></th>\n",
              "      <th>rest_id</th>\n",
              "      <th>text</th>\n",
              "      <th>rating</th>\n",
              "      <th>char_count</th>\n",
              "    </tr>\n",
              "  </thead>\n",
              "  <tbody>\n",
              "    <tr>\n",
              "      <th>0</th>\n",
              "      <td>yGMCl0vYigshkXiZFIDTNw</td>\n",
              "      <td>We arrived for our reservation at 7:15pm.  The...</td>\n",
              "      <td>4</td>\n",
              "      <td>302</td>\n",
              "    </tr>\n",
              "    <tr>\n",
              "      <th>1</th>\n",
              "      <td>yGMCl0vYigshkXiZFIDTNw</td>\n",
              "      <td>We received amazing service again. The food wa...</td>\n",
              "      <td>5</td>\n",
              "      <td>111</td>\n",
              "    </tr>\n",
              "    <tr>\n",
              "      <th>2</th>\n",
              "      <td>yGMCl0vYigshkXiZFIDTNw</td>\n",
              "      <td>Breakfast was delicious and waitress was aweso...</td>\n",
              "      <td>5</td>\n",
              "      <td>146</td>\n",
              "    </tr>\n",
              "    <tr>\n",
              "      <th>3</th>\n",
              "      <td>yGMCl0vYigshkXiZFIDTNw</td>\n",
              "      <td>We have eaten here twice, for lunch. The first...</td>\n",
              "      <td>4</td>\n",
              "      <td>710</td>\n",
              "    </tr>\n",
              "    <tr>\n",
              "      <th>4</th>\n",
              "      <td>yGMCl0vYigshkXiZFIDTNw</td>\n",
              "      <td>awesome service, great food.  Buffy was an ama...</td>\n",
              "      <td>5</td>\n",
              "      <td>59</td>\n",
              "    </tr>\n",
              "  </tbody>\n",
              "</table>\n",
              "</div>"
            ],
            "text/plain": [
              "                  rest_id  ... char_count\n",
              "0  yGMCl0vYigshkXiZFIDTNw  ...        302\n",
              "1  yGMCl0vYigshkXiZFIDTNw  ...        111\n",
              "2  yGMCl0vYigshkXiZFIDTNw  ...        146\n",
              "3  yGMCl0vYigshkXiZFIDTNw  ...        710\n",
              "4  yGMCl0vYigshkXiZFIDTNw  ...         59\n",
              "\n",
              "[5 rows x 4 columns]"
            ]
          },
          "metadata": {
            "tags": []
          },
          "execution_count": 27
        }
      ]
    },
    {
      "cell_type": "code",
      "metadata": {
        "id": "uyYa34Au7mle",
        "colab_type": "code",
        "outputId": "1c2e2d9f-0a1d-493c-9043-893beb350d63",
        "colab": {
          "base_uri": "https://localhost:8080/",
          "height": 204
        }
      },
      "source": [
        "# Add col 'positive' to show\n",
        "# 1 if rating is 4 or 5  \n",
        "# 0 if rating is 1 or 2\n",
        "\n",
        "reviews['positive'] = np.where(reviews['rating'] > 3, 1, 0)\n",
        "reviews.head()"
      ],
      "execution_count": 28,
      "outputs": [
        {
          "output_type": "execute_result",
          "data": {
            "text/html": [
              "<div>\n",
              "<style scoped>\n",
              "    .dataframe tbody tr th:only-of-type {\n",
              "        vertical-align: middle;\n",
              "    }\n",
              "\n",
              "    .dataframe tbody tr th {\n",
              "        vertical-align: top;\n",
              "    }\n",
              "\n",
              "    .dataframe thead th {\n",
              "        text-align: right;\n",
              "    }\n",
              "</style>\n",
              "<table border=\"1\" class=\"dataframe\">\n",
              "  <thead>\n",
              "    <tr style=\"text-align: right;\">\n",
              "      <th></th>\n",
              "      <th>rest_id</th>\n",
              "      <th>text</th>\n",
              "      <th>rating</th>\n",
              "      <th>char_count</th>\n",
              "      <th>positive</th>\n",
              "    </tr>\n",
              "  </thead>\n",
              "  <tbody>\n",
              "    <tr>\n",
              "      <th>0</th>\n",
              "      <td>yGMCl0vYigshkXiZFIDTNw</td>\n",
              "      <td>We arrived for our reservation at 7:15pm.  The...</td>\n",
              "      <td>4</td>\n",
              "      <td>302</td>\n",
              "      <td>1</td>\n",
              "    </tr>\n",
              "    <tr>\n",
              "      <th>1</th>\n",
              "      <td>yGMCl0vYigshkXiZFIDTNw</td>\n",
              "      <td>We received amazing service again. The food wa...</td>\n",
              "      <td>5</td>\n",
              "      <td>111</td>\n",
              "      <td>1</td>\n",
              "    </tr>\n",
              "    <tr>\n",
              "      <th>2</th>\n",
              "      <td>yGMCl0vYigshkXiZFIDTNw</td>\n",
              "      <td>Breakfast was delicious and waitress was aweso...</td>\n",
              "      <td>5</td>\n",
              "      <td>146</td>\n",
              "      <td>1</td>\n",
              "    </tr>\n",
              "    <tr>\n",
              "      <th>3</th>\n",
              "      <td>yGMCl0vYigshkXiZFIDTNw</td>\n",
              "      <td>We have eaten here twice, for lunch. The first...</td>\n",
              "      <td>4</td>\n",
              "      <td>710</td>\n",
              "      <td>1</td>\n",
              "    </tr>\n",
              "    <tr>\n",
              "      <th>4</th>\n",
              "      <td>yGMCl0vYigshkXiZFIDTNw</td>\n",
              "      <td>awesome service, great food.  Buffy was an ama...</td>\n",
              "      <td>5</td>\n",
              "      <td>59</td>\n",
              "      <td>1</td>\n",
              "    </tr>\n",
              "  </tbody>\n",
              "</table>\n",
              "</div>"
            ],
            "text/plain": [
              "                  rest_id  ... positive\n",
              "0  yGMCl0vYigshkXiZFIDTNw  ...        1\n",
              "1  yGMCl0vYigshkXiZFIDTNw  ...        1\n",
              "2  yGMCl0vYigshkXiZFIDTNw  ...        1\n",
              "3  yGMCl0vYigshkXiZFIDTNw  ...        1\n",
              "4  yGMCl0vYigshkXiZFIDTNw  ...        1\n",
              "\n",
              "[5 rows x 5 columns]"
            ]
          },
          "metadata": {
            "tags": []
          },
          "execution_count": 28
        }
      ]
    },
    {
      "cell_type": "markdown",
      "metadata": {
        "id": "x0oGhrou75ci",
        "colab_type": "text"
      },
      "source": [
        "### % Positive reviews\n"
      ]
    },
    {
      "cell_type": "code",
      "metadata": {
        "id": "zzAOkR3u7tUq",
        "colab_type": "code",
        "outputId": "2eb7daba-f0f6-4f1a-8708-15d7ca8bbd0f",
        "colab": {
          "base_uri": "https://localhost:8080/",
          "height": 419
        }
      },
      "source": [
        "# Only positive reviews\n",
        "reviews[reviews['positive']==1]"
      ],
      "execution_count": 29,
      "outputs": [
        {
          "output_type": "execute_result",
          "data": {
            "text/html": [
              "<div>\n",
              "<style scoped>\n",
              "    .dataframe tbody tr th:only-of-type {\n",
              "        vertical-align: middle;\n",
              "    }\n",
              "\n",
              "    .dataframe tbody tr th {\n",
              "        vertical-align: top;\n",
              "    }\n",
              "\n",
              "    .dataframe thead th {\n",
              "        text-align: right;\n",
              "    }\n",
              "</style>\n",
              "<table border=\"1\" class=\"dataframe\">\n",
              "  <thead>\n",
              "    <tr style=\"text-align: right;\">\n",
              "      <th></th>\n",
              "      <th>rest_id</th>\n",
              "      <th>text</th>\n",
              "      <th>rating</th>\n",
              "      <th>char_count</th>\n",
              "      <th>positive</th>\n",
              "    </tr>\n",
              "  </thead>\n",
              "  <tbody>\n",
              "    <tr>\n",
              "      <th>0</th>\n",
              "      <td>yGMCl0vYigshkXiZFIDTNw</td>\n",
              "      <td>We arrived for our reservation at 7:15pm.  The...</td>\n",
              "      <td>4</td>\n",
              "      <td>302</td>\n",
              "      <td>1</td>\n",
              "    </tr>\n",
              "    <tr>\n",
              "      <th>1</th>\n",
              "      <td>yGMCl0vYigshkXiZFIDTNw</td>\n",
              "      <td>We received amazing service again. The food wa...</td>\n",
              "      <td>5</td>\n",
              "      <td>111</td>\n",
              "      <td>1</td>\n",
              "    </tr>\n",
              "    <tr>\n",
              "      <th>2</th>\n",
              "      <td>yGMCl0vYigshkXiZFIDTNw</td>\n",
              "      <td>Breakfast was delicious and waitress was aweso...</td>\n",
              "      <td>5</td>\n",
              "      <td>146</td>\n",
              "      <td>1</td>\n",
              "    </tr>\n",
              "    <tr>\n",
              "      <th>3</th>\n",
              "      <td>yGMCl0vYigshkXiZFIDTNw</td>\n",
              "      <td>We have eaten here twice, for lunch. The first...</td>\n",
              "      <td>4</td>\n",
              "      <td>710</td>\n",
              "      <td>1</td>\n",
              "    </tr>\n",
              "    <tr>\n",
              "      <th>4</th>\n",
              "      <td>yGMCl0vYigshkXiZFIDTNw</td>\n",
              "      <td>awesome service, great food.  Buffy was an ama...</td>\n",
              "      <td>5</td>\n",
              "      <td>59</td>\n",
              "      <td>1</td>\n",
              "    </tr>\n",
              "    <tr>\n",
              "      <th>...</th>\n",
              "      <td>...</td>\n",
              "      <td>...</td>\n",
              "      <td>...</td>\n",
              "      <td>...</td>\n",
              "      <td>...</td>\n",
              "    </tr>\n",
              "    <tr>\n",
              "      <th>9359</th>\n",
              "      <td>8fBmyHKbrqCDLD9at83EgQ</td>\n",
              "      <td>Probably the best Salsitas in the valley. The ...</td>\n",
              "      <td>5</td>\n",
              "      <td>182</td>\n",
              "      <td>1</td>\n",
              "    </tr>\n",
              "    <tr>\n",
              "      <th>9361</th>\n",
              "      <td>8fBmyHKbrqCDLD9at83EgQ</td>\n",
              "      <td>Again blows everyone outa the water best Calif...</td>\n",
              "      <td>5</td>\n",
              "      <td>119</td>\n",
              "      <td>1</td>\n",
              "    </tr>\n",
              "    <tr>\n",
              "      <th>9362</th>\n",
              "      <td>8fBmyHKbrqCDLD9at83EgQ</td>\n",
              "      <td>I am in college and love coming to this place....</td>\n",
              "      <td>5</td>\n",
              "      <td>157</td>\n",
              "      <td>1</td>\n",
              "    </tr>\n",
              "    <tr>\n",
              "      <th>9363</th>\n",
              "      <td>8fBmyHKbrqCDLD9at83EgQ</td>\n",
              "      <td>This place offers some of the best tacos. Alwa...</td>\n",
              "      <td>5</td>\n",
              "      <td>488</td>\n",
              "      <td>1</td>\n",
              "    </tr>\n",
              "    <tr>\n",
              "      <th>9364</th>\n",
              "      <td>-g28gT1L7LlDKyXYrusI6Q</td>\n",
              "      <td>Delicious meal, fast quick service, looked ver...</td>\n",
              "      <td>5</td>\n",
              "      <td>128</td>\n",
              "      <td>1</td>\n",
              "    </tr>\n",
              "  </tbody>\n",
              "</table>\n",
              "<p>6526 rows × 5 columns</p>\n",
              "</div>"
            ],
            "text/plain": [
              "                     rest_id  ... positive\n",
              "0     yGMCl0vYigshkXiZFIDTNw  ...        1\n",
              "1     yGMCl0vYigshkXiZFIDTNw  ...        1\n",
              "2     yGMCl0vYigshkXiZFIDTNw  ...        1\n",
              "3     yGMCl0vYigshkXiZFIDTNw  ...        1\n",
              "4     yGMCl0vYigshkXiZFIDTNw  ...        1\n",
              "...                      ...  ...      ...\n",
              "9359  8fBmyHKbrqCDLD9at83EgQ  ...        1\n",
              "9361  8fBmyHKbrqCDLD9at83EgQ  ...        1\n",
              "9362  8fBmyHKbrqCDLD9at83EgQ  ...        1\n",
              "9363  8fBmyHKbrqCDLD9at83EgQ  ...        1\n",
              "9364  -g28gT1L7LlDKyXYrusI6Q  ...        1\n",
              "\n",
              "[6526 rows x 5 columns]"
            ]
          },
          "metadata": {
            "tags": []
          },
          "execution_count": 29
        }
      ]
    },
    {
      "cell_type": "code",
      "metadata": {
        "id": "y7RwBRR-7wfZ",
        "colab_type": "code",
        "outputId": "7184397e-5f73-4a23-ebda-571e4b10c4c8",
        "colab": {
          "base_uri": "https://localhost:8080/",
          "height": 34
        }
      },
      "source": [
        "# No of positive reviews\n",
        "len(reviews[reviews['positive']==1])"
      ],
      "execution_count": 30,
      "outputs": [
        {
          "output_type": "execute_result",
          "data": {
            "text/plain": [
              "6526"
            ]
          },
          "metadata": {
            "tags": []
          },
          "execution_count": 30
        }
      ]
    },
    {
      "cell_type": "code",
      "metadata": {
        "id": "A2QTIqoA7ymD",
        "colab_type": "code",
        "outputId": "b0be5618-60a3-45b4-8047-7eba5aa3c095",
        "colab": {
          "base_uri": "https://localhost:8080/",
          "height": 34
        }
      },
      "source": [
        "# No of total reviews\n",
        "len(reviews)"
      ],
      "execution_count": 31,
      "outputs": [
        {
          "output_type": "execute_result",
          "data": {
            "text/plain": [
              "9365"
            ]
          },
          "metadata": {
            "tags": []
          },
          "execution_count": 31
        }
      ]
    },
    {
      "cell_type": "code",
      "metadata": {
        "id": "YhkM2Jgu71YI",
        "colab_type": "code",
        "outputId": "be7292ee-2e35-46a2-cfe1-51b18fe10c3e",
        "colab": {
          "base_uri": "https://localhost:8080/",
          "height": 34
        }
      },
      "source": [
        "# Percent\n",
        "len(reviews[reviews['positive']==1])/len(reviews)"
      ],
      "execution_count": 32,
      "outputs": [
        {
          "output_type": "execute_result",
          "data": {
            "text/plain": [
              "0.6968499733048585"
            ]
          },
          "metadata": {
            "tags": []
          },
          "execution_count": 32
        }
      ]
    },
    {
      "cell_type": "code",
      "metadata": {
        "id": "GOnJPPE14Hwn",
        "colab_type": "code",
        "outputId": "c99309b8-d170-41c8-8515-834ede5bf89e",
        "colab": {
          "base_uri": "https://localhost:8080/",
          "height": 34
        }
      },
      "source": [
        "# Alternative (because positive has 0 or 1 as values)\n",
        "np.mean(reviews['positive'])\n",
        "# Alternative 2\n",
        "# reviews['positive'].mean()"
      ],
      "execution_count": 33,
      "outputs": [
        {
          "output_type": "execute_result",
          "data": {
            "text/plain": [
              "0.6968499733048585"
            ]
          },
          "metadata": {
            "tags": []
          },
          "execution_count": 33
        }
      ]
    },
    {
      "cell_type": "markdown",
      "metadata": {
        "id": "FiajxWde8-k4",
        "colab_type": "text"
      },
      "source": [
        "### What is a list?"
      ]
    },
    {
      "cell_type": "code",
      "metadata": {
        "id": "UDSNa6PO9CPk",
        "colab_type": "code",
        "outputId": "5feb6f04-f350-493f-f03d-c4fb57613b7e",
        "colab": {
          "base_uri": "https://localhost:8080/",
          "height": 34
        }
      },
      "source": [
        "list1 = [1, 2, 3]\n",
        "list1"
      ],
      "execution_count": 34,
      "outputs": [
        {
          "output_type": "execute_result",
          "data": {
            "text/plain": [
              "[1, 2, 3]"
            ]
          },
          "metadata": {
            "tags": []
          },
          "execution_count": 34
        }
      ]
    },
    {
      "cell_type": "code",
      "metadata": {
        "id": "gpA8_8eW8aPO",
        "colab_type": "code",
        "outputId": "2063875a-c757-4fab-d982-daa52f3951cc",
        "colab": {
          "base_uri": "https://localhost:8080/",
          "height": 34
        }
      },
      "source": [
        "list2 = [1, 5, 6]\n",
        "list2"
      ],
      "execution_count": 35,
      "outputs": [
        {
          "output_type": "execute_result",
          "data": {
            "text/plain": [
              "[1, 5, 6]"
            ]
          },
          "metadata": {
            "tags": []
          },
          "execution_count": 35
        }
      ]
    },
    {
      "cell_type": "code",
      "metadata": {
        "id": "poLrmS8A9F6w",
        "colab_type": "code",
        "outputId": "1397c041-d4a1-4056-dd0f-e9cff7e31445",
        "colab": {
          "base_uri": "https://localhost:8080/",
          "height": 34
        }
      },
      "source": [
        "# Show all elements in list1 that are not in list2\n",
        "[no for no in list1 if no not in list2]"
      ],
      "execution_count": 36,
      "outputs": [
        {
          "output_type": "execute_result",
          "data": {
            "text/plain": [
              "[2, 3]"
            ]
          },
          "metadata": {
            "tags": []
          },
          "execution_count": 36
        }
      ]
    },
    {
      "cell_type": "markdown",
      "metadata": {
        "id": "gQlwlQ3p8PpL",
        "colab_type": "text"
      },
      "source": [
        "# Text Normalization"
      ]
    },
    {
      "cell_type": "code",
      "metadata": {
        "id": "FqT29ys272Z_",
        "colab_type": "code",
        "outputId": "ff891ff1-04fd-4e43-fe02-fff4b40f3dbf",
        "colab": {
          "base_uri": "https://localhost:8080/",
          "height": 54
        }
      },
      "source": [
        "reviews['text'].iloc[250]"
      ],
      "execution_count": 37,
      "outputs": [
        {
          "output_type": "execute_result",
          "data": {
            "text/plain": [
              "\"The third time I've been here. Dropped from 5 stars to 2. I guess when they were new to this spot they cared about service. Waiting for food is a joke!! Doubt I'll come back now, third time wasn't a charm.\""
            ]
          },
          "metadata": {
            "tags": []
          },
          "execution_count": 37
        }
      ]
    },
    {
      "cell_type": "code",
      "metadata": {
        "id": "xjm4rs4u9Q7m",
        "colab_type": "code",
        "colab": {}
      },
      "source": [
        "def preprocess_text(document):\n",
        "    # Replace contractions (don't -> do not). Using contractions library\n",
        "    document = contractions.fix(document)\n",
        "    \n",
        "    # # Lowercasing\n",
        "    document = document.lower()\n",
        "    \n",
        "    # # Remove punctuation using regex\n",
        "    # ^ = NOT\n",
        "    # \\w = word character\n",
        "    # \\s = whitespace character\n",
        "    # Replace what is not a word and not a whitespace with ' '\n",
        "    document = re.sub(r'[^\\w\\s]',' ', document)\n",
        "    \n",
        "    # # Remove Special Characters & Numbers\n",
        "    document = re.sub(r'[^a-z ]', '', document)\n",
        "\n",
        "    # # Tokenization\n",
        "    document = word_tokenize(document)\n",
        "    \n",
        "    # # Remove StopWords.\n",
        "    stop_words = stopwords.words('english')\n",
        "    document = [word for word in document if word not in stop_words]\n",
        "    \n",
        "    # Change Output from List to Sentence\n",
        "    document = ' '.join(document)\n",
        "    \n",
        "    # # Lemmatization\n",
        "    document = [word.lemma_ for word in nlp(document)]\n",
        "    \n",
        "    # Change Output from List to Sentence\n",
        "    document = ' '.join(document)\n",
        "    \n",
        "    return document"
      ],
      "execution_count": 0,
      "outputs": []
    },
    {
      "cell_type": "code",
      "metadata": {
        "id": "wSyVF8sG9fgx",
        "colab_type": "code",
        "colab": {}
      },
      "source": [
        "final_corpus_test = [preprocess_text(document) \n",
        "                for document in reviews['text'][0:300].to_list()]"
      ],
      "execution_count": 0,
      "outputs": []
    },
    {
      "cell_type": "code",
      "metadata": {
        "id": "zxdzjjV69iJ0",
        "colab_type": "code",
        "outputId": "d484f0ff-ebeb-4f1b-e2d4-9c5714b8725f",
        "colab": {
          "base_uri": "https://localhost:8080/",
          "height": 34
        }
      },
      "source": [
        "final_corpus_test[250]"
      ],
      "execution_count": 40,
      "outputs": [
        {
          "output_type": "execute_result",
          "data": {
            "text/plain": [
              "'third time drop star guess new spot care service wait food joke doubt come back third time charm'"
            ]
          },
          "metadata": {
            "tags": []
          },
          "execution_count": 40
        }
      ]
    },
    {
      "cell_type": "code",
      "metadata": {
        "id": "cDWWkV609xNX",
        "colab_type": "code",
        "colab": {}
      },
      "source": [
        "# Implementing on entire dataset\n",
        "final_corpus = [preprocess_text(document) \n",
        "                for document in reviews['text'].to_list()]"
      ],
      "execution_count": 0,
      "outputs": []
    },
    {
      "cell_type": "code",
      "metadata": {
        "id": "28qqSwE1-zy9",
        "colab_type": "code",
        "colab": {}
      },
      "source": [
        "reviews['text_prep'] = final_corpus"
      ],
      "execution_count": 0,
      "outputs": []
    },
    {
      "cell_type": "code",
      "metadata": {
        "id": "hbavUr0p-6bH",
        "colab_type": "code",
        "outputId": "6c0ffc37-0582-449f-a093-afd9fe1da98c",
        "colab": {
          "base_uri": "https://localhost:8080/",
          "height": 289
        }
      },
      "source": [
        "reviews.head()"
      ],
      "execution_count": 43,
      "outputs": [
        {
          "output_type": "execute_result",
          "data": {
            "text/html": [
              "<div>\n",
              "<style scoped>\n",
              "    .dataframe tbody tr th:only-of-type {\n",
              "        vertical-align: middle;\n",
              "    }\n",
              "\n",
              "    .dataframe tbody tr th {\n",
              "        vertical-align: top;\n",
              "    }\n",
              "\n",
              "    .dataframe thead th {\n",
              "        text-align: right;\n",
              "    }\n",
              "</style>\n",
              "<table border=\"1\" class=\"dataframe\">\n",
              "  <thead>\n",
              "    <tr style=\"text-align: right;\">\n",
              "      <th></th>\n",
              "      <th>rest_id</th>\n",
              "      <th>text</th>\n",
              "      <th>rating</th>\n",
              "      <th>char_count</th>\n",
              "      <th>positive</th>\n",
              "      <th>text_prep</th>\n",
              "    </tr>\n",
              "  </thead>\n",
              "  <tbody>\n",
              "    <tr>\n",
              "      <th>0</th>\n",
              "      <td>yGMCl0vYigshkXiZFIDTNw</td>\n",
              "      <td>We arrived for our reservation at 7:15pm.  The...</td>\n",
              "      <td>4</td>\n",
              "      <td>302</td>\n",
              "      <td>1</td>\n",
              "      <td>arrived reservation pm seat -PRON- right time ...</td>\n",
              "    </tr>\n",
              "    <tr>\n",
              "      <th>1</th>\n",
              "      <td>yGMCl0vYigshkXiZFIDTNw</td>\n",
              "      <td>We received amazing service again. The food wa...</td>\n",
              "      <td>5</td>\n",
              "      <td>111</td>\n",
              "      <td>1</td>\n",
              "      <td>receive amazing service food cook right waitre...</td>\n",
              "    </tr>\n",
              "    <tr>\n",
              "      <th>2</th>\n",
              "      <td>yGMCl0vYigshkXiZFIDTNw</td>\n",
              "      <td>Breakfast was delicious and waitress was aweso...</td>\n",
              "      <td>5</td>\n",
              "      <td>146</td>\n",
              "      <td>1</td>\n",
              "      <td>breakfast delicious waitress awesome steak egg...</td>\n",
              "    </tr>\n",
              "    <tr>\n",
              "      <th>3</th>\n",
              "      <td>yGMCl0vYigshkXiZFIDTNw</td>\n",
              "      <td>We have eaten here twice, for lunch. The first...</td>\n",
              "      <td>4</td>\n",
              "      <td>710</td>\n",
              "      <td>1</td>\n",
              "      <td>eaten twice lunch first time french dip mom fi...</td>\n",
              "    </tr>\n",
              "    <tr>\n",
              "      <th>4</th>\n",
              "      <td>yGMCl0vYigshkXiZFIDTNw</td>\n",
              "      <td>awesome service, great food.  Buffy was an ama...</td>\n",
              "      <td>5</td>\n",
              "      <td>59</td>\n",
              "      <td>1</td>\n",
              "      <td>awesome service great food buffy amazing server</td>\n",
              "    </tr>\n",
              "  </tbody>\n",
              "</table>\n",
              "</div>"
            ],
            "text/plain": [
              "                  rest_id  ...                                          text_prep\n",
              "0  yGMCl0vYigshkXiZFIDTNw  ...  arrived reservation pm seat -PRON- right time ...\n",
              "1  yGMCl0vYigshkXiZFIDTNw  ...  receive amazing service food cook right waitre...\n",
              "2  yGMCl0vYigshkXiZFIDTNw  ...  breakfast delicious waitress awesome steak egg...\n",
              "3  yGMCl0vYigshkXiZFIDTNw  ...  eaten twice lunch first time french dip mom fi...\n",
              "4  yGMCl0vYigshkXiZFIDTNw  ...    awesome service great food buffy amazing server\n",
              "\n",
              "[5 rows x 6 columns]"
            ]
          },
          "metadata": {
            "tags": []
          },
          "execution_count": 43
        }
      ]
    },
    {
      "cell_type": "code",
      "metadata": {
        "id": "_AubMJcrb3Jr",
        "colab_type": "code",
        "colab": {
          "base_uri": "https://localhost:8080/",
          "height": 289
        },
        "outputId": "8708e208-9a8e-4057-b355-96624c8b82e1"
      },
      "source": [
        "# Eliminate -PRON-\n",
        "reviews['text_prep'] = reviews['text_prep'].str.replace('-PRON-', '')\n",
        "reviews.head()"
      ],
      "execution_count": 44,
      "outputs": [
        {
          "output_type": "execute_result",
          "data": {
            "text/html": [
              "<div>\n",
              "<style scoped>\n",
              "    .dataframe tbody tr th:only-of-type {\n",
              "        vertical-align: middle;\n",
              "    }\n",
              "\n",
              "    .dataframe tbody tr th {\n",
              "        vertical-align: top;\n",
              "    }\n",
              "\n",
              "    .dataframe thead th {\n",
              "        text-align: right;\n",
              "    }\n",
              "</style>\n",
              "<table border=\"1\" class=\"dataframe\">\n",
              "  <thead>\n",
              "    <tr style=\"text-align: right;\">\n",
              "      <th></th>\n",
              "      <th>rest_id</th>\n",
              "      <th>text</th>\n",
              "      <th>rating</th>\n",
              "      <th>char_count</th>\n",
              "      <th>positive</th>\n",
              "      <th>text_prep</th>\n",
              "    </tr>\n",
              "  </thead>\n",
              "  <tbody>\n",
              "    <tr>\n",
              "      <th>0</th>\n",
              "      <td>yGMCl0vYigshkXiZFIDTNw</td>\n",
              "      <td>We arrived for our reservation at 7:15pm.  The...</td>\n",
              "      <td>4</td>\n",
              "      <td>302</td>\n",
              "      <td>1</td>\n",
              "      <td>arrived reservation pm seat  right time restur...</td>\n",
              "    </tr>\n",
              "    <tr>\n",
              "      <th>1</th>\n",
              "      <td>yGMCl0vYigshkXiZFIDTNw</td>\n",
              "      <td>We received amazing service again. The food wa...</td>\n",
              "      <td>5</td>\n",
              "      <td>111</td>\n",
              "      <td>1</td>\n",
              "      <td>receive amazing service food cook right waitre...</td>\n",
              "    </tr>\n",
              "    <tr>\n",
              "      <th>2</th>\n",
              "      <td>yGMCl0vYigshkXiZFIDTNw</td>\n",
              "      <td>Breakfast was delicious and waitress was aweso...</td>\n",
              "      <td>5</td>\n",
              "      <td>146</td>\n",
              "      <td>1</td>\n",
              "      <td>breakfast delicious waitress awesome steak egg...</td>\n",
              "    </tr>\n",
              "    <tr>\n",
              "      <th>3</th>\n",
              "      <td>yGMCl0vYigshkXiZFIDTNw</td>\n",
              "      <td>We have eaten here twice, for lunch. The first...</td>\n",
              "      <td>4</td>\n",
              "      <td>710</td>\n",
              "      <td>1</td>\n",
              "      <td>eaten twice lunch first time french dip mom fi...</td>\n",
              "    </tr>\n",
              "    <tr>\n",
              "      <th>4</th>\n",
              "      <td>yGMCl0vYigshkXiZFIDTNw</td>\n",
              "      <td>awesome service, great food.  Buffy was an ama...</td>\n",
              "      <td>5</td>\n",
              "      <td>59</td>\n",
              "      <td>1</td>\n",
              "      <td>awesome service great food buffy amazing server</td>\n",
              "    </tr>\n",
              "  </tbody>\n",
              "</table>\n",
              "</div>"
            ],
            "text/plain": [
              "                  rest_id  ...                                          text_prep\n",
              "0  yGMCl0vYigshkXiZFIDTNw  ...  arrived reservation pm seat  right time restur...\n",
              "1  yGMCl0vYigshkXiZFIDTNw  ...  receive amazing service food cook right waitre...\n",
              "2  yGMCl0vYigshkXiZFIDTNw  ...  breakfast delicious waitress awesome steak egg...\n",
              "3  yGMCl0vYigshkXiZFIDTNw  ...  eaten twice lunch first time french dip mom fi...\n",
              "4  yGMCl0vYigshkXiZFIDTNw  ...    awesome service great food buffy amazing server\n",
              "\n",
              "[5 rows x 6 columns]"
            ]
          },
          "metadata": {
            "tags": []
          },
          "execution_count": 44
        }
      ]
    },
    {
      "cell_type": "code",
      "metadata": {
        "id": "jwkDbom4-9c1",
        "colab_type": "code",
        "outputId": "9426c483-3c46-4201-80a4-dbc0564230a3",
        "colab": {
          "base_uri": "https://localhost:8080/",
          "height": 71
        }
      },
      "source": [
        "reviews.iloc[250][['text', 'text_prep']].to_dict()"
      ],
      "execution_count": 45,
      "outputs": [
        {
          "output_type": "execute_result",
          "data": {
            "text/plain": [
              "{'text': \"The third time I've been here. Dropped from 5 stars to 2. I guess when they were new to this spot they cared about service. Waiting for food is a joke!! Doubt I'll come back now, third time wasn't a charm.\",\n",
              " 'text_prep': 'third time drop star guess new spot care service wait food joke doubt come back third time charm'}"
            ]
          },
          "metadata": {
            "tags": []
          },
          "execution_count": 45
        }
      ]
    },
    {
      "cell_type": "markdown",
      "metadata": {
        "id": "Z6tKKWV54X4A",
        "colab_type": "text"
      },
      "source": [
        "# Exporting to csv"
      ]
    },
    {
      "cell_type": "code",
      "metadata": {
        "id": "vGN6J2I94dAG",
        "colab_type": "code",
        "colab": {}
      },
      "source": [
        "reviews.to_csv(path + 'yelp_glendale_az_rest_2017_clean.csv',\n",
        "               index = False)"
      ],
      "execution_count": 0,
      "outputs": []
    }
  ]
}