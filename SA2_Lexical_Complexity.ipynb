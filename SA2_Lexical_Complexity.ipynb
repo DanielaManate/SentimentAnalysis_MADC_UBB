{
  "nbformat": 4,
  "nbformat_minor": 0,
  "metadata": {
    "kernelspec": {
      "display_name": "Python 3",
      "language": "python",
      "name": "python3"
    },
    "language_info": {
      "codemirror_mode": {
        "name": "ipython",
        "version": 3
      },
      "file_extension": ".py",
      "mimetype": "text/x-python",
      "name": "python",
      "nbconvert_exporter": "python",
      "pygments_lexer": "ipython3",
      "version": "3.7.6"
    },
    "colab": {
      "name": "SA2_Lexical_Complexity.ipynb",
      "provenance": [],
      "collapsed_sections": [],
      "toc_visible": true,
      "include_colab_link": true
    }
  },
  "cells": [
    {
      "cell_type": "markdown",
      "metadata": {
        "id": "view-in-github",
        "colab_type": "text"
      },
      "source": [
        "<a href=\"https://colab.research.google.com/github/DanielaManate/SentimentAnalysis_MADC_UBB/blob/master/SA2_Lexical_Complexity.ipynb\" target=\"_parent\"><img src=\"https://colab.research.google.com/assets/colab-badge.svg\" alt=\"Open In Colab\"/></a>"
      ]
    },
    {
      "cell_type": "markdown",
      "metadata": {
        "id": "s3z64CrduW11",
        "colab_type": "text"
      },
      "source": [
        "# Importing Libraries"
      ]
    },
    {
      "cell_type": "code",
      "metadata": {
        "id": "5Mq0HxLxuW12",
        "colab_type": "code",
        "outputId": "2e678072-d910-44b7-dda4-e9996a53532f",
        "colab": {
          "base_uri": "https://localhost:8080/",
          "height": 51
        }
      },
      "source": [
        "import pandas as pd\n",
        "import numpy as np\n",
        "\n",
        "# Convert text to vectors of numbers => document-term-matrix\n",
        "from sklearn.feature_extraction.text import CountVectorizer\n",
        "\n",
        "# for tokenizing\n",
        "import nltk\n",
        "nltk.download('punkt')\n",
        "from nltk.tokenize import word_tokenize\n",
        "\n",
        "# plots\n",
        "import matplotlib.pyplot as plt\n",
        "\n",
        "# for wordlcloud graphs\n",
        "from wordcloud import WordCloud"
      ],
      "execution_count": 1,
      "outputs": [
        {
          "output_type": "stream",
          "text": [
            "[nltk_data] Downloading package punkt to /root/nltk_data...\n",
            "[nltk_data]   Package punkt is already up-to-date!\n"
          ],
          "name": "stdout"
        }
      ]
    },
    {
      "cell_type": "code",
      "metadata": {
        "colab_type": "code",
        "id": "qLK9vG0Z1Emw",
        "colab": {
          "base_uri": "https://localhost:8080/",
          "height": 54
        },
        "outputId": "45460489-4f28-4d52-b9d1-0bc72f475925"
      },
      "source": [
        "from google.colab import drive\n",
        "drive.mount('/content/gdrive')\n",
        "path = 'gdrive/My Drive/Colab Notebooks/Data/'"
      ],
      "execution_count": 2,
      "outputs": [
        {
          "output_type": "stream",
          "text": [
            "Drive already mounted at /content/gdrive; to attempt to forcibly remount, call drive.mount(\"/content/gdrive\", force_remount=True).\n"
          ],
          "name": "stdout"
        }
      ]
    },
    {
      "cell_type": "markdown",
      "metadata": {
        "id": "T-Gw983PuW1-",
        "colab_type": "text"
      },
      "source": [
        "# Reading Dataset"
      ]
    },
    {
      "cell_type": "code",
      "metadata": {
        "id": "M7f15V9h1zeY",
        "colab_type": "code",
        "outputId": "b0445b2e-ffb8-4e83-a248-f88240cf1970",
        "colab": {
          "base_uri": "https://localhost:8080/",
          "height": 527
        }
      },
      "source": [
        "reviews = pd.read_csv(path + 'Input/2.input_data_prepped.csv')\n",
        "reviews.head()"
      ],
      "execution_count": 3,
      "outputs": [
        {
          "output_type": "execute_result",
          "data": {
            "text/html": [
              "<div>\n",
              "<style scoped>\n",
              "    .dataframe tbody tr th:only-of-type {\n",
              "        vertical-align: middle;\n",
              "    }\n",
              "\n",
              "    .dataframe tbody tr th {\n",
              "        vertical-align: top;\n",
              "    }\n",
              "\n",
              "    .dataframe thead th {\n",
              "        text-align: right;\n",
              "    }\n",
              "</style>\n",
              "<table border=\"1\" class=\"dataframe\">\n",
              "  <thead>\n",
              "    <tr style=\"text-align: right;\">\n",
              "      <th></th>\n",
              "      <th>rest_id</th>\n",
              "      <th>text</th>\n",
              "      <th>rating</th>\n",
              "      <th>char_count</th>\n",
              "      <th>positive</th>\n",
              "      <th>text_prep</th>\n",
              "    </tr>\n",
              "  </thead>\n",
              "  <tbody>\n",
              "    <tr>\n",
              "      <th>0</th>\n",
              "      <td>yGMCl0vYigshkXiZFIDTNw</td>\n",
              "      <td>We arrived for our reservation at 7:15pm.  The...</td>\n",
              "      <td>4</td>\n",
              "      <td>302</td>\n",
              "      <td>1</td>\n",
              "      <td>arrived reservation pm seat -PRON- right time ...</td>\n",
              "    </tr>\n",
              "    <tr>\n",
              "      <th>1</th>\n",
              "      <td>yGMCl0vYigshkXiZFIDTNw</td>\n",
              "      <td>We received amazing service again. The food wa...</td>\n",
              "      <td>5</td>\n",
              "      <td>111</td>\n",
              "      <td>1</td>\n",
              "      <td>receive amazing service food cook right waitre...</td>\n",
              "    </tr>\n",
              "    <tr>\n",
              "      <th>2</th>\n",
              "      <td>yGMCl0vYigshkXiZFIDTNw</td>\n",
              "      <td>Breakfast was delicious and waitress was aweso...</td>\n",
              "      <td>5</td>\n",
              "      <td>146</td>\n",
              "      <td>1</td>\n",
              "      <td>breakfast delicious waitress awesome steak egg...</td>\n",
              "    </tr>\n",
              "    <tr>\n",
              "      <th>3</th>\n",
              "      <td>yGMCl0vYigshkXiZFIDTNw</td>\n",
              "      <td>We have eaten here twice, for lunch. The first...</td>\n",
              "      <td>4</td>\n",
              "      <td>710</td>\n",
              "      <td>1</td>\n",
              "      <td>eaten twice lunch first time french dip mom fi...</td>\n",
              "    </tr>\n",
              "    <tr>\n",
              "      <th>4</th>\n",
              "      <td>yGMCl0vYigshkXiZFIDTNw</td>\n",
              "      <td>awesome service, great food.  Buffy was an ama...</td>\n",
              "      <td>5</td>\n",
              "      <td>59</td>\n",
              "      <td>1</td>\n",
              "      <td>awesome service great food buffy amazing server</td>\n",
              "    </tr>\n",
              "  </tbody>\n",
              "</table>\n",
              "</div>"
            ],
            "text/plain": [
              "                  rest_id  ...                                          text_prep\n",
              "0  yGMCl0vYigshkXiZFIDTNw  ...  arrived reservation pm seat -PRON- right time ...\n",
              "1  yGMCl0vYigshkXiZFIDTNw  ...  receive amazing service food cook right waitre...\n",
              "2  yGMCl0vYigshkXiZFIDTNw  ...  breakfast delicious waitress awesome steak egg...\n",
              "3  yGMCl0vYigshkXiZFIDTNw  ...  eaten twice lunch first time french dip mom fi...\n",
              "4  yGMCl0vYigshkXiZFIDTNw  ...    awesome service great food buffy amazing server\n",
              "\n",
              "[5 rows x 6 columns]"
            ]
          },
          "metadata": {
            "tags": []
          },
          "execution_count": 3
        }
      ]
    },
    {
      "cell_type": "code",
      "metadata": {
        "id": "ssnRQYN4uvUT",
        "colab_type": "code",
        "outputId": "9b6b3c96-4cee-4ed1-96ac-082a83c3ca1f",
        "colab": {
          "base_uri": "https://localhost:8080/",
          "height": 136
        }
      },
      "source": [
        "reviews.dtypes"
      ],
      "execution_count": 4,
      "outputs": [
        {
          "output_type": "execute_result",
          "data": {
            "text/plain": [
              "rest_id       object\n",
              "text          object\n",
              "rating         int64\n",
              "char_count     int64\n",
              "positive       int64\n",
              "text_prep     object\n",
              "dtype: object"
            ]
          },
          "metadata": {
            "tags": []
          },
          "execution_count": 4
        }
      ]
    },
    {
      "cell_type": "code",
      "metadata": {
        "id": "mF1FKQ2YuW2D",
        "colab_type": "code",
        "colab": {}
      },
      "source": [
        "# Convert text_prep to string to counteract issues later\n",
        "reviews['text_prep'] = reviews['text_prep'].astype(str)"
      ],
      "execution_count": 0,
      "outputs": []
    },
    {
      "cell_type": "markdown",
      "metadata": {
        "id": "XkKY6ytcuW2G",
        "colab_type": "text"
      },
      "source": [
        "# Lexical Complexity\n",
        "- Word Frequency: number of words per corpus. Top Words\n",
        "- Word Length: average length of individual words in a text\n",
        "- Lexical Diversity: number of unique words used in a text\n",
        "- Lexical Density: the number of unique words divided by the total number of words (word repetition)"
      ]
    },
    {
      "cell_type": "markdown",
      "metadata": {
        "id": "PF7B0auPuW2H",
        "colab_type": "text"
      },
      "source": [
        "# Bag of Words - Top 6000"
      ]
    },
    {
      "cell_type": "code",
      "metadata": {
        "id": "dWgRYmSUuW2I",
        "colab_type": "code",
        "outputId": "1860ad81-28ad-40d1-8798-04351269a615",
        "colab": {
          "base_uri": "https://localhost:8080/",
          "height": 34
        }
      },
      "source": [
        "len(reviews)"
      ],
      "execution_count": 6,
      "outputs": [
        {
          "output_type": "execute_result",
          "data": {
            "text/plain": [
              "9365"
            ]
          },
          "metadata": {
            "tags": []
          },
          "execution_count": 6
        }
      ]
    },
    {
      "cell_type": "markdown",
      "metadata": {
        "id": "Gd7DVMv5-5FO",
        "colab_type": "text"
      },
      "source": [
        "Matrix VS Array\n",
        "- matrices are strictly 2-dimensional \n",
        "- numpy arrays (ndarrays) are N-dimensional.\n",
        "\n",
        "DF VS Array\n",
        "- DF = 2-dimensional array with labeled axes (matrix with column names for columns, and index labels for rows)\n",
        "- A single column or row in a Pandas DataFrame is a Pandas series — a one-dimensional array with axis labels\n",
        "\n",
        "Sparse Matrix\n",
        "= Matrices that contain mostly zero values are called sparse, distinct from matrices where most of the values are non-zero, called dense.\n",
        "\n",
        "Compressed Sparse Row Matrix: a compressed matrix, to save space (contains one vector for index pointers, one vector for indexes, one vector with data, does not save 0s)\n",
        "\n",
        "Converting compressed sparse matrix to\n",
        "- dense matrix: counts_per_review.todense()\n",
        "- array: counts_per_review.toarray()\n"
      ]
    },
    {
      "cell_type": "markdown",
      "metadata": {
        "id": "CGbjlDd56HfP",
        "colab_type": "text"
      },
      "source": [
        "### Create a document-term-matrix"
      ]
    },
    {
      "cell_type": "code",
      "metadata": {
        "scrolled": false,
        "id": "Xz3JDaueuW2O",
        "colab_type": "code",
        "colab": {}
      },
      "source": [
        "# max_features = If not None, build a vocabulary that only consider the top \n",
        "# max_features ordered by term frequency across the corpus.\n",
        "\n",
        "# construct the vocab on most frequent 6000 words\n",
        "vec = CountVectorizer(max_features = 6000)\n",
        "\n",
        "# creates a matrix with rows = documents, cols = words\n",
        "counts_per_review = vec.fit_transform(reviews.text_prep)\n",
        "\n",
        "# the 6000 words => will become the name of the cols\n",
        "review_words = vec.get_feature_names()\n",
        "\n",
        "dtm = pd.DataFrame(counts_per_review.toarray(), \n",
        "                   columns=review_words)"
      ],
      "execution_count": 0,
      "outputs": []
    },
    {
      "cell_type": "code",
      "metadata": {
        "id": "7KG20UHHuW2Q",
        "colab_type": "code",
        "outputId": "d5b01c5d-5ff6-4e18-94de-129fca3a9a83",
        "colab": {
          "base_uri": "https://localhost:8080/",
          "height": 253
        }
      },
      "source": [
        "dtm.head()"
      ],
      "execution_count": 8,
      "outputs": [
        {
          "output_type": "execute_result",
          "data": {
            "text/html": [
              "<div>\n",
              "<style scoped>\n",
              "    .dataframe tbody tr th:only-of-type {\n",
              "        vertical-align: middle;\n",
              "    }\n",
              "\n",
              "    .dataframe tbody tr th {\n",
              "        vertical-align: top;\n",
              "    }\n",
              "\n",
              "    .dataframe thead th {\n",
              "        text-align: right;\n",
              "    }\n",
              "</style>\n",
              "<table border=\"1\" class=\"dataframe\">\n",
              "  <thead>\n",
              "    <tr style=\"text-align: right;\">\n",
              "      <th></th>\n",
              "      <th>aaabar</th>\n",
              "      <th>aaron</th>\n",
              "      <th>abacus</th>\n",
              "      <th>ability</th>\n",
              "      <th>able</th>\n",
              "      <th>absolute</th>\n",
              "      <th>absolutely</th>\n",
              "      <th>absurd</th>\n",
              "      <th>abundance</th>\n",
              "      <th>abundant</th>\n",
              "      <th>ac</th>\n",
              "      <th>acai</th>\n",
              "      <th>accent</th>\n",
              "      <th>accept</th>\n",
              "      <th>acceptable</th>\n",
              "      <th>acceptance</th>\n",
              "      <th>access</th>\n",
              "      <th>accessible</th>\n",
              "      <th>accident</th>\n",
              "      <th>accidentally</th>\n",
              "      <th>accommodate</th>\n",
              "      <th>accommodating</th>\n",
              "      <th>accommodation</th>\n",
              "      <th>accomodate</th>\n",
              "      <th>accompaniment</th>\n",
              "      <th>accompany</th>\n",
              "      <th>accord</th>\n",
              "      <th>accordingly</th>\n",
              "      <th>accordion</th>\n",
              "      <th>account</th>\n",
              "      <th>accuracy</th>\n",
              "      <th>accurate</th>\n",
              "      <th>accuse</th>\n",
              "      <th>ace</th>\n",
              "      <th>ache</th>\n",
              "      <th>achieve</th>\n",
              "      <th>acidic</th>\n",
              "      <th>acknowledge</th>\n",
              "      <th>acknowledgement</th>\n",
              "      <th>acoustic</th>\n",
              "      <th>...</th>\n",
              "      <th>yen</th>\n",
              "      <th>yep</th>\n",
              "      <th>yes</th>\n",
              "      <th>yesterday</th>\n",
              "      <th>yet</th>\n",
              "      <th>yike</th>\n",
              "      <th>yo</th>\n",
              "      <th>yogurt</th>\n",
              "      <th>yoke</th>\n",
              "      <th>yolk</th>\n",
              "      <th>york</th>\n",
              "      <th>yorker</th>\n",
              "      <th>young</th>\n",
              "      <th>younger</th>\n",
              "      <th>youngster</th>\n",
              "      <th>youth</th>\n",
              "      <th>yr</th>\n",
              "      <th>yrs</th>\n",
              "      <th>yuck</th>\n",
              "      <th>yum</th>\n",
              "      <th>yumm</th>\n",
              "      <th>yumminess</th>\n",
              "      <th>yummm</th>\n",
              "      <th>yummmm</th>\n",
              "      <th>yummo</th>\n",
              "      <th>yummy</th>\n",
              "      <th>yup</th>\n",
              "      <th>zach</th>\n",
              "      <th>zack</th>\n",
              "      <th>zero</th>\n",
              "      <th>zesty</th>\n",
              "      <th>zillion</th>\n",
              "      <th>zipps</th>\n",
              "      <th>ziti</th>\n",
              "      <th>zoe</th>\n",
              "      <th>zone</th>\n",
              "      <th>zucchini</th>\n",
              "      <th>zuchinni</th>\n",
              "      <th>zupa</th>\n",
              "      <th>zupas</th>\n",
              "    </tr>\n",
              "  </thead>\n",
              "  <tbody>\n",
              "    <tr>\n",
              "      <th>0</th>\n",
              "      <td>0</td>\n",
              "      <td>0</td>\n",
              "      <td>0</td>\n",
              "      <td>0</td>\n",
              "      <td>0</td>\n",
              "      <td>0</td>\n",
              "      <td>0</td>\n",
              "      <td>0</td>\n",
              "      <td>0</td>\n",
              "      <td>0</td>\n",
              "      <td>0</td>\n",
              "      <td>0</td>\n",
              "      <td>0</td>\n",
              "      <td>0</td>\n",
              "      <td>0</td>\n",
              "      <td>0</td>\n",
              "      <td>0</td>\n",
              "      <td>0</td>\n",
              "      <td>0</td>\n",
              "      <td>0</td>\n",
              "      <td>0</td>\n",
              "      <td>0</td>\n",
              "      <td>0</td>\n",
              "      <td>0</td>\n",
              "      <td>0</td>\n",
              "      <td>0</td>\n",
              "      <td>0</td>\n",
              "      <td>0</td>\n",
              "      <td>0</td>\n",
              "      <td>0</td>\n",
              "      <td>0</td>\n",
              "      <td>0</td>\n",
              "      <td>0</td>\n",
              "      <td>0</td>\n",
              "      <td>0</td>\n",
              "      <td>0</td>\n",
              "      <td>0</td>\n",
              "      <td>0</td>\n",
              "      <td>0</td>\n",
              "      <td>0</td>\n",
              "      <td>...</td>\n",
              "      <td>0</td>\n",
              "      <td>0</td>\n",
              "      <td>0</td>\n",
              "      <td>0</td>\n",
              "      <td>0</td>\n",
              "      <td>0</td>\n",
              "      <td>0</td>\n",
              "      <td>0</td>\n",
              "      <td>0</td>\n",
              "      <td>0</td>\n",
              "      <td>0</td>\n",
              "      <td>0</td>\n",
              "      <td>0</td>\n",
              "      <td>0</td>\n",
              "      <td>0</td>\n",
              "      <td>0</td>\n",
              "      <td>0</td>\n",
              "      <td>0</td>\n",
              "      <td>0</td>\n",
              "      <td>0</td>\n",
              "      <td>0</td>\n",
              "      <td>0</td>\n",
              "      <td>0</td>\n",
              "      <td>0</td>\n",
              "      <td>0</td>\n",
              "      <td>0</td>\n",
              "      <td>0</td>\n",
              "      <td>0</td>\n",
              "      <td>0</td>\n",
              "      <td>0</td>\n",
              "      <td>0</td>\n",
              "      <td>0</td>\n",
              "      <td>0</td>\n",
              "      <td>0</td>\n",
              "      <td>0</td>\n",
              "      <td>0</td>\n",
              "      <td>0</td>\n",
              "      <td>0</td>\n",
              "      <td>0</td>\n",
              "      <td>0</td>\n",
              "    </tr>\n",
              "    <tr>\n",
              "      <th>1</th>\n",
              "      <td>0</td>\n",
              "      <td>0</td>\n",
              "      <td>0</td>\n",
              "      <td>0</td>\n",
              "      <td>0</td>\n",
              "      <td>0</td>\n",
              "      <td>0</td>\n",
              "      <td>0</td>\n",
              "      <td>0</td>\n",
              "      <td>0</td>\n",
              "      <td>0</td>\n",
              "      <td>0</td>\n",
              "      <td>0</td>\n",
              "      <td>0</td>\n",
              "      <td>0</td>\n",
              "      <td>0</td>\n",
              "      <td>0</td>\n",
              "      <td>0</td>\n",
              "      <td>0</td>\n",
              "      <td>0</td>\n",
              "      <td>0</td>\n",
              "      <td>0</td>\n",
              "      <td>0</td>\n",
              "      <td>0</td>\n",
              "      <td>0</td>\n",
              "      <td>0</td>\n",
              "      <td>0</td>\n",
              "      <td>0</td>\n",
              "      <td>0</td>\n",
              "      <td>0</td>\n",
              "      <td>0</td>\n",
              "      <td>0</td>\n",
              "      <td>0</td>\n",
              "      <td>0</td>\n",
              "      <td>0</td>\n",
              "      <td>0</td>\n",
              "      <td>0</td>\n",
              "      <td>0</td>\n",
              "      <td>0</td>\n",
              "      <td>0</td>\n",
              "      <td>...</td>\n",
              "      <td>0</td>\n",
              "      <td>0</td>\n",
              "      <td>0</td>\n",
              "      <td>0</td>\n",
              "      <td>0</td>\n",
              "      <td>0</td>\n",
              "      <td>0</td>\n",
              "      <td>0</td>\n",
              "      <td>0</td>\n",
              "      <td>0</td>\n",
              "      <td>0</td>\n",
              "      <td>0</td>\n",
              "      <td>0</td>\n",
              "      <td>0</td>\n",
              "      <td>0</td>\n",
              "      <td>0</td>\n",
              "      <td>0</td>\n",
              "      <td>0</td>\n",
              "      <td>0</td>\n",
              "      <td>0</td>\n",
              "      <td>0</td>\n",
              "      <td>0</td>\n",
              "      <td>0</td>\n",
              "      <td>0</td>\n",
              "      <td>0</td>\n",
              "      <td>0</td>\n",
              "      <td>0</td>\n",
              "      <td>0</td>\n",
              "      <td>0</td>\n",
              "      <td>0</td>\n",
              "      <td>0</td>\n",
              "      <td>0</td>\n",
              "      <td>0</td>\n",
              "      <td>0</td>\n",
              "      <td>0</td>\n",
              "      <td>0</td>\n",
              "      <td>0</td>\n",
              "      <td>0</td>\n",
              "      <td>0</td>\n",
              "      <td>0</td>\n",
              "    </tr>\n",
              "    <tr>\n",
              "      <th>2</th>\n",
              "      <td>0</td>\n",
              "      <td>0</td>\n",
              "      <td>0</td>\n",
              "      <td>0</td>\n",
              "      <td>0</td>\n",
              "      <td>0</td>\n",
              "      <td>0</td>\n",
              "      <td>0</td>\n",
              "      <td>0</td>\n",
              "      <td>0</td>\n",
              "      <td>0</td>\n",
              "      <td>0</td>\n",
              "      <td>0</td>\n",
              "      <td>0</td>\n",
              "      <td>0</td>\n",
              "      <td>0</td>\n",
              "      <td>0</td>\n",
              "      <td>0</td>\n",
              "      <td>0</td>\n",
              "      <td>0</td>\n",
              "      <td>0</td>\n",
              "      <td>0</td>\n",
              "      <td>0</td>\n",
              "      <td>0</td>\n",
              "      <td>0</td>\n",
              "      <td>0</td>\n",
              "      <td>0</td>\n",
              "      <td>0</td>\n",
              "      <td>0</td>\n",
              "      <td>0</td>\n",
              "      <td>0</td>\n",
              "      <td>0</td>\n",
              "      <td>0</td>\n",
              "      <td>0</td>\n",
              "      <td>0</td>\n",
              "      <td>0</td>\n",
              "      <td>0</td>\n",
              "      <td>0</td>\n",
              "      <td>0</td>\n",
              "      <td>0</td>\n",
              "      <td>...</td>\n",
              "      <td>0</td>\n",
              "      <td>0</td>\n",
              "      <td>0</td>\n",
              "      <td>0</td>\n",
              "      <td>0</td>\n",
              "      <td>0</td>\n",
              "      <td>0</td>\n",
              "      <td>0</td>\n",
              "      <td>0</td>\n",
              "      <td>0</td>\n",
              "      <td>0</td>\n",
              "      <td>0</td>\n",
              "      <td>0</td>\n",
              "      <td>0</td>\n",
              "      <td>0</td>\n",
              "      <td>0</td>\n",
              "      <td>0</td>\n",
              "      <td>0</td>\n",
              "      <td>0</td>\n",
              "      <td>0</td>\n",
              "      <td>0</td>\n",
              "      <td>0</td>\n",
              "      <td>0</td>\n",
              "      <td>0</td>\n",
              "      <td>0</td>\n",
              "      <td>0</td>\n",
              "      <td>0</td>\n",
              "      <td>0</td>\n",
              "      <td>0</td>\n",
              "      <td>0</td>\n",
              "      <td>0</td>\n",
              "      <td>0</td>\n",
              "      <td>0</td>\n",
              "      <td>0</td>\n",
              "      <td>0</td>\n",
              "      <td>0</td>\n",
              "      <td>0</td>\n",
              "      <td>0</td>\n",
              "      <td>0</td>\n",
              "      <td>0</td>\n",
              "    </tr>\n",
              "    <tr>\n",
              "      <th>3</th>\n",
              "      <td>0</td>\n",
              "      <td>0</td>\n",
              "      <td>0</td>\n",
              "      <td>0</td>\n",
              "      <td>0</td>\n",
              "      <td>0</td>\n",
              "      <td>0</td>\n",
              "      <td>0</td>\n",
              "      <td>0</td>\n",
              "      <td>0</td>\n",
              "      <td>0</td>\n",
              "      <td>0</td>\n",
              "      <td>0</td>\n",
              "      <td>0</td>\n",
              "      <td>0</td>\n",
              "      <td>0</td>\n",
              "      <td>0</td>\n",
              "      <td>0</td>\n",
              "      <td>0</td>\n",
              "      <td>0</td>\n",
              "      <td>0</td>\n",
              "      <td>0</td>\n",
              "      <td>0</td>\n",
              "      <td>0</td>\n",
              "      <td>0</td>\n",
              "      <td>0</td>\n",
              "      <td>0</td>\n",
              "      <td>0</td>\n",
              "      <td>0</td>\n",
              "      <td>0</td>\n",
              "      <td>0</td>\n",
              "      <td>0</td>\n",
              "      <td>0</td>\n",
              "      <td>0</td>\n",
              "      <td>0</td>\n",
              "      <td>0</td>\n",
              "      <td>0</td>\n",
              "      <td>0</td>\n",
              "      <td>0</td>\n",
              "      <td>0</td>\n",
              "      <td>...</td>\n",
              "      <td>0</td>\n",
              "      <td>0</td>\n",
              "      <td>0</td>\n",
              "      <td>0</td>\n",
              "      <td>0</td>\n",
              "      <td>0</td>\n",
              "      <td>0</td>\n",
              "      <td>0</td>\n",
              "      <td>0</td>\n",
              "      <td>0</td>\n",
              "      <td>0</td>\n",
              "      <td>0</td>\n",
              "      <td>0</td>\n",
              "      <td>0</td>\n",
              "      <td>0</td>\n",
              "      <td>0</td>\n",
              "      <td>0</td>\n",
              "      <td>0</td>\n",
              "      <td>0</td>\n",
              "      <td>1</td>\n",
              "      <td>0</td>\n",
              "      <td>0</td>\n",
              "      <td>0</td>\n",
              "      <td>0</td>\n",
              "      <td>0</td>\n",
              "      <td>0</td>\n",
              "      <td>0</td>\n",
              "      <td>0</td>\n",
              "      <td>0</td>\n",
              "      <td>0</td>\n",
              "      <td>0</td>\n",
              "      <td>0</td>\n",
              "      <td>0</td>\n",
              "      <td>0</td>\n",
              "      <td>0</td>\n",
              "      <td>0</td>\n",
              "      <td>0</td>\n",
              "      <td>0</td>\n",
              "      <td>0</td>\n",
              "      <td>0</td>\n",
              "    </tr>\n",
              "    <tr>\n",
              "      <th>4</th>\n",
              "      <td>0</td>\n",
              "      <td>0</td>\n",
              "      <td>0</td>\n",
              "      <td>0</td>\n",
              "      <td>0</td>\n",
              "      <td>0</td>\n",
              "      <td>0</td>\n",
              "      <td>0</td>\n",
              "      <td>0</td>\n",
              "      <td>0</td>\n",
              "      <td>0</td>\n",
              "      <td>0</td>\n",
              "      <td>0</td>\n",
              "      <td>0</td>\n",
              "      <td>0</td>\n",
              "      <td>0</td>\n",
              "      <td>0</td>\n",
              "      <td>0</td>\n",
              "      <td>0</td>\n",
              "      <td>0</td>\n",
              "      <td>0</td>\n",
              "      <td>0</td>\n",
              "      <td>0</td>\n",
              "      <td>0</td>\n",
              "      <td>0</td>\n",
              "      <td>0</td>\n",
              "      <td>0</td>\n",
              "      <td>0</td>\n",
              "      <td>0</td>\n",
              "      <td>0</td>\n",
              "      <td>0</td>\n",
              "      <td>0</td>\n",
              "      <td>0</td>\n",
              "      <td>0</td>\n",
              "      <td>0</td>\n",
              "      <td>0</td>\n",
              "      <td>0</td>\n",
              "      <td>0</td>\n",
              "      <td>0</td>\n",
              "      <td>0</td>\n",
              "      <td>...</td>\n",
              "      <td>0</td>\n",
              "      <td>0</td>\n",
              "      <td>0</td>\n",
              "      <td>0</td>\n",
              "      <td>0</td>\n",
              "      <td>0</td>\n",
              "      <td>0</td>\n",
              "      <td>0</td>\n",
              "      <td>0</td>\n",
              "      <td>0</td>\n",
              "      <td>0</td>\n",
              "      <td>0</td>\n",
              "      <td>0</td>\n",
              "      <td>0</td>\n",
              "      <td>0</td>\n",
              "      <td>0</td>\n",
              "      <td>0</td>\n",
              "      <td>0</td>\n",
              "      <td>0</td>\n",
              "      <td>0</td>\n",
              "      <td>0</td>\n",
              "      <td>0</td>\n",
              "      <td>0</td>\n",
              "      <td>0</td>\n",
              "      <td>0</td>\n",
              "      <td>0</td>\n",
              "      <td>0</td>\n",
              "      <td>0</td>\n",
              "      <td>0</td>\n",
              "      <td>0</td>\n",
              "      <td>0</td>\n",
              "      <td>0</td>\n",
              "      <td>0</td>\n",
              "      <td>0</td>\n",
              "      <td>0</td>\n",
              "      <td>0</td>\n",
              "      <td>0</td>\n",
              "      <td>0</td>\n",
              "      <td>0</td>\n",
              "      <td>0</td>\n",
              "    </tr>\n",
              "  </tbody>\n",
              "</table>\n",
              "<p>5 rows × 6000 columns</p>\n",
              "</div>"
            ],
            "text/plain": [
              "   aaabar  aaron  abacus  ability  able  ...  zone  zucchini  zuchinni  zupa  zupas\n",
              "0       0      0       0        0     0  ...     0         0         0     0      0\n",
              "1       0      0       0        0     0  ...     0         0         0     0      0\n",
              "2       0      0       0        0     0  ...     0         0         0     0      0\n",
              "3       0      0       0        0     0  ...     0         0         0     0      0\n",
              "4       0      0       0        0     0  ...     0         0         0     0      0\n",
              "\n",
              "[5 rows x 6000 columns]"
            ]
          },
          "metadata": {
            "tags": []
          },
          "execution_count": 8
        }
      ]
    },
    {
      "cell_type": "code",
      "metadata": {
        "id": "N0xvxz9gB-1S",
        "colab_type": "code",
        "colab": {
          "base_uri": "https://localhost:8080/",
          "height": 221
        },
        "outputId": "26a8a685-ef35-44f0-f8a6-5bf43754b58e"
      },
      "source": [
        "dtm['pron']"
      ],
      "execution_count": 9,
      "outputs": [
        {
          "output_type": "execute_result",
          "data": {
            "text/plain": [
              "0       1\n",
              "1       0\n",
              "2       0\n",
              "3       0\n",
              "4       0\n",
              "       ..\n",
              "9360    0\n",
              "9361    0\n",
              "9362    0\n",
              "9363    0\n",
              "9364    0\n",
              "Name: pron, Length: 9365, dtype: int64"
            ]
          },
          "metadata": {
            "tags": []
          },
          "execution_count": 9
        }
      ]
    },
    {
      "cell_type": "code",
      "metadata": {
        "id": "NnyWDZCMCF-P",
        "colab_type": "code",
        "colab": {
          "base_uri": "https://localhost:8080/",
          "height": 34
        },
        "outputId": "7e0b8e41-6135-49fe-c8ce-f455dbec6f1f"
      },
      "source": [
        "# Delete pron column\n",
        "del dtm['pron']\n",
        "dtm.shape"
      ],
      "execution_count": 10,
      "outputs": [
        {
          "output_type": "execute_result",
          "data": {
            "text/plain": [
              "(9365, 5999)"
            ]
          },
          "metadata": {
            "tags": []
          },
          "execution_count": 10
        }
      ]
    },
    {
      "cell_type": "code",
      "metadata": {
        "id": "4IbuuVoTuW2T",
        "colab_type": "code",
        "outputId": "e72b7200-c451-4801-bce2-950b6929fc48",
        "colab": {
          "base_uri": "https://localhost:8080/",
          "height": 54
        }
      },
      "source": [
        "reviews.text_prep.iloc[250]"
      ],
      "execution_count": 11,
      "outputs": [
        {
          "output_type": "execute_result",
          "data": {
            "text/plain": [
              "'third time drop star guess new spot care service wait food joke doubt come back third time charm'"
            ]
          },
          "metadata": {
            "tags": []
          },
          "execution_count": 11
        }
      ]
    },
    {
      "cell_type": "code",
      "metadata": {
        "id": "ExhfKawXuW2W",
        "colab_type": "code",
        "outputId": "da513cd3-a1f2-458e-95c0-75fede1bd799",
        "colab": {
          "base_uri": "https://localhost:8080/",
          "height": 34
        }
      },
      "source": [
        "dtm['third'].iloc[250]"
      ],
      "execution_count": 12,
      "outputs": [
        {
          "output_type": "execute_result",
          "data": {
            "text/plain": [
              "2"
            ]
          },
          "metadata": {
            "tags": []
          },
          "execution_count": 12
        }
      ]
    },
    {
      "cell_type": "code",
      "metadata": {
        "id": "IDcqbECKvKQw",
        "colab_type": "code",
        "outputId": "7027f11b-ab54-46c4-cad6-e1558ca69b6b",
        "colab": {
          "base_uri": "https://localhost:8080/",
          "height": 632
        }
      },
      "source": [
        "# Count number of words in text prep\n",
        "reviews['text_prep_tokens'] = reviews['text_prep'].apply(word_tokenize)\n",
        "reviews['word_len_prep'] = reviews['text_prep_tokens'].apply(len)\n",
        "reviews.head()"
      ],
      "execution_count": 13,
      "outputs": [
        {
          "output_type": "execute_result",
          "data": {
            "text/html": [
              "<div>\n",
              "<style scoped>\n",
              "    .dataframe tbody tr th:only-of-type {\n",
              "        vertical-align: middle;\n",
              "    }\n",
              "\n",
              "    .dataframe tbody tr th {\n",
              "        vertical-align: top;\n",
              "    }\n",
              "\n",
              "    .dataframe thead th {\n",
              "        text-align: right;\n",
              "    }\n",
              "</style>\n",
              "<table border=\"1\" class=\"dataframe\">\n",
              "  <thead>\n",
              "    <tr style=\"text-align: right;\">\n",
              "      <th></th>\n",
              "      <th>rest_id</th>\n",
              "      <th>text</th>\n",
              "      <th>rating</th>\n",
              "      <th>char_count</th>\n",
              "      <th>positive</th>\n",
              "      <th>text_prep</th>\n",
              "      <th>text_prep_tokens</th>\n",
              "      <th>word_len_prep</th>\n",
              "    </tr>\n",
              "  </thead>\n",
              "  <tbody>\n",
              "    <tr>\n",
              "      <th>0</th>\n",
              "      <td>yGMCl0vYigshkXiZFIDTNw</td>\n",
              "      <td>We arrived for our reservation at 7:15pm.  The...</td>\n",
              "      <td>4</td>\n",
              "      <td>302</td>\n",
              "      <td>1</td>\n",
              "      <td>arrived reservation pm seat -PRON- right time ...</td>\n",
              "      <td>[arrived, reservation, pm, seat, -PRON-, right...</td>\n",
              "      <td>27</td>\n",
              "    </tr>\n",
              "    <tr>\n",
              "      <th>1</th>\n",
              "      <td>yGMCl0vYigshkXiZFIDTNw</td>\n",
              "      <td>We received amazing service again. The food wa...</td>\n",
              "      <td>5</td>\n",
              "      <td>111</td>\n",
              "      <td>1</td>\n",
              "      <td>receive amazing service food cook right waitre...</td>\n",
              "      <td>[receive, amazing, service, food, cook, right,...</td>\n",
              "      <td>10</td>\n",
              "    </tr>\n",
              "    <tr>\n",
              "      <th>2</th>\n",
              "      <td>yGMCl0vYigshkXiZFIDTNw</td>\n",
              "      <td>Breakfast was delicious and waitress was aweso...</td>\n",
              "      <td>5</td>\n",
              "      <td>146</td>\n",
              "      <td>1</td>\n",
              "      <td>breakfast delicious waitress awesome steak egg...</td>\n",
              "      <td>[breakfast, delicious, waitress, awesome, stea...</td>\n",
              "      <td>15</td>\n",
              "    </tr>\n",
              "    <tr>\n",
              "      <th>3</th>\n",
              "      <td>yGMCl0vYigshkXiZFIDTNw</td>\n",
              "      <td>We have eaten here twice, for lunch. The first...</td>\n",
              "      <td>4</td>\n",
              "      <td>710</td>\n",
              "      <td>1</td>\n",
              "      <td>eaten twice lunch first time french dip mom fi...</td>\n",
              "      <td>[eaten, twice, lunch, first, time, french, dip...</td>\n",
              "      <td>75</td>\n",
              "    </tr>\n",
              "    <tr>\n",
              "      <th>4</th>\n",
              "      <td>yGMCl0vYigshkXiZFIDTNw</td>\n",
              "      <td>awesome service, great food.  Buffy was an ama...</td>\n",
              "      <td>5</td>\n",
              "      <td>59</td>\n",
              "      <td>1</td>\n",
              "      <td>awesome service great food buffy amazing server</td>\n",
              "      <td>[awesome, service, great, food, buffy, amazing...</td>\n",
              "      <td>7</td>\n",
              "    </tr>\n",
              "  </tbody>\n",
              "</table>\n",
              "</div>"
            ],
            "text/plain": [
              "                  rest_id  ... word_len_prep\n",
              "0  yGMCl0vYigshkXiZFIDTNw  ...            27\n",
              "1  yGMCl0vYigshkXiZFIDTNw  ...            10\n",
              "2  yGMCl0vYigshkXiZFIDTNw  ...            15\n",
              "3  yGMCl0vYigshkXiZFIDTNw  ...            75\n",
              "4  yGMCl0vYigshkXiZFIDTNw  ...             7\n",
              "\n",
              "[5 rows x 8 columns]"
            ]
          },
          "metadata": {
            "tags": []
          },
          "execution_count": 13
        }
      ]
    },
    {
      "cell_type": "markdown",
      "metadata": {
        "id": "-O7VIEyBvgMI",
        "colab_type": "text"
      },
      "source": [
        "### Create a new column, text_prep_lim, that contains only the words in BoW"
      ]
    },
    {
      "cell_type": "markdown",
      "metadata": {
        "id": "A2GoMcrcQSpd",
        "colab_type": "text"
      },
      "source": [
        "Lambda Function: anonymous function (a function that is defined without a name => we don't use def)"
      ]
    },
    {
      "cell_type": "code",
      "metadata": {
        "id": "i1k205W_uW2d",
        "colab_type": "code",
        "outputId": "1e440bbd-09b1-4428-e427-b3f95558b12c",
        "colab": {
          "base_uri": "https://localhost:8080/",
          "height": 632
        }
      },
      "source": [
        "reviews['text_prep_lim_tokens'] = reviews['text_prep_tokens'].apply(lambda x: \n",
        "                                                   [word for word in x if word in review_words])\n",
        "reviews.head()"
      ],
      "execution_count": 14,
      "outputs": [
        {
          "output_type": "execute_result",
          "data": {
            "text/html": [
              "<div>\n",
              "<style scoped>\n",
              "    .dataframe tbody tr th:only-of-type {\n",
              "        vertical-align: middle;\n",
              "    }\n",
              "\n",
              "    .dataframe tbody tr th {\n",
              "        vertical-align: top;\n",
              "    }\n",
              "\n",
              "    .dataframe thead th {\n",
              "        text-align: right;\n",
              "    }\n",
              "</style>\n",
              "<table border=\"1\" class=\"dataframe\">\n",
              "  <thead>\n",
              "    <tr style=\"text-align: right;\">\n",
              "      <th></th>\n",
              "      <th>rest_id</th>\n",
              "      <th>text</th>\n",
              "      <th>rating</th>\n",
              "      <th>char_count</th>\n",
              "      <th>positive</th>\n",
              "      <th>text_prep</th>\n",
              "      <th>text_prep_tokens</th>\n",
              "      <th>word_len_prep</th>\n",
              "      <th>text_prep_lim_tokens</th>\n",
              "    </tr>\n",
              "  </thead>\n",
              "  <tbody>\n",
              "    <tr>\n",
              "      <th>0</th>\n",
              "      <td>yGMCl0vYigshkXiZFIDTNw</td>\n",
              "      <td>We arrived for our reservation at 7:15pm.  The...</td>\n",
              "      <td>4</td>\n",
              "      <td>302</td>\n",
              "      <td>1</td>\n",
              "      <td>arrived reservation pm seat -PRON- right time ...</td>\n",
              "      <td>[arrived, reservation, pm, seat, -PRON-, right...</td>\n",
              "      <td>27</td>\n",
              "      <td>[arrived, reservation, pm, seat, right, time, ...</td>\n",
              "    </tr>\n",
              "    <tr>\n",
              "      <th>1</th>\n",
              "      <td>yGMCl0vYigshkXiZFIDTNw</td>\n",
              "      <td>We received amazing service again. The food wa...</td>\n",
              "      <td>5</td>\n",
              "      <td>111</td>\n",
              "      <td>1</td>\n",
              "      <td>receive amazing service food cook right waitre...</td>\n",
              "      <td>[receive, amazing, service, food, cook, right,...</td>\n",
              "      <td>10</td>\n",
              "      <td>[receive, amazing, service, food, cook, right,...</td>\n",
              "    </tr>\n",
              "    <tr>\n",
              "      <th>2</th>\n",
              "      <td>yGMCl0vYigshkXiZFIDTNw</td>\n",
              "      <td>Breakfast was delicious and waitress was aweso...</td>\n",
              "      <td>5</td>\n",
              "      <td>146</td>\n",
              "      <td>1</td>\n",
              "      <td>breakfast delicious waitress awesome steak egg...</td>\n",
              "      <td>[breakfast, delicious, waitress, awesome, stea...</td>\n",
              "      <td>15</td>\n",
              "      <td>[breakfast, delicious, waitress, awesome, stea...</td>\n",
              "    </tr>\n",
              "    <tr>\n",
              "      <th>3</th>\n",
              "      <td>yGMCl0vYigshkXiZFIDTNw</td>\n",
              "      <td>We have eaten here twice, for lunch. The first...</td>\n",
              "      <td>4</td>\n",
              "      <td>710</td>\n",
              "      <td>1</td>\n",
              "      <td>eaten twice lunch first time french dip mom fi...</td>\n",
              "      <td>[eaten, twice, lunch, first, time, french, dip...</td>\n",
              "      <td>75</td>\n",
              "      <td>[eaten, twice, lunch, first, time, french, dip...</td>\n",
              "    </tr>\n",
              "    <tr>\n",
              "      <th>4</th>\n",
              "      <td>yGMCl0vYigshkXiZFIDTNw</td>\n",
              "      <td>awesome service, great food.  Buffy was an ama...</td>\n",
              "      <td>5</td>\n",
              "      <td>59</td>\n",
              "      <td>1</td>\n",
              "      <td>awesome service great food buffy amazing server</td>\n",
              "      <td>[awesome, service, great, food, buffy, amazing...</td>\n",
              "      <td>7</td>\n",
              "      <td>[awesome, service, great, food, amazing, server]</td>\n",
              "    </tr>\n",
              "  </tbody>\n",
              "</table>\n",
              "</div>"
            ],
            "text/plain": [
              "                  rest_id  ...                               text_prep_lim_tokens\n",
              "0  yGMCl0vYigshkXiZFIDTNw  ...  [arrived, reservation, pm, seat, right, time, ...\n",
              "1  yGMCl0vYigshkXiZFIDTNw  ...  [receive, amazing, service, food, cook, right,...\n",
              "2  yGMCl0vYigshkXiZFIDTNw  ...  [breakfast, delicious, waitress, awesome, stea...\n",
              "3  yGMCl0vYigshkXiZFIDTNw  ...  [eaten, twice, lunch, first, time, french, dip...\n",
              "4  yGMCl0vYigshkXiZFIDTNw  ...   [awesome, service, great, food, amazing, server]\n",
              "\n",
              "[5 rows x 9 columns]"
            ]
          },
          "metadata": {
            "tags": []
          },
          "execution_count": 14
        }
      ]
    },
    {
      "cell_type": "code",
      "metadata": {
        "id": "UlEBnu0MuW2f",
        "colab_type": "code",
        "outputId": "cf2ad3ca-5ef0-4b1b-e454-55450bb85f1d",
        "colab": {
          "base_uri": "https://localhost:8080/",
          "height": 632
        }
      },
      "source": [
        "reviews['word_len_prep_lim'] = reviews['text_prep_lim_tokens'].apply(len)\n",
        "reviews.head()"
      ],
      "execution_count": 15,
      "outputs": [
        {
          "output_type": "execute_result",
          "data": {
            "text/html": [
              "<div>\n",
              "<style scoped>\n",
              "    .dataframe tbody tr th:only-of-type {\n",
              "        vertical-align: middle;\n",
              "    }\n",
              "\n",
              "    .dataframe tbody tr th {\n",
              "        vertical-align: top;\n",
              "    }\n",
              "\n",
              "    .dataframe thead th {\n",
              "        text-align: right;\n",
              "    }\n",
              "</style>\n",
              "<table border=\"1\" class=\"dataframe\">\n",
              "  <thead>\n",
              "    <tr style=\"text-align: right;\">\n",
              "      <th></th>\n",
              "      <th>rest_id</th>\n",
              "      <th>text</th>\n",
              "      <th>rating</th>\n",
              "      <th>char_count</th>\n",
              "      <th>positive</th>\n",
              "      <th>text_prep</th>\n",
              "      <th>text_prep_tokens</th>\n",
              "      <th>word_len_prep</th>\n",
              "      <th>text_prep_lim_tokens</th>\n",
              "      <th>word_len_prep_lim</th>\n",
              "    </tr>\n",
              "  </thead>\n",
              "  <tbody>\n",
              "    <tr>\n",
              "      <th>0</th>\n",
              "      <td>yGMCl0vYigshkXiZFIDTNw</td>\n",
              "      <td>We arrived for our reservation at 7:15pm.  The...</td>\n",
              "      <td>4</td>\n",
              "      <td>302</td>\n",
              "      <td>1</td>\n",
              "      <td>arrived reservation pm seat -PRON- right time ...</td>\n",
              "      <td>[arrived, reservation, pm, seat, -PRON-, right...</td>\n",
              "      <td>27</td>\n",
              "      <td>[arrived, reservation, pm, seat, right, time, ...</td>\n",
              "      <td>25</td>\n",
              "    </tr>\n",
              "    <tr>\n",
              "      <th>1</th>\n",
              "      <td>yGMCl0vYigshkXiZFIDTNw</td>\n",
              "      <td>We received amazing service again. The food wa...</td>\n",
              "      <td>5</td>\n",
              "      <td>111</td>\n",
              "      <td>1</td>\n",
              "      <td>receive amazing service food cook right waitre...</td>\n",
              "      <td>[receive, amazing, service, food, cook, right,...</td>\n",
              "      <td>10</td>\n",
              "      <td>[receive, amazing, service, food, cook, right,...</td>\n",
              "      <td>9</td>\n",
              "    </tr>\n",
              "    <tr>\n",
              "      <th>2</th>\n",
              "      <td>yGMCl0vYigshkXiZFIDTNw</td>\n",
              "      <td>Breakfast was delicious and waitress was aweso...</td>\n",
              "      <td>5</td>\n",
              "      <td>146</td>\n",
              "      <td>1</td>\n",
              "      <td>breakfast delicious waitress awesome steak egg...</td>\n",
              "      <td>[breakfast, delicious, waitress, awesome, stea...</td>\n",
              "      <td>15</td>\n",
              "      <td>[breakfast, delicious, waitress, awesome, stea...</td>\n",
              "      <td>15</td>\n",
              "    </tr>\n",
              "    <tr>\n",
              "      <th>3</th>\n",
              "      <td>yGMCl0vYigshkXiZFIDTNw</td>\n",
              "      <td>We have eaten here twice, for lunch. The first...</td>\n",
              "      <td>4</td>\n",
              "      <td>710</td>\n",
              "      <td>1</td>\n",
              "      <td>eaten twice lunch first time french dip mom fi...</td>\n",
              "      <td>[eaten, twice, lunch, first, time, french, dip...</td>\n",
              "      <td>75</td>\n",
              "      <td>[eaten, twice, lunch, first, time, french, dip...</td>\n",
              "      <td>74</td>\n",
              "    </tr>\n",
              "    <tr>\n",
              "      <th>4</th>\n",
              "      <td>yGMCl0vYigshkXiZFIDTNw</td>\n",
              "      <td>awesome service, great food.  Buffy was an ama...</td>\n",
              "      <td>5</td>\n",
              "      <td>59</td>\n",
              "      <td>1</td>\n",
              "      <td>awesome service great food buffy amazing server</td>\n",
              "      <td>[awesome, service, great, food, buffy, amazing...</td>\n",
              "      <td>7</td>\n",
              "      <td>[awesome, service, great, food, amazing, server]</td>\n",
              "      <td>6</td>\n",
              "    </tr>\n",
              "  </tbody>\n",
              "</table>\n",
              "</div>"
            ],
            "text/plain": [
              "                  rest_id  ... word_len_prep_lim\n",
              "0  yGMCl0vYigshkXiZFIDTNw  ...                25\n",
              "1  yGMCl0vYigshkXiZFIDTNw  ...                 9\n",
              "2  yGMCl0vYigshkXiZFIDTNw  ...                15\n",
              "3  yGMCl0vYigshkXiZFIDTNw  ...                74\n",
              "4  yGMCl0vYigshkXiZFIDTNw  ...                 6\n",
              "\n",
              "[5 rows x 10 columns]"
            ]
          },
          "metadata": {
            "tags": []
          },
          "execution_count": 15
        }
      ]
    },
    {
      "cell_type": "code",
      "metadata": {
        "id": "5cv-ssTXuW2i",
        "colab_type": "code",
        "outputId": "35358981-2ee9-4a76-d9e9-391377f43746",
        "colab": {
          "base_uri": "https://localhost:8080/",
          "height": 632
        }
      },
      "source": [
        "# # Change output from list of strings to sentence\n",
        "reviews['text_prep_lim'] = reviews['text_prep_lim_tokens'].apply(lambda x: ' '.join(x))\n",
        "reviews.head()"
      ],
      "execution_count": 16,
      "outputs": [
        {
          "output_type": "execute_result",
          "data": {
            "text/html": [
              "<div>\n",
              "<style scoped>\n",
              "    .dataframe tbody tr th:only-of-type {\n",
              "        vertical-align: middle;\n",
              "    }\n",
              "\n",
              "    .dataframe tbody tr th {\n",
              "        vertical-align: top;\n",
              "    }\n",
              "\n",
              "    .dataframe thead th {\n",
              "        text-align: right;\n",
              "    }\n",
              "</style>\n",
              "<table border=\"1\" class=\"dataframe\">\n",
              "  <thead>\n",
              "    <tr style=\"text-align: right;\">\n",
              "      <th></th>\n",
              "      <th>rest_id</th>\n",
              "      <th>text</th>\n",
              "      <th>rating</th>\n",
              "      <th>char_count</th>\n",
              "      <th>positive</th>\n",
              "      <th>text_prep</th>\n",
              "      <th>text_prep_tokens</th>\n",
              "      <th>word_len_prep</th>\n",
              "      <th>text_prep_lim_tokens</th>\n",
              "      <th>word_len_prep_lim</th>\n",
              "      <th>text_prep_lim</th>\n",
              "    </tr>\n",
              "  </thead>\n",
              "  <tbody>\n",
              "    <tr>\n",
              "      <th>0</th>\n",
              "      <td>yGMCl0vYigshkXiZFIDTNw</td>\n",
              "      <td>We arrived for our reservation at 7:15pm.  The...</td>\n",
              "      <td>4</td>\n",
              "      <td>302</td>\n",
              "      <td>1</td>\n",
              "      <td>arrived reservation pm seat -PRON- right time ...</td>\n",
              "      <td>[arrived, reservation, pm, seat, -PRON-, right...</td>\n",
              "      <td>27</td>\n",
              "      <td>[arrived, reservation, pm, seat, right, time, ...</td>\n",
              "      <td>25</td>\n",
              "      <td>arrived reservation pm seat right time restura...</td>\n",
              "    </tr>\n",
              "    <tr>\n",
              "      <th>1</th>\n",
              "      <td>yGMCl0vYigshkXiZFIDTNw</td>\n",
              "      <td>We received amazing service again. The food wa...</td>\n",
              "      <td>5</td>\n",
              "      <td>111</td>\n",
              "      <td>1</td>\n",
              "      <td>receive amazing service food cook right waitre...</td>\n",
              "      <td>[receive, amazing, service, food, cook, right,...</td>\n",
              "      <td>10</td>\n",
              "      <td>[receive, amazing, service, food, cook, right,...</td>\n",
              "      <td>9</td>\n",
              "      <td>receive amazing service food cook right waitre...</td>\n",
              "    </tr>\n",
              "    <tr>\n",
              "      <th>2</th>\n",
              "      <td>yGMCl0vYigshkXiZFIDTNw</td>\n",
              "      <td>Breakfast was delicious and waitress was aweso...</td>\n",
              "      <td>5</td>\n",
              "      <td>146</td>\n",
              "      <td>1</td>\n",
              "      <td>breakfast delicious waitress awesome steak egg...</td>\n",
              "      <td>[breakfast, delicious, waitress, awesome, stea...</td>\n",
              "      <td>15</td>\n",
              "      <td>[breakfast, delicious, waitress, awesome, stea...</td>\n",
              "      <td>15</td>\n",
              "      <td>breakfast delicious waitress awesome steak egg...</td>\n",
              "    </tr>\n",
              "    <tr>\n",
              "      <th>3</th>\n",
              "      <td>yGMCl0vYigshkXiZFIDTNw</td>\n",
              "      <td>We have eaten here twice, for lunch. The first...</td>\n",
              "      <td>4</td>\n",
              "      <td>710</td>\n",
              "      <td>1</td>\n",
              "      <td>eaten twice lunch first time french dip mom fi...</td>\n",
              "      <td>[eaten, twice, lunch, first, time, french, dip...</td>\n",
              "      <td>75</td>\n",
              "      <td>[eaten, twice, lunch, first, time, french, dip...</td>\n",
              "      <td>74</td>\n",
              "      <td>eaten twice lunch first time french dip mom fi...</td>\n",
              "    </tr>\n",
              "    <tr>\n",
              "      <th>4</th>\n",
              "      <td>yGMCl0vYigshkXiZFIDTNw</td>\n",
              "      <td>awesome service, great food.  Buffy was an ama...</td>\n",
              "      <td>5</td>\n",
              "      <td>59</td>\n",
              "      <td>1</td>\n",
              "      <td>awesome service great food buffy amazing server</td>\n",
              "      <td>[awesome, service, great, food, buffy, amazing...</td>\n",
              "      <td>7</td>\n",
              "      <td>[awesome, service, great, food, amazing, server]</td>\n",
              "      <td>6</td>\n",
              "      <td>awesome service great food amazing server</td>\n",
              "    </tr>\n",
              "  </tbody>\n",
              "</table>\n",
              "</div>"
            ],
            "text/plain": [
              "                  rest_id  ...                                      text_prep_lim\n",
              "0  yGMCl0vYigshkXiZFIDTNw  ...  arrived reservation pm seat right time restura...\n",
              "1  yGMCl0vYigshkXiZFIDTNw  ...  receive amazing service food cook right waitre...\n",
              "2  yGMCl0vYigshkXiZFIDTNw  ...  breakfast delicious waitress awesome steak egg...\n",
              "3  yGMCl0vYigshkXiZFIDTNw  ...  eaten twice lunch first time french dip mom fi...\n",
              "4  yGMCl0vYigshkXiZFIDTNw  ...          awesome service great food amazing server\n",
              "\n",
              "[5 rows x 11 columns]"
            ]
          },
          "metadata": {
            "tags": []
          },
          "execution_count": 16
        }
      ]
    },
    {
      "cell_type": "code",
      "metadata": {
        "id": "Ak6S84EGwJfU",
        "colab_type": "code",
        "outputId": "eb6c6538-b773-4f56-8bfa-af0148073e72",
        "colab": {
          "base_uri": "https://localhost:8080/",
          "height": 54
        }
      },
      "source": [
        "reviews['text_prep_lim'].iloc[250]"
      ],
      "execution_count": 17,
      "outputs": [
        {
          "output_type": "execute_result",
          "data": {
            "text/plain": [
              "'third time drop star guess new spot care service wait food joke doubt come back third time charm'"
            ]
          },
          "metadata": {
            "tags": []
          },
          "execution_count": 17
        }
      ]
    },
    {
      "cell_type": "code",
      "metadata": {
        "id": "u9BC9WqiuW2l",
        "colab_type": "code",
        "outputId": "967be34b-2a0f-4933-a02b-ae8d09551388",
        "colab": {
          "base_uri": "https://localhost:8080/",
          "height": 88
        }
      },
      "source": [
        "print(reviews.text.iloc[0])\n",
        "print(reviews.text_prep.iloc[0])\n",
        "print(reviews.text_prep_lim.iloc[0])\n",
        "\n",
        "# the word 'croed' & pronoun '-PRON-' are missing from text_prep_lim"
      ],
      "execution_count": 18,
      "outputs": [
        {
          "output_type": "stream",
          "text": [
            "We arrived for our reservation at 7:15pm.  They seated us right on time.  The resturant was fairly loud at first but once the family dinner croed cleared out at 7:30pm it quieted down.  The food and service was outstanding, and at a very reasonable price.  I highly recommend Mimi's very a late dinner.\n",
            "arrived reservation pm seat -PRON- right time resturant fairly loud first family dinner croed clear pm quiet food service outstanding reasonable price highly recommend mimi late dinner\n",
            "arrived reservation pm seat right time resturant fairly loud first family dinner clear pm quiet food service outstanding reasonable price highly recommend mimi late dinner\n"
          ],
          "name": "stdout"
        }
      ]
    },
    {
      "cell_type": "code",
      "metadata": {
        "id": "fheK8UGAAlQy",
        "colab_type": "code",
        "colab": {
          "base_uri": "https://localhost:8080/",
          "height": 284
        },
        "outputId": "f374e50a-cdd8-4386-8f77-d204ed56e7ad"
      },
      "source": [
        "reviews.columns\n",
        "reviews = reviews[['rest_id', 'text', 'rating', 'char_count', 'positive', \n",
        "                   'text_prep', 'text_prep_tokens', 'word_len_prep', \n",
        "                   'text_prep_lim', 'text_prep_lim_tokens','word_len_prep_lim']]\n",
        "reviews.head(2)"
      ],
      "execution_count": 19,
      "outputs": [
        {
          "output_type": "execute_result",
          "data": {
            "text/html": [
              "<div>\n",
              "<style scoped>\n",
              "    .dataframe tbody tr th:only-of-type {\n",
              "        vertical-align: middle;\n",
              "    }\n",
              "\n",
              "    .dataframe tbody tr th {\n",
              "        vertical-align: top;\n",
              "    }\n",
              "\n",
              "    .dataframe thead th {\n",
              "        text-align: right;\n",
              "    }\n",
              "</style>\n",
              "<table border=\"1\" class=\"dataframe\">\n",
              "  <thead>\n",
              "    <tr style=\"text-align: right;\">\n",
              "      <th></th>\n",
              "      <th>rest_id</th>\n",
              "      <th>text</th>\n",
              "      <th>rating</th>\n",
              "      <th>char_count</th>\n",
              "      <th>positive</th>\n",
              "      <th>text_prep</th>\n",
              "      <th>text_prep_tokens</th>\n",
              "      <th>word_len_prep</th>\n",
              "      <th>text_prep_lim</th>\n",
              "      <th>text_prep_lim_tokens</th>\n",
              "      <th>word_len_prep_lim</th>\n",
              "    </tr>\n",
              "  </thead>\n",
              "  <tbody>\n",
              "    <tr>\n",
              "      <th>0</th>\n",
              "      <td>yGMCl0vYigshkXiZFIDTNw</td>\n",
              "      <td>We arrived for our reservation at 7:15pm.  The...</td>\n",
              "      <td>4</td>\n",
              "      <td>302</td>\n",
              "      <td>1</td>\n",
              "      <td>arrived reservation pm seat -PRON- right time ...</td>\n",
              "      <td>[arrived, reservation, pm, seat, -PRON-, right...</td>\n",
              "      <td>27</td>\n",
              "      <td>arrived reservation pm seat right time restura...</td>\n",
              "      <td>[arrived, reservation, pm, seat, right, time, ...</td>\n",
              "      <td>25</td>\n",
              "    </tr>\n",
              "    <tr>\n",
              "      <th>1</th>\n",
              "      <td>yGMCl0vYigshkXiZFIDTNw</td>\n",
              "      <td>We received amazing service again. The food wa...</td>\n",
              "      <td>5</td>\n",
              "      <td>111</td>\n",
              "      <td>1</td>\n",
              "      <td>receive amazing service food cook right waitre...</td>\n",
              "      <td>[receive, amazing, service, food, cook, right,...</td>\n",
              "      <td>10</td>\n",
              "      <td>receive amazing service food cook right waitre...</td>\n",
              "      <td>[receive, amazing, service, food, cook, right,...</td>\n",
              "      <td>9</td>\n",
              "    </tr>\n",
              "  </tbody>\n",
              "</table>\n",
              "</div>"
            ],
            "text/plain": [
              "                  rest_id  ... word_len_prep_lim\n",
              "0  yGMCl0vYigshkXiZFIDTNw  ...                25\n",
              "1  yGMCl0vYigshkXiZFIDTNw  ...                 9\n",
              "\n",
              "[2 rows x 11 columns]"
            ]
          },
          "metadata": {
            "tags": []
          },
          "execution_count": 19
        }
      ]
    },
    {
      "cell_type": "markdown",
      "metadata": {
        "id": "DBUv9vMTwkSP",
        "colab_type": "text"
      },
      "source": [
        "### Save BOW DTM to csv"
      ]
    },
    {
      "cell_type": "code",
      "metadata": {
        "id": "KILHLQNKw2Vo",
        "colab_type": "code",
        "colab": {}
      },
      "source": [
        "dtm.to_csv(path + 'Output/1.dtm_1_bow.csv', index=False)"
      ],
      "execution_count": 0,
      "outputs": []
    },
    {
      "cell_type": "code",
      "metadata": {
        "id": "bCAhgAGyuW2q",
        "colab_type": "code",
        "colab": {}
      },
      "source": [
        "reviews.to_csv(path + 'Input/3.input_data_prepped_bow.csv', \n",
        "               index = False)"
      ],
      "execution_count": 0,
      "outputs": []
    },
    {
      "cell_type": "markdown",
      "metadata": {
        "id": "vTUfSfMGuW2s",
        "colab_type": "text"
      },
      "source": [
        "# Word Cloud"
      ]
    },
    {
      "cell_type": "code",
      "metadata": {
        "id": "YBUOkyU8C7g7",
        "colab_type": "code",
        "outputId": "5c32145b-d9c5-4ee9-dc1a-157d4d50aa9d",
        "colab": {
          "base_uri": "https://localhost:8080/",
          "height": 253
        }
      },
      "source": [
        "dtm.head()"
      ],
      "execution_count": 22,
      "outputs": [
        {
          "output_type": "execute_result",
          "data": {
            "text/html": [
              "<div>\n",
              "<style scoped>\n",
              "    .dataframe tbody tr th:only-of-type {\n",
              "        vertical-align: middle;\n",
              "    }\n",
              "\n",
              "    .dataframe tbody tr th {\n",
              "        vertical-align: top;\n",
              "    }\n",
              "\n",
              "    .dataframe thead th {\n",
              "        text-align: right;\n",
              "    }\n",
              "</style>\n",
              "<table border=\"1\" class=\"dataframe\">\n",
              "  <thead>\n",
              "    <tr style=\"text-align: right;\">\n",
              "      <th></th>\n",
              "      <th>aaabar</th>\n",
              "      <th>aaron</th>\n",
              "      <th>abacus</th>\n",
              "      <th>ability</th>\n",
              "      <th>able</th>\n",
              "      <th>absolute</th>\n",
              "      <th>absolutely</th>\n",
              "      <th>absurd</th>\n",
              "      <th>abundance</th>\n",
              "      <th>abundant</th>\n",
              "      <th>ac</th>\n",
              "      <th>acai</th>\n",
              "      <th>accent</th>\n",
              "      <th>accept</th>\n",
              "      <th>acceptable</th>\n",
              "      <th>acceptance</th>\n",
              "      <th>access</th>\n",
              "      <th>accessible</th>\n",
              "      <th>accident</th>\n",
              "      <th>accidentally</th>\n",
              "      <th>accommodate</th>\n",
              "      <th>accommodating</th>\n",
              "      <th>accommodation</th>\n",
              "      <th>accomodate</th>\n",
              "      <th>accompaniment</th>\n",
              "      <th>accompany</th>\n",
              "      <th>accord</th>\n",
              "      <th>accordingly</th>\n",
              "      <th>accordion</th>\n",
              "      <th>account</th>\n",
              "      <th>accuracy</th>\n",
              "      <th>accurate</th>\n",
              "      <th>accuse</th>\n",
              "      <th>ace</th>\n",
              "      <th>ache</th>\n",
              "      <th>achieve</th>\n",
              "      <th>acidic</th>\n",
              "      <th>acknowledge</th>\n",
              "      <th>acknowledgement</th>\n",
              "      <th>acoustic</th>\n",
              "      <th>...</th>\n",
              "      <th>yen</th>\n",
              "      <th>yep</th>\n",
              "      <th>yes</th>\n",
              "      <th>yesterday</th>\n",
              "      <th>yet</th>\n",
              "      <th>yike</th>\n",
              "      <th>yo</th>\n",
              "      <th>yogurt</th>\n",
              "      <th>yoke</th>\n",
              "      <th>yolk</th>\n",
              "      <th>york</th>\n",
              "      <th>yorker</th>\n",
              "      <th>young</th>\n",
              "      <th>younger</th>\n",
              "      <th>youngster</th>\n",
              "      <th>youth</th>\n",
              "      <th>yr</th>\n",
              "      <th>yrs</th>\n",
              "      <th>yuck</th>\n",
              "      <th>yum</th>\n",
              "      <th>yumm</th>\n",
              "      <th>yumminess</th>\n",
              "      <th>yummm</th>\n",
              "      <th>yummmm</th>\n",
              "      <th>yummo</th>\n",
              "      <th>yummy</th>\n",
              "      <th>yup</th>\n",
              "      <th>zach</th>\n",
              "      <th>zack</th>\n",
              "      <th>zero</th>\n",
              "      <th>zesty</th>\n",
              "      <th>zillion</th>\n",
              "      <th>zipps</th>\n",
              "      <th>ziti</th>\n",
              "      <th>zoe</th>\n",
              "      <th>zone</th>\n",
              "      <th>zucchini</th>\n",
              "      <th>zuchinni</th>\n",
              "      <th>zupa</th>\n",
              "      <th>zupas</th>\n",
              "    </tr>\n",
              "  </thead>\n",
              "  <tbody>\n",
              "    <tr>\n",
              "      <th>0</th>\n",
              "      <td>0</td>\n",
              "      <td>0</td>\n",
              "      <td>0</td>\n",
              "      <td>0</td>\n",
              "      <td>0</td>\n",
              "      <td>0</td>\n",
              "      <td>0</td>\n",
              "      <td>0</td>\n",
              "      <td>0</td>\n",
              "      <td>0</td>\n",
              "      <td>0</td>\n",
              "      <td>0</td>\n",
              "      <td>0</td>\n",
              "      <td>0</td>\n",
              "      <td>0</td>\n",
              "      <td>0</td>\n",
              "      <td>0</td>\n",
              "      <td>0</td>\n",
              "      <td>0</td>\n",
              "      <td>0</td>\n",
              "      <td>0</td>\n",
              "      <td>0</td>\n",
              "      <td>0</td>\n",
              "      <td>0</td>\n",
              "      <td>0</td>\n",
              "      <td>0</td>\n",
              "      <td>0</td>\n",
              "      <td>0</td>\n",
              "      <td>0</td>\n",
              "      <td>0</td>\n",
              "      <td>0</td>\n",
              "      <td>0</td>\n",
              "      <td>0</td>\n",
              "      <td>0</td>\n",
              "      <td>0</td>\n",
              "      <td>0</td>\n",
              "      <td>0</td>\n",
              "      <td>0</td>\n",
              "      <td>0</td>\n",
              "      <td>0</td>\n",
              "      <td>...</td>\n",
              "      <td>0</td>\n",
              "      <td>0</td>\n",
              "      <td>0</td>\n",
              "      <td>0</td>\n",
              "      <td>0</td>\n",
              "      <td>0</td>\n",
              "      <td>0</td>\n",
              "      <td>0</td>\n",
              "      <td>0</td>\n",
              "      <td>0</td>\n",
              "      <td>0</td>\n",
              "      <td>0</td>\n",
              "      <td>0</td>\n",
              "      <td>0</td>\n",
              "      <td>0</td>\n",
              "      <td>0</td>\n",
              "      <td>0</td>\n",
              "      <td>0</td>\n",
              "      <td>0</td>\n",
              "      <td>0</td>\n",
              "      <td>0</td>\n",
              "      <td>0</td>\n",
              "      <td>0</td>\n",
              "      <td>0</td>\n",
              "      <td>0</td>\n",
              "      <td>0</td>\n",
              "      <td>0</td>\n",
              "      <td>0</td>\n",
              "      <td>0</td>\n",
              "      <td>0</td>\n",
              "      <td>0</td>\n",
              "      <td>0</td>\n",
              "      <td>0</td>\n",
              "      <td>0</td>\n",
              "      <td>0</td>\n",
              "      <td>0</td>\n",
              "      <td>0</td>\n",
              "      <td>0</td>\n",
              "      <td>0</td>\n",
              "      <td>0</td>\n",
              "    </tr>\n",
              "    <tr>\n",
              "      <th>1</th>\n",
              "      <td>0</td>\n",
              "      <td>0</td>\n",
              "      <td>0</td>\n",
              "      <td>0</td>\n",
              "      <td>0</td>\n",
              "      <td>0</td>\n",
              "      <td>0</td>\n",
              "      <td>0</td>\n",
              "      <td>0</td>\n",
              "      <td>0</td>\n",
              "      <td>0</td>\n",
              "      <td>0</td>\n",
              "      <td>0</td>\n",
              "      <td>0</td>\n",
              "      <td>0</td>\n",
              "      <td>0</td>\n",
              "      <td>0</td>\n",
              "      <td>0</td>\n",
              "      <td>0</td>\n",
              "      <td>0</td>\n",
              "      <td>0</td>\n",
              "      <td>0</td>\n",
              "      <td>0</td>\n",
              "      <td>0</td>\n",
              "      <td>0</td>\n",
              "      <td>0</td>\n",
              "      <td>0</td>\n",
              "      <td>0</td>\n",
              "      <td>0</td>\n",
              "      <td>0</td>\n",
              "      <td>0</td>\n",
              "      <td>0</td>\n",
              "      <td>0</td>\n",
              "      <td>0</td>\n",
              "      <td>0</td>\n",
              "      <td>0</td>\n",
              "      <td>0</td>\n",
              "      <td>0</td>\n",
              "      <td>0</td>\n",
              "      <td>0</td>\n",
              "      <td>...</td>\n",
              "      <td>0</td>\n",
              "      <td>0</td>\n",
              "      <td>0</td>\n",
              "      <td>0</td>\n",
              "      <td>0</td>\n",
              "      <td>0</td>\n",
              "      <td>0</td>\n",
              "      <td>0</td>\n",
              "      <td>0</td>\n",
              "      <td>0</td>\n",
              "      <td>0</td>\n",
              "      <td>0</td>\n",
              "      <td>0</td>\n",
              "      <td>0</td>\n",
              "      <td>0</td>\n",
              "      <td>0</td>\n",
              "      <td>0</td>\n",
              "      <td>0</td>\n",
              "      <td>0</td>\n",
              "      <td>0</td>\n",
              "      <td>0</td>\n",
              "      <td>0</td>\n",
              "      <td>0</td>\n",
              "      <td>0</td>\n",
              "      <td>0</td>\n",
              "      <td>0</td>\n",
              "      <td>0</td>\n",
              "      <td>0</td>\n",
              "      <td>0</td>\n",
              "      <td>0</td>\n",
              "      <td>0</td>\n",
              "      <td>0</td>\n",
              "      <td>0</td>\n",
              "      <td>0</td>\n",
              "      <td>0</td>\n",
              "      <td>0</td>\n",
              "      <td>0</td>\n",
              "      <td>0</td>\n",
              "      <td>0</td>\n",
              "      <td>0</td>\n",
              "    </tr>\n",
              "    <tr>\n",
              "      <th>2</th>\n",
              "      <td>0</td>\n",
              "      <td>0</td>\n",
              "      <td>0</td>\n",
              "      <td>0</td>\n",
              "      <td>0</td>\n",
              "      <td>0</td>\n",
              "      <td>0</td>\n",
              "      <td>0</td>\n",
              "      <td>0</td>\n",
              "      <td>0</td>\n",
              "      <td>0</td>\n",
              "      <td>0</td>\n",
              "      <td>0</td>\n",
              "      <td>0</td>\n",
              "      <td>0</td>\n",
              "      <td>0</td>\n",
              "      <td>0</td>\n",
              "      <td>0</td>\n",
              "      <td>0</td>\n",
              "      <td>0</td>\n",
              "      <td>0</td>\n",
              "      <td>0</td>\n",
              "      <td>0</td>\n",
              "      <td>0</td>\n",
              "      <td>0</td>\n",
              "      <td>0</td>\n",
              "      <td>0</td>\n",
              "      <td>0</td>\n",
              "      <td>0</td>\n",
              "      <td>0</td>\n",
              "      <td>0</td>\n",
              "      <td>0</td>\n",
              "      <td>0</td>\n",
              "      <td>0</td>\n",
              "      <td>0</td>\n",
              "      <td>0</td>\n",
              "      <td>0</td>\n",
              "      <td>0</td>\n",
              "      <td>0</td>\n",
              "      <td>0</td>\n",
              "      <td>...</td>\n",
              "      <td>0</td>\n",
              "      <td>0</td>\n",
              "      <td>0</td>\n",
              "      <td>0</td>\n",
              "      <td>0</td>\n",
              "      <td>0</td>\n",
              "      <td>0</td>\n",
              "      <td>0</td>\n",
              "      <td>0</td>\n",
              "      <td>0</td>\n",
              "      <td>0</td>\n",
              "      <td>0</td>\n",
              "      <td>0</td>\n",
              "      <td>0</td>\n",
              "      <td>0</td>\n",
              "      <td>0</td>\n",
              "      <td>0</td>\n",
              "      <td>0</td>\n",
              "      <td>0</td>\n",
              "      <td>0</td>\n",
              "      <td>0</td>\n",
              "      <td>0</td>\n",
              "      <td>0</td>\n",
              "      <td>0</td>\n",
              "      <td>0</td>\n",
              "      <td>0</td>\n",
              "      <td>0</td>\n",
              "      <td>0</td>\n",
              "      <td>0</td>\n",
              "      <td>0</td>\n",
              "      <td>0</td>\n",
              "      <td>0</td>\n",
              "      <td>0</td>\n",
              "      <td>0</td>\n",
              "      <td>0</td>\n",
              "      <td>0</td>\n",
              "      <td>0</td>\n",
              "      <td>0</td>\n",
              "      <td>0</td>\n",
              "      <td>0</td>\n",
              "    </tr>\n",
              "    <tr>\n",
              "      <th>3</th>\n",
              "      <td>0</td>\n",
              "      <td>0</td>\n",
              "      <td>0</td>\n",
              "      <td>0</td>\n",
              "      <td>0</td>\n",
              "      <td>0</td>\n",
              "      <td>0</td>\n",
              "      <td>0</td>\n",
              "      <td>0</td>\n",
              "      <td>0</td>\n",
              "      <td>0</td>\n",
              "      <td>0</td>\n",
              "      <td>0</td>\n",
              "      <td>0</td>\n",
              "      <td>0</td>\n",
              "      <td>0</td>\n",
              "      <td>0</td>\n",
              "      <td>0</td>\n",
              "      <td>0</td>\n",
              "      <td>0</td>\n",
              "      <td>0</td>\n",
              "      <td>0</td>\n",
              "      <td>0</td>\n",
              "      <td>0</td>\n",
              "      <td>0</td>\n",
              "      <td>0</td>\n",
              "      <td>0</td>\n",
              "      <td>0</td>\n",
              "      <td>0</td>\n",
              "      <td>0</td>\n",
              "      <td>0</td>\n",
              "      <td>0</td>\n",
              "      <td>0</td>\n",
              "      <td>0</td>\n",
              "      <td>0</td>\n",
              "      <td>0</td>\n",
              "      <td>0</td>\n",
              "      <td>0</td>\n",
              "      <td>0</td>\n",
              "      <td>0</td>\n",
              "      <td>...</td>\n",
              "      <td>0</td>\n",
              "      <td>0</td>\n",
              "      <td>0</td>\n",
              "      <td>0</td>\n",
              "      <td>0</td>\n",
              "      <td>0</td>\n",
              "      <td>0</td>\n",
              "      <td>0</td>\n",
              "      <td>0</td>\n",
              "      <td>0</td>\n",
              "      <td>0</td>\n",
              "      <td>0</td>\n",
              "      <td>0</td>\n",
              "      <td>0</td>\n",
              "      <td>0</td>\n",
              "      <td>0</td>\n",
              "      <td>0</td>\n",
              "      <td>0</td>\n",
              "      <td>0</td>\n",
              "      <td>1</td>\n",
              "      <td>0</td>\n",
              "      <td>0</td>\n",
              "      <td>0</td>\n",
              "      <td>0</td>\n",
              "      <td>0</td>\n",
              "      <td>0</td>\n",
              "      <td>0</td>\n",
              "      <td>0</td>\n",
              "      <td>0</td>\n",
              "      <td>0</td>\n",
              "      <td>0</td>\n",
              "      <td>0</td>\n",
              "      <td>0</td>\n",
              "      <td>0</td>\n",
              "      <td>0</td>\n",
              "      <td>0</td>\n",
              "      <td>0</td>\n",
              "      <td>0</td>\n",
              "      <td>0</td>\n",
              "      <td>0</td>\n",
              "    </tr>\n",
              "    <tr>\n",
              "      <th>4</th>\n",
              "      <td>0</td>\n",
              "      <td>0</td>\n",
              "      <td>0</td>\n",
              "      <td>0</td>\n",
              "      <td>0</td>\n",
              "      <td>0</td>\n",
              "      <td>0</td>\n",
              "      <td>0</td>\n",
              "      <td>0</td>\n",
              "      <td>0</td>\n",
              "      <td>0</td>\n",
              "      <td>0</td>\n",
              "      <td>0</td>\n",
              "      <td>0</td>\n",
              "      <td>0</td>\n",
              "      <td>0</td>\n",
              "      <td>0</td>\n",
              "      <td>0</td>\n",
              "      <td>0</td>\n",
              "      <td>0</td>\n",
              "      <td>0</td>\n",
              "      <td>0</td>\n",
              "      <td>0</td>\n",
              "      <td>0</td>\n",
              "      <td>0</td>\n",
              "      <td>0</td>\n",
              "      <td>0</td>\n",
              "      <td>0</td>\n",
              "      <td>0</td>\n",
              "      <td>0</td>\n",
              "      <td>0</td>\n",
              "      <td>0</td>\n",
              "      <td>0</td>\n",
              "      <td>0</td>\n",
              "      <td>0</td>\n",
              "      <td>0</td>\n",
              "      <td>0</td>\n",
              "      <td>0</td>\n",
              "      <td>0</td>\n",
              "      <td>0</td>\n",
              "      <td>...</td>\n",
              "      <td>0</td>\n",
              "      <td>0</td>\n",
              "      <td>0</td>\n",
              "      <td>0</td>\n",
              "      <td>0</td>\n",
              "      <td>0</td>\n",
              "      <td>0</td>\n",
              "      <td>0</td>\n",
              "      <td>0</td>\n",
              "      <td>0</td>\n",
              "      <td>0</td>\n",
              "      <td>0</td>\n",
              "      <td>0</td>\n",
              "      <td>0</td>\n",
              "      <td>0</td>\n",
              "      <td>0</td>\n",
              "      <td>0</td>\n",
              "      <td>0</td>\n",
              "      <td>0</td>\n",
              "      <td>0</td>\n",
              "      <td>0</td>\n",
              "      <td>0</td>\n",
              "      <td>0</td>\n",
              "      <td>0</td>\n",
              "      <td>0</td>\n",
              "      <td>0</td>\n",
              "      <td>0</td>\n",
              "      <td>0</td>\n",
              "      <td>0</td>\n",
              "      <td>0</td>\n",
              "      <td>0</td>\n",
              "      <td>0</td>\n",
              "      <td>0</td>\n",
              "      <td>0</td>\n",
              "      <td>0</td>\n",
              "      <td>0</td>\n",
              "      <td>0</td>\n",
              "      <td>0</td>\n",
              "      <td>0</td>\n",
              "      <td>0</td>\n",
              "    </tr>\n",
              "  </tbody>\n",
              "</table>\n",
              "<p>5 rows × 5999 columns</p>\n",
              "</div>"
            ],
            "text/plain": [
              "   aaabar  aaron  abacus  ability  able  ...  zone  zucchini  zuchinni  zupa  zupas\n",
              "0       0      0       0        0     0  ...     0         0         0     0      0\n",
              "1       0      0       0        0     0  ...     0         0         0     0      0\n",
              "2       0      0       0        0     0  ...     0         0         0     0      0\n",
              "3       0      0       0        0     0  ...     0         0         0     0      0\n",
              "4       0      0       0        0     0  ...     0         0         0     0      0\n",
              "\n",
              "[5 rows x 5999 columns]"
            ]
          },
          "metadata": {
            "tags": []
          },
          "execution_count": 22
        }
      ]
    },
    {
      "cell_type": "markdown",
      "metadata": {
        "id": "6xYFEl8tQnV4",
        "colab_type": "text"
      },
      "source": [
        "- Axis 0 will act on all the ROWS in each COLUMN\n",
        "- Axis 1 will act on all the COLUMNS in each ROW"
      ]
    },
    {
      "cell_type": "code",
      "metadata": {
        "id": "KIPyITaQDAgQ",
        "colab_type": "code",
        "outputId": "ba85e727-4ccd-44d6-a660-cbbb710290a8",
        "colab": {
          "base_uri": "https://localhost:8080/",
          "height": 221
        }
      },
      "source": [
        "word_cloud_freq = dtm.sum(axis=0)\n",
        "word_cloud_freq"
      ],
      "execution_count": 23,
      "outputs": [
        {
          "output_type": "execute_result",
          "data": {
            "text/plain": [
              "aaabar        4\n",
              "aaron        11\n",
              "abacus        5\n",
              "ability       9\n",
              "able        159\n",
              "           ... \n",
              "zone          5\n",
              "zucchini     20\n",
              "zuchinni      3\n",
              "zupa          5\n",
              "zupas         2\n",
              "Length: 5999, dtype: int64"
            ]
          },
          "metadata": {
            "tags": []
          },
          "execution_count": 23
        }
      ]
    },
    {
      "cell_type": "code",
      "metadata": {
        "scrolled": true,
        "id": "IlhaONmyuW2u",
        "colab_type": "code",
        "outputId": "60e038ff-8fd1-4c64-dcad-c26caebb3ffc",
        "colab": {
          "base_uri": "https://localhost:8080/",
          "height": 198
        }
      },
      "source": [
        "wordcloud = WordCloud(max_words=100, \n",
        "                      background_color=\"white\",\n",
        "                      font_path = path + 'Input/SignPainter.ttc',\n",
        "                      colormap=\"Blues\")\n",
        "wordcloud.generate_from_frequencies(word_cloud_freq)\n",
        "plt.imshow(wordcloud)\n",
        "# Turn off axis lines and labels\n",
        "plt.axis(\"off\")\n",
        "plt.show()"
      ],
      "execution_count": 24,
      "outputs": [
        {
          "output_type": "display_data",
          "data": {
            "image/png": "[encoded data removed]",
            "text/plain": [
              "<Figure size 432x288 with 1 Axes>"
            ]
          },
          "metadata": {
            "tags": [],
            "needs_background": "light"
          }
        }
      ]
    },
    {
      "cell_type": "markdown",
      "metadata": {
        "id": "lyoeT_xfuW2x",
        "colab_type": "text"
      },
      "source": [
        "# Word Cloud Positive - Top 20"
      ]
    },
    {
      "cell_type": "code",
      "metadata": {
        "id": "_iw_PGd9FBdi",
        "colab_type": "code",
        "colab": {
          "base_uri": "https://localhost:8080/",
          "height": 34
        },
        "outputId": "54841426-e5e3-4e8c-f104-a5479fa14018"
      },
      "source": [
        "dtm_pos = dtm[reviews['positive']==1].copy()\n",
        "dtm_pos.shape"
      ],
      "execution_count": 25,
      "outputs": [
        {
          "output_type": "execute_result",
          "data": {
            "text/plain": [
              "(6526, 5999)"
            ]
          },
          "metadata": {
            "tags": []
          },
          "execution_count": 25
        }
      ]
    },
    {
      "cell_type": "code",
      "metadata": {
        "id": "xY9_MKDhuW2y",
        "colab_type": "code",
        "colab": {}
      },
      "source": [
        "word_cloud_freq_pos = dtm_pos.sum(axis=0)"
      ],
      "execution_count": 0,
      "outputs": []
    },
    {
      "cell_type": "code",
      "metadata": {
        "id": "alnN9kGVuW20",
        "colab_type": "code",
        "outputId": "ccc87f2c-5a86-4210-c971-73f7e2a01710",
        "colab": {
          "base_uri": "https://localhost:8080/",
          "height": 198
        }
      },
      "source": [
        "wordcloud = WordCloud(max_words=20,\n",
        "                      background_color=\"white\",\n",
        "                      font_path = path + 'Input/SignPainter.ttc',\n",
        "                      colormap=\"Greens\")\n",
        "\n",
        "wordcloud.generate_from_frequencies(word_cloud_freq_pos)\n",
        "plt.imshow(wordcloud)\n",
        "plt.axis(\"off\")\n",
        "plt.show()"
      ],
      "execution_count": 27,
      "outputs": [
        {
          "output_type": "display_data",
          "data": {
            "image/png": "[encoded data removed]",
            "text/plain": [
              "<Figure size 432x288 with 1 Axes>"
            ]
          },
          "metadata": {
            "tags": [],
            "needs_background": "light"
          }
        }
      ]
    },
    {
      "cell_type": "code",
      "metadata": {
        "id": "0GdHfUmDuW22",
        "colab_type": "code",
        "outputId": "34be5d47-3b5f-4a41-970d-8c2fad62019f",
        "colab": {
          "base_uri": "https://localhost:8080/",
          "height": 357
        }
      },
      "source": [
        "wordcloud.words_\n",
        "# 8 of the 20 words are positive words\n",
        "# always, amazing, delicious, friendly, good, great, like, love"
      ],
      "execution_count": 28,
      "outputs": [
        {
          "output_type": "execute_result",
          "data": {
            "text/plain": [
              "{'always': 0.31927985414767546,\n",
              " 'amazing': 0.2876025524156791,\n",
              " 'back': 0.41134913400182316,\n",
              " 'come': 0.48997265268915224,\n",
              " 'delicious': 0.3612123974475843,\n",
              " 'food': 0.9899726526891522,\n",
              " 'friendly': 0.31289881494986327,\n",
              " 'get': 0.5271194165907019,\n",
              " 'go': 0.5656335460346399,\n",
              " 'good': 1.0,\n",
              " 'great': 0.8776207839562443,\n",
              " 'like': 0.3735186873290793,\n",
              " 'love': 0.4416590701914312,\n",
              " 'make': 0.35642661804922515,\n",
              " 'one': 0.29626253418413856,\n",
              " 'order': 0.477894257064722,\n",
              " 'place': 0.904968094804011,\n",
              " 'service': 0.5198268003646308,\n",
              " 'time': 0.49134001823154055,\n",
              " 'try': 0.4029170464904284}"
            ]
          },
          "metadata": {
            "tags": []
          },
          "execution_count": 28
        }
      ]
    },
    {
      "cell_type": "markdown",
      "metadata": {
        "id": "W96q11fauW24",
        "colab_type": "text"
      },
      "source": [
        "# Word Cloud Negative - Top 20"
      ]
    },
    {
      "cell_type": "code",
      "metadata": {
        "id": "GhdDAhClFeVW",
        "colab_type": "code",
        "colab": {
          "base_uri": "https://localhost:8080/",
          "height": 34
        },
        "outputId": "7709ae4f-16a3-4486-dea9-dc7396d4a5d7"
      },
      "source": [
        "dtm_neg = dtm[reviews['positive']==0].copy()\n",
        "dtm_neg.shape"
      ],
      "execution_count": 29,
      "outputs": [
        {
          "output_type": "execute_result",
          "data": {
            "text/plain": [
              "(2839, 5999)"
            ]
          },
          "metadata": {
            "tags": []
          },
          "execution_count": 29
        }
      ]
    },
    {
      "cell_type": "code",
      "metadata": {
        "id": "lVAEwQfwuW25",
        "colab_type": "code",
        "outputId": "6e1f4dd5-a483-47cf-b7be-0752a73409b5",
        "colab": {
          "base_uri": "https://localhost:8080/",
          "height": 221
        }
      },
      "source": [
        "word_cloud_freq_neg = dtm_neg.sum(axis=0)\n",
        "word_cloud_freq_neg"
      ],
      "execution_count": 30,
      "outputs": [
        {
          "output_type": "execute_result",
          "data": {
            "text/plain": [
              "aaabar       0\n",
              "aaron        1\n",
              "abacus       1\n",
              "ability      4\n",
              "able        59\n",
              "            ..\n",
              "zone         1\n",
              "zucchini     9\n",
              "zuchinni     0\n",
              "zupa         2\n",
              "zupas        1\n",
              "Length: 5999, dtype: int64"
            ]
          },
          "metadata": {
            "tags": []
          },
          "execution_count": 30
        }
      ]
    },
    {
      "cell_type": "code",
      "metadata": {
        "id": "v1zEja7puW27",
        "colab_type": "code",
        "outputId": "eae99ac6-69fb-4c47-ad81-538d508ee45a",
        "colab": {
          "base_uri": "https://localhost:8080/",
          "height": 198
        }
      },
      "source": [
        "wordcloud = WordCloud(max_words=20,\n",
        "                      background_color=\"white\",\n",
        "                      font_path = path + 'Input/SignPainter.ttc',\n",
        "                      colormap=\"Reds\")\n",
        "wordcloud.generate_from_frequencies(word_cloud_freq_neg)\n",
        "\n",
        "plt.imshow(wordcloud)\n",
        "plt.axis(\"off\")\n",
        "plt.show()"
      ],
      "execution_count": 31,
      "outputs": [
        {
          "output_type": "display_data",
          "data": {
            "image/png": "[encoded data removed]",
            "text/plain": [
              "<Figure size 432x288 with 1 Axes>"
            ]
          },
          "metadata": {
            "tags": [],
            "needs_background": "light"
          }
        }
      ]
    },
    {
      "cell_type": "code",
      "metadata": {
        "id": "Fr4EnNnYuEpI",
        "colab_type": "code",
        "outputId": "ab9cd29b-9f88-4819-f34a-d32d7815ef73",
        "colab": {
          "base_uri": "https://localhost:8080/",
          "height": 357
        }
      },
      "source": [
        "wordcloud.words_"
      ],
      "execution_count": 32,
      "outputs": [
        {
          "output_type": "execute_result",
          "data": {
            "text/plain": [
              "{'ask': 0.44871794871794873,\n",
              " 'back': 0.4911858974358974,\n",
              " 'come': 0.6233974358974359,\n",
              " 'even': 0.32892628205128205,\n",
              " 'food': 0.999198717948718,\n",
              " 'get': 0.8858173076923077,\n",
              " 'go': 0.8950320512820513,\n",
              " 'good': 0.4823717948717949,\n",
              " 'like': 0.48998397435897434,\n",
              " 'minute': 0.37099358974358976,\n",
              " 'never': 0.3249198717948718,\n",
              " 'one': 0.43990384615384615,\n",
              " 'order': 1.0,\n",
              " 'place': 0.657051282051282,\n",
              " 'say': 0.5420673076923077,\n",
              " 'service': 0.5120192307692307,\n",
              " 'take': 0.46033653846153844,\n",
              " 'time': 0.6213942307692307,\n",
              " 'wait': 0.40625,\n",
              " 'would': 0.5212339743589743}"
            ]
          },
          "metadata": {
            "tags": []
          },
          "execution_count": 32
        }
      ]
    },
    {
      "cell_type": "code",
      "metadata": {
        "id": "eP8iSrYYuW29",
        "colab_type": "code",
        "outputId": "d2990f3f-4b7d-475d-d0f2-669395a725ad",
        "colab": {
          "base_uri": "https://localhost:8080/",
          "height": 357
        }
      },
      "source": [
        "wordcloud.words_\n",
        "# 1 of the 20 words is negative, 2 are positive\n",
        "# wait\n",
        "# good, like"
      ],
      "execution_count": 33,
      "outputs": [
        {
          "output_type": "execute_result",
          "data": {
            "text/plain": [
              "{'ask': 0.44871794871794873,\n",
              " 'back': 0.4911858974358974,\n",
              " 'come': 0.6233974358974359,\n",
              " 'even': 0.32892628205128205,\n",
              " 'food': 0.999198717948718,\n",
              " 'get': 0.8858173076923077,\n",
              " 'go': 0.8950320512820513,\n",
              " 'good': 0.4823717948717949,\n",
              " 'like': 0.48998397435897434,\n",
              " 'minute': 0.37099358974358976,\n",
              " 'never': 0.3249198717948718,\n",
              " 'one': 0.43990384615384615,\n",
              " 'order': 1.0,\n",
              " 'place': 0.657051282051282,\n",
              " 'say': 0.5420673076923077,\n",
              " 'service': 0.5120192307692307,\n",
              " 'take': 0.46033653846153844,\n",
              " 'time': 0.6213942307692307,\n",
              " 'wait': 0.40625,\n",
              " 'would': 0.5212339743589743}"
            ]
          },
          "metadata": {
            "tags": []
          },
          "execution_count": 33
        }
      ]
    },
    {
      "cell_type": "markdown",
      "metadata": {
        "id": "OzQqYp52uW2_",
        "colab_type": "text"
      },
      "source": [
        "# Word Frequency"
      ]
    },
    {
      "cell_type": "code",
      "metadata": {
        "id": "cCaZss3LuW3A",
        "colab_type": "code",
        "outputId": "114af863-89cd-4793-8a56-bdd2b112df74",
        "colab": {
          "base_uri": "https://localhost:8080/",
          "height": 204
        }
      },
      "source": [
        "# Most Frequent Words\n",
        "word_freq = pd.DataFrame(dtm.sum(axis=0)).reset_index()\n",
        "word_freq.head()"
      ],
      "execution_count": 34,
      "outputs": [
        {
          "output_type": "execute_result",
          "data": {
            "text/html": [
              "<div>\n",
              "<style scoped>\n",
              "    .dataframe tbody tr th:only-of-type {\n",
              "        vertical-align: middle;\n",
              "    }\n",
              "\n",
              "    .dataframe tbody tr th {\n",
              "        vertical-align: top;\n",
              "    }\n",
              "\n",
              "    .dataframe thead th {\n",
              "        text-align: right;\n",
              "    }\n",
              "</style>\n",
              "<table border=\"1\" class=\"dataframe\">\n",
              "  <thead>\n",
              "    <tr style=\"text-align: right;\">\n",
              "      <th></th>\n",
              "      <th>index</th>\n",
              "      <th>0</th>\n",
              "    </tr>\n",
              "  </thead>\n",
              "  <tbody>\n",
              "    <tr>\n",
              "      <th>0</th>\n",
              "      <td>aaabar</td>\n",
              "      <td>4</td>\n",
              "    </tr>\n",
              "    <tr>\n",
              "      <th>1</th>\n",
              "      <td>aaron</td>\n",
              "      <td>11</td>\n",
              "    </tr>\n",
              "    <tr>\n",
              "      <th>2</th>\n",
              "      <td>abacus</td>\n",
              "      <td>5</td>\n",
              "    </tr>\n",
              "    <tr>\n",
              "      <th>3</th>\n",
              "      <td>ability</td>\n",
              "      <td>9</td>\n",
              "    </tr>\n",
              "    <tr>\n",
              "      <th>4</th>\n",
              "      <td>able</td>\n",
              "      <td>159</td>\n",
              "    </tr>\n",
              "  </tbody>\n",
              "</table>\n",
              "</div>"
            ],
            "text/plain": [
              "     index    0\n",
              "0   aaabar    4\n",
              "1    aaron   11\n",
              "2   abacus    5\n",
              "3  ability    9\n",
              "4     able  159"
            ]
          },
          "metadata": {
            "tags": []
          },
          "execution_count": 34
        }
      ]
    },
    {
      "cell_type": "code",
      "metadata": {
        "id": "wql7yPLuHs1f",
        "colab_type": "code",
        "outputId": "146b409e-de9f-415a-8611-5c7823f79c16",
        "colab": {
          "base_uri": "https://localhost:8080/",
          "height": 204
        }
      },
      "source": [
        "word_freq.columns = ['Word', 'Count']\n",
        "word_freq.head()"
      ],
      "execution_count": 35,
      "outputs": [
        {
          "output_type": "execute_result",
          "data": {
            "text/html": [
              "<div>\n",
              "<style scoped>\n",
              "    .dataframe tbody tr th:only-of-type {\n",
              "        vertical-align: middle;\n",
              "    }\n",
              "\n",
              "    .dataframe tbody tr th {\n",
              "        vertical-align: top;\n",
              "    }\n",
              "\n",
              "    .dataframe thead th {\n",
              "        text-align: right;\n",
              "    }\n",
              "</style>\n",
              "<table border=\"1\" class=\"dataframe\">\n",
              "  <thead>\n",
              "    <tr style=\"text-align: right;\">\n",
              "      <th></th>\n",
              "      <th>Word</th>\n",
              "      <th>Count</th>\n",
              "    </tr>\n",
              "  </thead>\n",
              "  <tbody>\n",
              "    <tr>\n",
              "      <th>0</th>\n",
              "      <td>aaabar</td>\n",
              "      <td>4</td>\n",
              "    </tr>\n",
              "    <tr>\n",
              "      <th>1</th>\n",
              "      <td>aaron</td>\n",
              "      <td>11</td>\n",
              "    </tr>\n",
              "    <tr>\n",
              "      <th>2</th>\n",
              "      <td>abacus</td>\n",
              "      <td>5</td>\n",
              "    </tr>\n",
              "    <tr>\n",
              "      <th>3</th>\n",
              "      <td>ability</td>\n",
              "      <td>9</td>\n",
              "    </tr>\n",
              "    <tr>\n",
              "      <th>4</th>\n",
              "      <td>able</td>\n",
              "      <td>159</td>\n",
              "    </tr>\n",
              "  </tbody>\n",
              "</table>\n",
              "</div>"
            ],
            "text/plain": [
              "      Word  Count\n",
              "0   aaabar      4\n",
              "1    aaron     11\n",
              "2   abacus      5\n",
              "3  ability      9\n",
              "4     able    159"
            ]
          },
          "metadata": {
            "tags": []
          },
          "execution_count": 35
        }
      ]
    },
    {
      "cell_type": "code",
      "metadata": {
        "id": "aAhqsNWJHp1s",
        "colab_type": "code",
        "outputId": "01a8680a-89d1-4881-b769-f6eccd4d1ffe",
        "colab": {
          "base_uri": "https://localhost:8080/",
          "height": 204
        }
      },
      "source": [
        "word_freq = word_freq.sort_values(by = 'Count', \n",
        "                                  ascending = False)\n",
        "word_freq.head()"
      ],
      "execution_count": 36,
      "outputs": [
        {
          "output_type": "execute_result",
          "data": {
            "text/html": [
              "<div>\n",
              "<style scoped>\n",
              "    .dataframe tbody tr th:only-of-type {\n",
              "        vertical-align: middle;\n",
              "    }\n",
              "\n",
              "    .dataframe tbody tr th {\n",
              "        vertical-align: top;\n",
              "    }\n",
              "\n",
              "    .dataframe thead th {\n",
              "        text-align: right;\n",
              "    }\n",
              "</style>\n",
              "<table border=\"1\" class=\"dataframe\">\n",
              "  <thead>\n",
              "    <tr style=\"text-align: right;\">\n",
              "      <th></th>\n",
              "      <th>Word</th>\n",
              "      <th>Count</th>\n",
              "    </tr>\n",
              "  </thead>\n",
              "  <tbody>\n",
              "    <tr>\n",
              "      <th>2061</th>\n",
              "      <td>food</td>\n",
              "      <td>6838</td>\n",
              "    </tr>\n",
              "    <tr>\n",
              "      <th>3950</th>\n",
              "      <td>place</td>\n",
              "      <td>5611</td>\n",
              "    </tr>\n",
              "    <tr>\n",
              "      <th>2263</th>\n",
              "      <td>good</td>\n",
              "      <td>5592</td>\n",
              "    </tr>\n",
              "    <tr>\n",
              "      <th>2251</th>\n",
              "      <td>go</td>\n",
              "      <td>4716</td>\n",
              "    </tr>\n",
              "    <tr>\n",
              "      <th>3649</th>\n",
              "      <td>order</td>\n",
              "      <td>4593</td>\n",
              "    </tr>\n",
              "  </tbody>\n",
              "</table>\n",
              "</div>"
            ],
            "text/plain": [
              "       Word  Count\n",
              "2061   food   6838\n",
              "3950  place   5611\n",
              "2263   good   5592\n",
              "2251     go   4716\n",
              "3649  order   4593"
            ]
          },
          "metadata": {
            "tags": []
          },
          "execution_count": 36
        }
      ]
    },
    {
      "cell_type": "code",
      "metadata": {
        "id": "mobwibzNuW3B",
        "colab_type": "code",
        "outputId": "2e19a1a8-94b8-438c-e09d-035eb6385bd7",
        "colab": {
          "base_uri": "https://localhost:8080/",
          "height": 204
        }
      },
      "source": [
        "# Plot Top 20 Words\n",
        "top20 = word_freq[0:20].copy()\n",
        "top20.head()"
      ],
      "execution_count": 37,
      "outputs": [
        {
          "output_type": "execute_result",
          "data": {
            "text/html": [
              "<div>\n",
              "<style scoped>\n",
              "    .dataframe tbody tr th:only-of-type {\n",
              "        vertical-align: middle;\n",
              "    }\n",
              "\n",
              "    .dataframe tbody tr th {\n",
              "        vertical-align: top;\n",
              "    }\n",
              "\n",
              "    .dataframe thead th {\n",
              "        text-align: right;\n",
              "    }\n",
              "</style>\n",
              "<table border=\"1\" class=\"dataframe\">\n",
              "  <thead>\n",
              "    <tr style=\"text-align: right;\">\n",
              "      <th></th>\n",
              "      <th>Word</th>\n",
              "      <th>Count</th>\n",
              "    </tr>\n",
              "  </thead>\n",
              "  <tbody>\n",
              "    <tr>\n",
              "      <th>2061</th>\n",
              "      <td>food</td>\n",
              "      <td>6838</td>\n",
              "    </tr>\n",
              "    <tr>\n",
              "      <th>3950</th>\n",
              "      <td>place</td>\n",
              "      <td>5611</td>\n",
              "    </tr>\n",
              "    <tr>\n",
              "      <th>2263</th>\n",
              "      <td>good</td>\n",
              "      <td>5592</td>\n",
              "    </tr>\n",
              "    <tr>\n",
              "      <th>2251</th>\n",
              "      <td>go</td>\n",
              "      <td>4716</td>\n",
              "    </tr>\n",
              "    <tr>\n",
              "      <th>3649</th>\n",
              "      <td>order</td>\n",
              "      <td>4593</td>\n",
              "    </tr>\n",
              "  </tbody>\n",
              "</table>\n",
              "</div>"
            ],
            "text/plain": [
              "       Word  Count\n",
              "2061   food   6838\n",
              "3950  place   5611\n",
              "2263   good   5592\n",
              "2251     go   4716\n",
              "3649  order   4593"
            ]
          },
          "metadata": {
            "tags": []
          },
          "execution_count": 37
        }
      ]
    },
    {
      "cell_type": "code",
      "metadata": {
        "id": "HyLgXFX3uW3G",
        "colab_type": "code",
        "outputId": "fcf70400-755c-4cd5-9ade-cce729edcc22",
        "colab": {
          "base_uri": "https://localhost:8080/",
          "height": 295
        }
      },
      "source": [
        "plt.barh(y = top20['Word'], \n",
        "         width = top20['Count'], \n",
        "         height = 0.5,\n",
        "         align='center')\n",
        "\n",
        "plt.title('Top 20 Tokens')\n",
        "plt.xlabel('Word')\n",
        "plt.ylabel('Frequency')\n",
        "\n",
        "plt.show();"
      ],
      "execution_count": 38,
      "outputs": [
        {
          "output_type": "display_data",
          "data": {
            "image/png": "[encoded data removed]",
            "text/plain": [
              "<Figure size 432x288 with 1 Axes>"
            ]
          },
          "metadata": {
            "tags": [],
            "needs_background": "light"
          }
        }
      ]
    },
    {
      "cell_type": "markdown",
      "metadata": {
        "id": "4CFck3WxuW3J",
        "colab_type": "text"
      },
      "source": [
        "# Word Length"
      ]
    },
    {
      "cell_type": "code",
      "metadata": {
        "id": "UU1RzJf0ME0_",
        "colab_type": "code",
        "outputId": "2c343a82-4b5f-40e8-cd24-7b31a09a35f5",
        "colab": {
          "base_uri": "https://localhost:8080/",
          "height": 204
        }
      },
      "source": [
        "# Word Length\n",
        "word_freq['word_len'] = word_freq['Word'].apply(len)\n",
        "\n",
        "word_freq.head()"
      ],
      "execution_count": 39,
      "outputs": [
        {
          "output_type": "execute_result",
          "data": {
            "text/html": [
              "<div>\n",
              "<style scoped>\n",
              "    .dataframe tbody tr th:only-of-type {\n",
              "        vertical-align: middle;\n",
              "    }\n",
              "\n",
              "    .dataframe tbody tr th {\n",
              "        vertical-align: top;\n",
              "    }\n",
              "\n",
              "    .dataframe thead th {\n",
              "        text-align: right;\n",
              "    }\n",
              "</style>\n",
              "<table border=\"1\" class=\"dataframe\">\n",
              "  <thead>\n",
              "    <tr style=\"text-align: right;\">\n",
              "      <th></th>\n",
              "      <th>Word</th>\n",
              "      <th>Count</th>\n",
              "      <th>word_len</th>\n",
              "    </tr>\n",
              "  </thead>\n",
              "  <tbody>\n",
              "    <tr>\n",
              "      <th>2061</th>\n",
              "      <td>food</td>\n",
              "      <td>6838</td>\n",
              "      <td>4</td>\n",
              "    </tr>\n",
              "    <tr>\n",
              "      <th>3950</th>\n",
              "      <td>place</td>\n",
              "      <td>5611</td>\n",
              "      <td>5</td>\n",
              "    </tr>\n",
              "    <tr>\n",
              "      <th>2263</th>\n",
              "      <td>good</td>\n",
              "      <td>5592</td>\n",
              "      <td>4</td>\n",
              "    </tr>\n",
              "    <tr>\n",
              "      <th>2251</th>\n",
              "      <td>go</td>\n",
              "      <td>4716</td>\n",
              "      <td>2</td>\n",
              "    </tr>\n",
              "    <tr>\n",
              "      <th>3649</th>\n",
              "      <td>order</td>\n",
              "      <td>4593</td>\n",
              "      <td>5</td>\n",
              "    </tr>\n",
              "  </tbody>\n",
              "</table>\n",
              "</div>"
            ],
            "text/plain": [
              "       Word  Count  word_len\n",
              "2061   food   6838         4\n",
              "3950  place   5611         5\n",
              "2263   good   5592         4\n",
              "2251     go   4716         2\n",
              "3649  order   4593         5"
            ]
          },
          "metadata": {
            "tags": []
          },
          "execution_count": 39
        }
      ]
    },
    {
      "cell_type": "code",
      "metadata": {
        "scrolled": false,
        "id": "fduySzF2uW3K",
        "colab_type": "code",
        "outputId": "20a86324-efd0-4467-bebc-c53ac2bb0810",
        "colab": {
          "base_uri": "https://localhost:8080/",
          "height": 297
        }
      },
      "source": [
        "word_freq.describe()"
      ],
      "execution_count": 40,
      "outputs": [
        {
          "output_type": "execute_result",
          "data": {
            "text/html": [
              "<div>\n",
              "<style scoped>\n",
              "    .dataframe tbody tr th:only-of-type {\n",
              "        vertical-align: middle;\n",
              "    }\n",
              "\n",
              "    .dataframe tbody tr th {\n",
              "        vertical-align: top;\n",
              "    }\n",
              "\n",
              "    .dataframe thead th {\n",
              "        text-align: right;\n",
              "    }\n",
              "</style>\n",
              "<table border=\"1\" class=\"dataframe\">\n",
              "  <thead>\n",
              "    <tr style=\"text-align: right;\">\n",
              "      <th></th>\n",
              "      <th>Count</th>\n",
              "      <th>word_len</th>\n",
              "    </tr>\n",
              "  </thead>\n",
              "  <tbody>\n",
              "    <tr>\n",
              "      <th>count</th>\n",
              "      <td>5999.000000</td>\n",
              "      <td>5999.000000</td>\n",
              "    </tr>\n",
              "    <tr>\n",
              "      <th>mean</th>\n",
              "      <td>63.204867</td>\n",
              "      <td>6.239040</td>\n",
              "    </tr>\n",
              "    <tr>\n",
              "      <th>std</th>\n",
              "      <td>263.008088</td>\n",
              "      <td>2.264416</td>\n",
              "    </tr>\n",
              "    <tr>\n",
              "      <th>min</th>\n",
              "      <td>2.000000</td>\n",
              "      <td>2.000000</td>\n",
              "    </tr>\n",
              "    <tr>\n",
              "      <th>25%</th>\n",
              "      <td>4.000000</td>\n",
              "      <td>5.000000</td>\n",
              "    </tr>\n",
              "    <tr>\n",
              "      <th>50%</th>\n",
              "      <td>9.000000</td>\n",
              "      <td>6.000000</td>\n",
              "    </tr>\n",
              "    <tr>\n",
              "      <th>75%</th>\n",
              "      <td>29.000000</td>\n",
              "      <td>8.000000</td>\n",
              "    </tr>\n",
              "    <tr>\n",
              "      <th>max</th>\n",
              "      <td>6838.000000</td>\n",
              "      <td>17.000000</td>\n",
              "    </tr>\n",
              "  </tbody>\n",
              "</table>\n",
              "</div>"
            ],
            "text/plain": [
              "             Count     word_len\n",
              "count  5999.000000  5999.000000\n",
              "mean     63.204867     6.239040\n",
              "std     263.008088     2.264416\n",
              "min       2.000000     2.000000\n",
              "25%       4.000000     5.000000\n",
              "50%       9.000000     6.000000\n",
              "75%      29.000000     8.000000\n",
              "max    6838.000000    17.000000"
            ]
          },
          "metadata": {
            "tags": []
          },
          "execution_count": 40
        }
      ]
    },
    {
      "cell_type": "code",
      "metadata": {
        "id": "XL4XAxwmuW3N",
        "colab_type": "code",
        "colab": {}
      },
      "source": [
        "# Average word length = 6 chars"
      ],
      "execution_count": 0,
      "outputs": []
    },
    {
      "cell_type": "markdown",
      "metadata": {
        "id": "yQ2e1U2juW3O",
        "colab_type": "text"
      },
      "source": [
        "# Lexical Diversity: How many unique words in each review?"
      ]
    },
    {
      "cell_type": "code",
      "metadata": {
        "id": "Ru1KuYb1uW3P",
        "colab_type": "code",
        "outputId": "33de5343-8b75-42c9-aaec-ef4927b608d6",
        "colab": {
          "base_uri": "https://localhost:8080/",
          "height": 253
        }
      },
      "source": [
        "dtm.head()"
      ],
      "execution_count": 42,
      "outputs": [
        {
          "output_type": "execute_result",
          "data": {
            "text/html": [
              "<div>\n",
              "<style scoped>\n",
              "    .dataframe tbody tr th:only-of-type {\n",
              "        vertical-align: middle;\n",
              "    }\n",
              "\n",
              "    .dataframe tbody tr th {\n",
              "        vertical-align: top;\n",
              "    }\n",
              "\n",
              "    .dataframe thead th {\n",
              "        text-align: right;\n",
              "    }\n",
              "</style>\n",
              "<table border=\"1\" class=\"dataframe\">\n",
              "  <thead>\n",
              "    <tr style=\"text-align: right;\">\n",
              "      <th></th>\n",
              "      <th>aaabar</th>\n",
              "      <th>aaron</th>\n",
              "      <th>abacus</th>\n",
              "      <th>ability</th>\n",
              "      <th>able</th>\n",
              "      <th>absolute</th>\n",
              "      <th>absolutely</th>\n",
              "      <th>absurd</th>\n",
              "      <th>abundance</th>\n",
              "      <th>abundant</th>\n",
              "      <th>ac</th>\n",
              "      <th>acai</th>\n",
              "      <th>accent</th>\n",
              "      <th>accept</th>\n",
              "      <th>acceptable</th>\n",
              "      <th>acceptance</th>\n",
              "      <th>access</th>\n",
              "      <th>accessible</th>\n",
              "      <th>accident</th>\n",
              "      <th>accidentally</th>\n",
              "      <th>accommodate</th>\n",
              "      <th>accommodating</th>\n",
              "      <th>accommodation</th>\n",
              "      <th>accomodate</th>\n",
              "      <th>accompaniment</th>\n",
              "      <th>accompany</th>\n",
              "      <th>accord</th>\n",
              "      <th>accordingly</th>\n",
              "      <th>accordion</th>\n",
              "      <th>account</th>\n",
              "      <th>accuracy</th>\n",
              "      <th>accurate</th>\n",
              "      <th>accuse</th>\n",
              "      <th>ace</th>\n",
              "      <th>ache</th>\n",
              "      <th>achieve</th>\n",
              "      <th>acidic</th>\n",
              "      <th>acknowledge</th>\n",
              "      <th>acknowledgement</th>\n",
              "      <th>acoustic</th>\n",
              "      <th>...</th>\n",
              "      <th>yen</th>\n",
              "      <th>yep</th>\n",
              "      <th>yes</th>\n",
              "      <th>yesterday</th>\n",
              "      <th>yet</th>\n",
              "      <th>yike</th>\n",
              "      <th>yo</th>\n",
              "      <th>yogurt</th>\n",
              "      <th>yoke</th>\n",
              "      <th>yolk</th>\n",
              "      <th>york</th>\n",
              "      <th>yorker</th>\n",
              "      <th>young</th>\n",
              "      <th>younger</th>\n",
              "      <th>youngster</th>\n",
              "      <th>youth</th>\n",
              "      <th>yr</th>\n",
              "      <th>yrs</th>\n",
              "      <th>yuck</th>\n",
              "      <th>yum</th>\n",
              "      <th>yumm</th>\n",
              "      <th>yumminess</th>\n",
              "      <th>yummm</th>\n",
              "      <th>yummmm</th>\n",
              "      <th>yummo</th>\n",
              "      <th>yummy</th>\n",
              "      <th>yup</th>\n",
              "      <th>zach</th>\n",
              "      <th>zack</th>\n",
              "      <th>zero</th>\n",
              "      <th>zesty</th>\n",
              "      <th>zillion</th>\n",
              "      <th>zipps</th>\n",
              "      <th>ziti</th>\n",
              "      <th>zoe</th>\n",
              "      <th>zone</th>\n",
              "      <th>zucchini</th>\n",
              "      <th>zuchinni</th>\n",
              "      <th>zupa</th>\n",
              "      <th>zupas</th>\n",
              "    </tr>\n",
              "  </thead>\n",
              "  <tbody>\n",
              "    <tr>\n",
              "      <th>0</th>\n",
              "      <td>0</td>\n",
              "      <td>0</td>\n",
              "      <td>0</td>\n",
              "      <td>0</td>\n",
              "      <td>0</td>\n",
              "      <td>0</td>\n",
              "      <td>0</td>\n",
              "      <td>0</td>\n",
              "      <td>0</td>\n",
              "      <td>0</td>\n",
              "      <td>0</td>\n",
              "      <td>0</td>\n",
              "      <td>0</td>\n",
              "      <td>0</td>\n",
              "      <td>0</td>\n",
              "      <td>0</td>\n",
              "      <td>0</td>\n",
              "      <td>0</td>\n",
              "      <td>0</td>\n",
              "      <td>0</td>\n",
              "      <td>0</td>\n",
              "      <td>0</td>\n",
              "      <td>0</td>\n",
              "      <td>0</td>\n",
              "      <td>0</td>\n",
              "      <td>0</td>\n",
              "      <td>0</td>\n",
              "      <td>0</td>\n",
              "      <td>0</td>\n",
              "      <td>0</td>\n",
              "      <td>0</td>\n",
              "      <td>0</td>\n",
              "      <td>0</td>\n",
              "      <td>0</td>\n",
              "      <td>0</td>\n",
              "      <td>0</td>\n",
              "      <td>0</td>\n",
              "      <td>0</td>\n",
              "      <td>0</td>\n",
              "      <td>0</td>\n",
              "      <td>...</td>\n",
              "      <td>0</td>\n",
              "      <td>0</td>\n",
              "      <td>0</td>\n",
              "      <td>0</td>\n",
              "      <td>0</td>\n",
              "      <td>0</td>\n",
              "      <td>0</td>\n",
              "      <td>0</td>\n",
              "      <td>0</td>\n",
              "      <td>0</td>\n",
              "      <td>0</td>\n",
              "      <td>0</td>\n",
              "      <td>0</td>\n",
              "      <td>0</td>\n",
              "      <td>0</td>\n",
              "      <td>0</td>\n",
              "      <td>0</td>\n",
              "      <td>0</td>\n",
              "      <td>0</td>\n",
              "      <td>0</td>\n",
              "      <td>0</td>\n",
              "      <td>0</td>\n",
              "      <td>0</td>\n",
              "      <td>0</td>\n",
              "      <td>0</td>\n",
              "      <td>0</td>\n",
              "      <td>0</td>\n",
              "      <td>0</td>\n",
              "      <td>0</td>\n",
              "      <td>0</td>\n",
              "      <td>0</td>\n",
              "      <td>0</td>\n",
              "      <td>0</td>\n",
              "      <td>0</td>\n",
              "      <td>0</td>\n",
              "      <td>0</td>\n",
              "      <td>0</td>\n",
              "      <td>0</td>\n",
              "      <td>0</td>\n",
              "      <td>0</td>\n",
              "    </tr>\n",
              "    <tr>\n",
              "      <th>1</th>\n",
              "      <td>0</td>\n",
              "      <td>0</td>\n",
              "      <td>0</td>\n",
              "      <td>0</td>\n",
              "      <td>0</td>\n",
              "      <td>0</td>\n",
              "      <td>0</td>\n",
              "      <td>0</td>\n",
              "      <td>0</td>\n",
              "      <td>0</td>\n",
              "      <td>0</td>\n",
              "      <td>0</td>\n",
              "      <td>0</td>\n",
              "      <td>0</td>\n",
              "      <td>0</td>\n",
              "      <td>0</td>\n",
              "      <td>0</td>\n",
              "      <td>0</td>\n",
              "      <td>0</td>\n",
              "      <td>0</td>\n",
              "      <td>0</td>\n",
              "      <td>0</td>\n",
              "      <td>0</td>\n",
              "      <td>0</td>\n",
              "      <td>0</td>\n",
              "      <td>0</td>\n",
              "      <td>0</td>\n",
              "      <td>0</td>\n",
              "      <td>0</td>\n",
              "      <td>0</td>\n",
              "      <td>0</td>\n",
              "      <td>0</td>\n",
              "      <td>0</td>\n",
              "      <td>0</td>\n",
              "      <td>0</td>\n",
              "      <td>0</td>\n",
              "      <td>0</td>\n",
              "      <td>0</td>\n",
              "      <td>0</td>\n",
              "      <td>0</td>\n",
              "      <td>...</td>\n",
              "      <td>0</td>\n",
              "      <td>0</td>\n",
              "      <td>0</td>\n",
              "      <td>0</td>\n",
              "      <td>0</td>\n",
              "      <td>0</td>\n",
              "      <td>0</td>\n",
              "      <td>0</td>\n",
              "      <td>0</td>\n",
              "      <td>0</td>\n",
              "      <td>0</td>\n",
              "      <td>0</td>\n",
              "      <td>0</td>\n",
              "      <td>0</td>\n",
              "      <td>0</td>\n",
              "      <td>0</td>\n",
              "      <td>0</td>\n",
              "      <td>0</td>\n",
              "      <td>0</td>\n",
              "      <td>0</td>\n",
              "      <td>0</td>\n",
              "      <td>0</td>\n",
              "      <td>0</td>\n",
              "      <td>0</td>\n",
              "      <td>0</td>\n",
              "      <td>0</td>\n",
              "      <td>0</td>\n",
              "      <td>0</td>\n",
              "      <td>0</td>\n",
              "      <td>0</td>\n",
              "      <td>0</td>\n",
              "      <td>0</td>\n",
              "      <td>0</td>\n",
              "      <td>0</td>\n",
              "      <td>0</td>\n",
              "      <td>0</td>\n",
              "      <td>0</td>\n",
              "      <td>0</td>\n",
              "      <td>0</td>\n",
              "      <td>0</td>\n",
              "    </tr>\n",
              "    <tr>\n",
              "      <th>2</th>\n",
              "      <td>0</td>\n",
              "      <td>0</td>\n",
              "      <td>0</td>\n",
              "      <td>0</td>\n",
              "      <td>0</td>\n",
              "      <td>0</td>\n",
              "      <td>0</td>\n",
              "      <td>0</td>\n",
              "      <td>0</td>\n",
              "      <td>0</td>\n",
              "      <td>0</td>\n",
              "      <td>0</td>\n",
              "      <td>0</td>\n",
              "      <td>0</td>\n",
              "      <td>0</td>\n",
              "      <td>0</td>\n",
              "      <td>0</td>\n",
              "      <td>0</td>\n",
              "      <td>0</td>\n",
              "      <td>0</td>\n",
              "      <td>0</td>\n",
              "      <td>0</td>\n",
              "      <td>0</td>\n",
              "      <td>0</td>\n",
              "      <td>0</td>\n",
              "      <td>0</td>\n",
              "      <td>0</td>\n",
              "      <td>0</td>\n",
              "      <td>0</td>\n",
              "      <td>0</td>\n",
              "      <td>0</td>\n",
              "      <td>0</td>\n",
              "      <td>0</td>\n",
              "      <td>0</td>\n",
              "      <td>0</td>\n",
              "      <td>0</td>\n",
              "      <td>0</td>\n",
              "      <td>0</td>\n",
              "      <td>0</td>\n",
              "      <td>0</td>\n",
              "      <td>...</td>\n",
              "      <td>0</td>\n",
              "      <td>0</td>\n",
              "      <td>0</td>\n",
              "      <td>0</td>\n",
              "      <td>0</td>\n",
              "      <td>0</td>\n",
              "      <td>0</td>\n",
              "      <td>0</td>\n",
              "      <td>0</td>\n",
              "      <td>0</td>\n",
              "      <td>0</td>\n",
              "      <td>0</td>\n",
              "      <td>0</td>\n",
              "      <td>0</td>\n",
              "      <td>0</td>\n",
              "      <td>0</td>\n",
              "      <td>0</td>\n",
              "      <td>0</td>\n",
              "      <td>0</td>\n",
              "      <td>0</td>\n",
              "      <td>0</td>\n",
              "      <td>0</td>\n",
              "      <td>0</td>\n",
              "      <td>0</td>\n",
              "      <td>0</td>\n",
              "      <td>0</td>\n",
              "      <td>0</td>\n",
              "      <td>0</td>\n",
              "      <td>0</td>\n",
              "      <td>0</td>\n",
              "      <td>0</td>\n",
              "      <td>0</td>\n",
              "      <td>0</td>\n",
              "      <td>0</td>\n",
              "      <td>0</td>\n",
              "      <td>0</td>\n",
              "      <td>0</td>\n",
              "      <td>0</td>\n",
              "      <td>0</td>\n",
              "      <td>0</td>\n",
              "    </tr>\n",
              "    <tr>\n",
              "      <th>3</th>\n",
              "      <td>0</td>\n",
              "      <td>0</td>\n",
              "      <td>0</td>\n",
              "      <td>0</td>\n",
              "      <td>0</td>\n",
              "      <td>0</td>\n",
              "      <td>0</td>\n",
              "      <td>0</td>\n",
              "      <td>0</td>\n",
              "      <td>0</td>\n",
              "      <td>0</td>\n",
              "      <td>0</td>\n",
              "      <td>0</td>\n",
              "      <td>0</td>\n",
              "      <td>0</td>\n",
              "      <td>0</td>\n",
              "      <td>0</td>\n",
              "      <td>0</td>\n",
              "      <td>0</td>\n",
              "      <td>0</td>\n",
              "      <td>0</td>\n",
              "      <td>0</td>\n",
              "      <td>0</td>\n",
              "      <td>0</td>\n",
              "      <td>0</td>\n",
              "      <td>0</td>\n",
              "      <td>0</td>\n",
              "      <td>0</td>\n",
              "      <td>0</td>\n",
              "      <td>0</td>\n",
              "      <td>0</td>\n",
              "      <td>0</td>\n",
              "      <td>0</td>\n",
              "      <td>0</td>\n",
              "      <td>0</td>\n",
              "      <td>0</td>\n",
              "      <td>0</td>\n",
              "      <td>0</td>\n",
              "      <td>0</td>\n",
              "      <td>0</td>\n",
              "      <td>...</td>\n",
              "      <td>0</td>\n",
              "      <td>0</td>\n",
              "      <td>0</td>\n",
              "      <td>0</td>\n",
              "      <td>0</td>\n",
              "      <td>0</td>\n",
              "      <td>0</td>\n",
              "      <td>0</td>\n",
              "      <td>0</td>\n",
              "      <td>0</td>\n",
              "      <td>0</td>\n",
              "      <td>0</td>\n",
              "      <td>0</td>\n",
              "      <td>0</td>\n",
              "      <td>0</td>\n",
              "      <td>0</td>\n",
              "      <td>0</td>\n",
              "      <td>0</td>\n",
              "      <td>0</td>\n",
              "      <td>1</td>\n",
              "      <td>0</td>\n",
              "      <td>0</td>\n",
              "      <td>0</td>\n",
              "      <td>0</td>\n",
              "      <td>0</td>\n",
              "      <td>0</td>\n",
              "      <td>0</td>\n",
              "      <td>0</td>\n",
              "      <td>0</td>\n",
              "      <td>0</td>\n",
              "      <td>0</td>\n",
              "      <td>0</td>\n",
              "      <td>0</td>\n",
              "      <td>0</td>\n",
              "      <td>0</td>\n",
              "      <td>0</td>\n",
              "      <td>0</td>\n",
              "      <td>0</td>\n",
              "      <td>0</td>\n",
              "      <td>0</td>\n",
              "    </tr>\n",
              "    <tr>\n",
              "      <th>4</th>\n",
              "      <td>0</td>\n",
              "      <td>0</td>\n",
              "      <td>0</td>\n",
              "      <td>0</td>\n",
              "      <td>0</td>\n",
              "      <td>0</td>\n",
              "      <td>0</td>\n",
              "      <td>0</td>\n",
              "      <td>0</td>\n",
              "      <td>0</td>\n",
              "      <td>0</td>\n",
              "      <td>0</td>\n",
              "      <td>0</td>\n",
              "      <td>0</td>\n",
              "      <td>0</td>\n",
              "      <td>0</td>\n",
              "      <td>0</td>\n",
              "      <td>0</td>\n",
              "      <td>0</td>\n",
              "      <td>0</td>\n",
              "      <td>0</td>\n",
              "      <td>0</td>\n",
              "      <td>0</td>\n",
              "      <td>0</td>\n",
              "      <td>0</td>\n",
              "      <td>0</td>\n",
              "      <td>0</td>\n",
              "      <td>0</td>\n",
              "      <td>0</td>\n",
              "      <td>0</td>\n",
              "      <td>0</td>\n",
              "      <td>0</td>\n",
              "      <td>0</td>\n",
              "      <td>0</td>\n",
              "      <td>0</td>\n",
              "      <td>0</td>\n",
              "      <td>0</td>\n",
              "      <td>0</td>\n",
              "      <td>0</td>\n",
              "      <td>0</td>\n",
              "      <td>...</td>\n",
              "      <td>0</td>\n",
              "      <td>0</td>\n",
              "      <td>0</td>\n",
              "      <td>0</td>\n",
              "      <td>0</td>\n",
              "      <td>0</td>\n",
              "      <td>0</td>\n",
              "      <td>0</td>\n",
              "      <td>0</td>\n",
              "      <td>0</td>\n",
              "      <td>0</td>\n",
              "      <td>0</td>\n",
              "      <td>0</td>\n",
              "      <td>0</td>\n",
              "      <td>0</td>\n",
              "      <td>0</td>\n",
              "      <td>0</td>\n",
              "      <td>0</td>\n",
              "      <td>0</td>\n",
              "      <td>0</td>\n",
              "      <td>0</td>\n",
              "      <td>0</td>\n",
              "      <td>0</td>\n",
              "      <td>0</td>\n",
              "      <td>0</td>\n",
              "      <td>0</td>\n",
              "      <td>0</td>\n",
              "      <td>0</td>\n",
              "      <td>0</td>\n",
              "      <td>0</td>\n",
              "      <td>0</td>\n",
              "      <td>0</td>\n",
              "      <td>0</td>\n",
              "      <td>0</td>\n",
              "      <td>0</td>\n",
              "      <td>0</td>\n",
              "      <td>0</td>\n",
              "      <td>0</td>\n",
              "      <td>0</td>\n",
              "      <td>0</td>\n",
              "    </tr>\n",
              "  </tbody>\n",
              "</table>\n",
              "<p>5 rows × 5999 columns</p>\n",
              "</div>"
            ],
            "text/plain": [
              "   aaabar  aaron  abacus  ability  able  ...  zone  zucchini  zuchinni  zupa  zupas\n",
              "0       0      0       0        0     0  ...     0         0         0     0      0\n",
              "1       0      0       0        0     0  ...     0         0         0     0      0\n",
              "2       0      0       0        0     0  ...     0         0         0     0      0\n",
              "3       0      0       0        0     0  ...     0         0         0     0      0\n",
              "4       0      0       0        0     0  ...     0         0         0     0      0\n",
              "\n",
              "[5 rows x 5999 columns]"
            ]
          },
          "metadata": {
            "tags": []
          },
          "execution_count": 42
        }
      ]
    },
    {
      "cell_type": "code",
      "metadata": {
        "id": "yWiVL7vyuW3S",
        "colab_type": "code",
        "outputId": "88eac665-906e-407c-e87b-6234c995d46e",
        "colab": {
          "base_uri": "https://localhost:8080/",
          "height": 204
        }
      },
      "source": [
        "# For each doc, count number of unique words\n",
        "# <=> count how many columns have non-zero values\n",
        "lexical = pd.DataFrame(data=np.count_nonzero(dtm, axis=1),\n",
        "                       columns = ['Unique Words'])\n",
        "lexical.head()"
      ],
      "execution_count": 43,
      "outputs": [
        {
          "output_type": "execute_result",
          "data": {
            "text/html": [
              "<div>\n",
              "<style scoped>\n",
              "    .dataframe tbody tr th:only-of-type {\n",
              "        vertical-align: middle;\n",
              "    }\n",
              "\n",
              "    .dataframe tbody tr th {\n",
              "        vertical-align: top;\n",
              "    }\n",
              "\n",
              "    .dataframe thead th {\n",
              "        text-align: right;\n",
              "    }\n",
              "</style>\n",
              "<table border=\"1\" class=\"dataframe\">\n",
              "  <thead>\n",
              "    <tr style=\"text-align: right;\">\n",
              "      <th></th>\n",
              "      <th>Unique Words</th>\n",
              "    </tr>\n",
              "  </thead>\n",
              "  <tbody>\n",
              "    <tr>\n",
              "      <th>0</th>\n",
              "      <td>23</td>\n",
              "    </tr>\n",
              "    <tr>\n",
              "      <th>1</th>\n",
              "      <td>9</td>\n",
              "    </tr>\n",
              "    <tr>\n",
              "      <th>2</th>\n",
              "      <td>14</td>\n",
              "    </tr>\n",
              "    <tr>\n",
              "      <th>3</th>\n",
              "      <td>56</td>\n",
              "    </tr>\n",
              "    <tr>\n",
              "      <th>4</th>\n",
              "      <td>6</td>\n",
              "    </tr>\n",
              "  </tbody>\n",
              "</table>\n",
              "</div>"
            ],
            "text/plain": [
              "   Unique Words\n",
              "0            23\n",
              "1             9\n",
              "2            14\n",
              "3            56\n",
              "4             6"
            ]
          },
          "metadata": {
            "tags": []
          },
          "execution_count": 43
        }
      ]
    },
    {
      "cell_type": "code",
      "metadata": {
        "id": "UwrKzEqpuW3U",
        "colab_type": "code",
        "outputId": "116dea96-d1c4-4851-e2b1-e8cfcbc3cdea",
        "colab": {
          "base_uri": "https://localhost:8080/",
          "height": 204
        }
      },
      "source": [
        "lexical['Total Words'] = dtm.sum(axis=1)\n",
        "lexical.head()"
      ],
      "execution_count": 44,
      "outputs": [
        {
          "output_type": "execute_result",
          "data": {
            "text/html": [
              "<div>\n",
              "<style scoped>\n",
              "    .dataframe tbody tr th:only-of-type {\n",
              "        vertical-align: middle;\n",
              "    }\n",
              "\n",
              "    .dataframe tbody tr th {\n",
              "        vertical-align: top;\n",
              "    }\n",
              "\n",
              "    .dataframe thead th {\n",
              "        text-align: right;\n",
              "    }\n",
              "</style>\n",
              "<table border=\"1\" class=\"dataframe\">\n",
              "  <thead>\n",
              "    <tr style=\"text-align: right;\">\n",
              "      <th></th>\n",
              "      <th>Unique Words</th>\n",
              "      <th>Total Words</th>\n",
              "    </tr>\n",
              "  </thead>\n",
              "  <tbody>\n",
              "    <tr>\n",
              "      <th>0</th>\n",
              "      <td>23</td>\n",
              "      <td>25</td>\n",
              "    </tr>\n",
              "    <tr>\n",
              "      <th>1</th>\n",
              "      <td>9</td>\n",
              "      <td>9</td>\n",
              "    </tr>\n",
              "    <tr>\n",
              "      <th>2</th>\n",
              "      <td>14</td>\n",
              "      <td>15</td>\n",
              "    </tr>\n",
              "    <tr>\n",
              "      <th>3</th>\n",
              "      <td>56</td>\n",
              "      <td>74</td>\n",
              "    </tr>\n",
              "    <tr>\n",
              "      <th>4</th>\n",
              "      <td>6</td>\n",
              "      <td>6</td>\n",
              "    </tr>\n",
              "  </tbody>\n",
              "</table>\n",
              "</div>"
            ],
            "text/plain": [
              "   Unique Words  Total Words\n",
              "0            23           25\n",
              "1             9            9\n",
              "2            14           15\n",
              "3            56           74\n",
              "4             6            6"
            ]
          },
          "metadata": {
            "tags": []
          },
          "execution_count": 44
        }
      ]
    },
    {
      "cell_type": "code",
      "metadata": {
        "id": "Kvkaed_yuW3W",
        "colab_type": "code",
        "outputId": "98e5293e-b37a-42f0-a526-3b7921e6a87c",
        "colab": {
          "base_uri": "https://localhost:8080/",
          "height": 54
        }
      },
      "source": [
        "reviews['text_prep_lim'].iloc[0]\n",
        "# dinner & pm appear twice;"
      ],
      "execution_count": 45,
      "outputs": [
        {
          "output_type": "execute_result",
          "data": {
            "text/plain": [
              "'arrived reservation pm seat right time resturant fairly loud first family dinner clear pm quiet food service outstanding reasonable price highly recommend mimi late dinner'"
            ]
          },
          "metadata": {
            "tags": []
          },
          "execution_count": 45
        }
      ]
    },
    {
      "cell_type": "code",
      "metadata": {
        "id": "ziMb3XiRuW3Z",
        "colab_type": "code",
        "outputId": "3a268f23-ce1d-4697-b07e-dd10649f5f28",
        "colab": {
          "base_uri": "https://localhost:8080/",
          "height": 297
        }
      },
      "source": [
        "lexical.describe()"
      ],
      "execution_count": 46,
      "outputs": [
        {
          "output_type": "execute_result",
          "data": {
            "text/html": [
              "<div>\n",
              "<style scoped>\n",
              "    .dataframe tbody tr th:only-of-type {\n",
              "        vertical-align: middle;\n",
              "    }\n",
              "\n",
              "    .dataframe tbody tr th {\n",
              "        vertical-align: top;\n",
              "    }\n",
              "\n",
              "    .dataframe thead th {\n",
              "        text-align: right;\n",
              "    }\n",
              "</style>\n",
              "<table border=\"1\" class=\"dataframe\">\n",
              "  <thead>\n",
              "    <tr style=\"text-align: right;\">\n",
              "      <th></th>\n",
              "      <th>Unique Words</th>\n",
              "      <th>Total Words</th>\n",
              "    </tr>\n",
              "  </thead>\n",
              "  <tbody>\n",
              "    <tr>\n",
              "      <th>count</th>\n",
              "      <td>9365.000000</td>\n",
              "      <td>9365.000000</td>\n",
              "    </tr>\n",
              "    <tr>\n",
              "      <th>mean</th>\n",
              "      <td>33.668340</td>\n",
              "      <td>40.487560</td>\n",
              "    </tr>\n",
              "    <tr>\n",
              "      <th>std</th>\n",
              "      <td>24.716716</td>\n",
              "      <td>35.876595</td>\n",
              "    </tr>\n",
              "    <tr>\n",
              "      <th>min</th>\n",
              "      <td>1.000000</td>\n",
              "      <td>1.000000</td>\n",
              "    </tr>\n",
              "    <tr>\n",
              "      <th>25%</th>\n",
              "      <td>17.000000</td>\n",
              "      <td>18.000000</td>\n",
              "    </tr>\n",
              "    <tr>\n",
              "      <th>50%</th>\n",
              "      <td>27.000000</td>\n",
              "      <td>30.000000</td>\n",
              "    </tr>\n",
              "    <tr>\n",
              "      <th>75%</th>\n",
              "      <td>42.000000</td>\n",
              "      <td>50.000000</td>\n",
              "    </tr>\n",
              "    <tr>\n",
              "      <th>max</th>\n",
              "      <td>251.000000</td>\n",
              "      <td>406.000000</td>\n",
              "    </tr>\n",
              "  </tbody>\n",
              "</table>\n",
              "</div>"
            ],
            "text/plain": [
              "       Unique Words  Total Words\n",
              "count   9365.000000  9365.000000\n",
              "mean      33.668340    40.487560\n",
              "std       24.716716    35.876595\n",
              "min        1.000000     1.000000\n",
              "25%       17.000000    18.000000\n",
              "50%       27.000000    30.000000\n",
              "75%       42.000000    50.000000\n",
              "max      251.000000   406.000000"
            ]
          },
          "metadata": {
            "tags": []
          },
          "execution_count": 46
        }
      ]
    },
    {
      "cell_type": "code",
      "metadata": {
        "id": "LE0qmu4ZuW3b",
        "colab_type": "code",
        "colab": {}
      },
      "source": [
        "# On avg, 34 unique words per review, 40 total words per review"
      ],
      "execution_count": 0,
      "outputs": []
    },
    {
      "cell_type": "code",
      "metadata": {
        "id": "MXIgiMJzuW3d",
        "colab_type": "code",
        "outputId": "3cf6acc7-ecf3-440b-e30f-a8512f76dfbd",
        "colab": {
          "base_uri": "https://localhost:8080/",
          "height": 204
        }
      },
      "source": [
        "lexical['positive']=reviews['positive'].copy()\n",
        "lexical.head()"
      ],
      "execution_count": 48,
      "outputs": [
        {
          "output_type": "execute_result",
          "data": {
            "text/html": [
              "<div>\n",
              "<style scoped>\n",
              "    .dataframe tbody tr th:only-of-type {\n",
              "        vertical-align: middle;\n",
              "    }\n",
              "\n",
              "    .dataframe tbody tr th {\n",
              "        vertical-align: top;\n",
              "    }\n",
              "\n",
              "    .dataframe thead th {\n",
              "        text-align: right;\n",
              "    }\n",
              "</style>\n",
              "<table border=\"1\" class=\"dataframe\">\n",
              "  <thead>\n",
              "    <tr style=\"text-align: right;\">\n",
              "      <th></th>\n",
              "      <th>Unique Words</th>\n",
              "      <th>Total Words</th>\n",
              "      <th>positive</th>\n",
              "    </tr>\n",
              "  </thead>\n",
              "  <tbody>\n",
              "    <tr>\n",
              "      <th>0</th>\n",
              "      <td>23</td>\n",
              "      <td>25</td>\n",
              "      <td>1</td>\n",
              "    </tr>\n",
              "    <tr>\n",
              "      <th>1</th>\n",
              "      <td>9</td>\n",
              "      <td>9</td>\n",
              "      <td>1</td>\n",
              "    </tr>\n",
              "    <tr>\n",
              "      <th>2</th>\n",
              "      <td>14</td>\n",
              "      <td>15</td>\n",
              "      <td>1</td>\n",
              "    </tr>\n",
              "    <tr>\n",
              "      <th>3</th>\n",
              "      <td>56</td>\n",
              "      <td>74</td>\n",
              "      <td>1</td>\n",
              "    </tr>\n",
              "    <tr>\n",
              "      <th>4</th>\n",
              "      <td>6</td>\n",
              "      <td>6</td>\n",
              "      <td>1</td>\n",
              "    </tr>\n",
              "  </tbody>\n",
              "</table>\n",
              "</div>"
            ],
            "text/plain": [
              "   Unique Words  Total Words  positive\n",
              "0            23           25         1\n",
              "1             9            9         1\n",
              "2            14           15         1\n",
              "3            56           74         1\n",
              "4             6            6         1"
            ]
          },
          "metadata": {
            "tags": []
          },
          "execution_count": 48
        }
      ]
    },
    {
      "cell_type": "code",
      "metadata": {
        "id": "6e8owV1eOrhH",
        "colab_type": "code",
        "outputId": "fbdefdcd-c892-4384-a28d-508e69332dc1",
        "colab": {
          "base_uri": "https://localhost:8080/",
          "height": 142
        }
      },
      "source": [
        "lexical.groupby('positive').mean()"
      ],
      "execution_count": 49,
      "outputs": [
        {
          "output_type": "execute_result",
          "data": {
            "text/html": [
              "<div>\n",
              "<style scoped>\n",
              "    .dataframe tbody tr th:only-of-type {\n",
              "        vertical-align: middle;\n",
              "    }\n",
              "\n",
              "    .dataframe tbody tr th {\n",
              "        vertical-align: top;\n",
              "    }\n",
              "\n",
              "    .dataframe thead th {\n",
              "        text-align: right;\n",
              "    }\n",
              "</style>\n",
              "<table border=\"1\" class=\"dataframe\">\n",
              "  <thead>\n",
              "    <tr style=\"text-align: right;\">\n",
              "      <th></th>\n",
              "      <th>Unique Words</th>\n",
              "      <th>Total Words</th>\n",
              "    </tr>\n",
              "    <tr>\n",
              "      <th>positive</th>\n",
              "      <th></th>\n",
              "      <th></th>\n",
              "    </tr>\n",
              "  </thead>\n",
              "  <tbody>\n",
              "    <tr>\n",
              "      <th>0</th>\n",
              "      <td>41.464248</td>\n",
              "      <td>52.538218</td>\n",
              "    </tr>\n",
              "    <tr>\n",
              "      <th>1</th>\n",
              "      <td>30.276892</td>\n",
              "      <td>35.245173</td>\n",
              "    </tr>\n",
              "  </tbody>\n",
              "</table>\n",
              "</div>"
            ],
            "text/plain": [
              "          Unique Words  Total Words\n",
              "positive                           \n",
              "0            41.464248    52.538218\n",
              "1            30.276892    35.245173"
            ]
          },
          "metadata": {
            "tags": []
          },
          "execution_count": 49
        }
      ]
    },
    {
      "cell_type": "code",
      "metadata": {
        "id": "S6iO9qKQuW3f",
        "colab_type": "code",
        "colab": {}
      },
      "source": [
        "# On avg, 42 unique words per negative review, 30 unique words per positive review\n",
        "# On avg, 53 total words per negative review, 35 unique words per positive review"
      ],
      "execution_count": 0,
      "outputs": []
    },
    {
      "cell_type": "markdown",
      "metadata": {
        "id": "8stHJEFouW3i",
        "colab_type": "text"
      },
      "source": [
        "# Lexical Density: Unique Words / Total Words"
      ]
    },
    {
      "cell_type": "code",
      "metadata": {
        "id": "SxQR3ccXuW3j",
        "colab_type": "code",
        "colab": {}
      },
      "source": [
        "# As lexical density increases, repetition decreases. "
      ],
      "execution_count": 0,
      "outputs": []
    },
    {
      "cell_type": "code",
      "metadata": {
        "id": "SoPeDvWnuW3l",
        "colab_type": "code",
        "outputId": "db81bf0c-9882-47ff-9c8e-8e09467b2363",
        "colab": {
          "base_uri": "https://localhost:8080/",
          "height": 204
        }
      },
      "source": [
        "lexical.head()"
      ],
      "execution_count": 52,
      "outputs": [
        {
          "output_type": "execute_result",
          "data": {
            "text/html": [
              "<div>\n",
              "<style scoped>\n",
              "    .dataframe tbody tr th:only-of-type {\n",
              "        vertical-align: middle;\n",
              "    }\n",
              "\n",
              "    .dataframe tbody tr th {\n",
              "        vertical-align: top;\n",
              "    }\n",
              "\n",
              "    .dataframe thead th {\n",
              "        text-align: right;\n",
              "    }\n",
              "</style>\n",
              "<table border=\"1\" class=\"dataframe\">\n",
              "  <thead>\n",
              "    <tr style=\"text-align: right;\">\n",
              "      <th></th>\n",
              "      <th>Unique Words</th>\n",
              "      <th>Total Words</th>\n",
              "      <th>positive</th>\n",
              "    </tr>\n",
              "  </thead>\n",
              "  <tbody>\n",
              "    <tr>\n",
              "      <th>0</th>\n",
              "      <td>23</td>\n",
              "      <td>25</td>\n",
              "      <td>1</td>\n",
              "    </tr>\n",
              "    <tr>\n",
              "      <th>1</th>\n",
              "      <td>9</td>\n",
              "      <td>9</td>\n",
              "      <td>1</td>\n",
              "    </tr>\n",
              "    <tr>\n",
              "      <th>2</th>\n",
              "      <td>14</td>\n",
              "      <td>15</td>\n",
              "      <td>1</td>\n",
              "    </tr>\n",
              "    <tr>\n",
              "      <th>3</th>\n",
              "      <td>56</td>\n",
              "      <td>74</td>\n",
              "      <td>1</td>\n",
              "    </tr>\n",
              "    <tr>\n",
              "      <th>4</th>\n",
              "      <td>6</td>\n",
              "      <td>6</td>\n",
              "      <td>1</td>\n",
              "    </tr>\n",
              "  </tbody>\n",
              "</table>\n",
              "</div>"
            ],
            "text/plain": [
              "   Unique Words  Total Words  positive\n",
              "0            23           25         1\n",
              "1             9            9         1\n",
              "2            14           15         1\n",
              "3            56           74         1\n",
              "4             6            6         1"
            ]
          },
          "metadata": {
            "tags": []
          },
          "execution_count": 52
        }
      ]
    },
    {
      "cell_type": "code",
      "metadata": {
        "id": "tz9bOAkBuW3n",
        "colab_type": "code",
        "outputId": "1a51c122-2d12-4773-af68-350850eb0363",
        "colab": {
          "base_uri": "https://localhost:8080/",
          "height": 204
        }
      },
      "source": [
        "lexical['Density'] = lexical['Unique Words']/lexical['Total Words']\n",
        "lexical.head()"
      ],
      "execution_count": 53,
      "outputs": [
        {
          "output_type": "execute_result",
          "data": {
            "text/html": [
              "<div>\n",
              "<style scoped>\n",
              "    .dataframe tbody tr th:only-of-type {\n",
              "        vertical-align: middle;\n",
              "    }\n",
              "\n",
              "    .dataframe tbody tr th {\n",
              "        vertical-align: top;\n",
              "    }\n",
              "\n",
              "    .dataframe thead th {\n",
              "        text-align: right;\n",
              "    }\n",
              "</style>\n",
              "<table border=\"1\" class=\"dataframe\">\n",
              "  <thead>\n",
              "    <tr style=\"text-align: right;\">\n",
              "      <th></th>\n",
              "      <th>Unique Words</th>\n",
              "      <th>Total Words</th>\n",
              "      <th>positive</th>\n",
              "      <th>Density</th>\n",
              "    </tr>\n",
              "  </thead>\n",
              "  <tbody>\n",
              "    <tr>\n",
              "      <th>0</th>\n",
              "      <td>23</td>\n",
              "      <td>25</td>\n",
              "      <td>1</td>\n",
              "      <td>0.920000</td>\n",
              "    </tr>\n",
              "    <tr>\n",
              "      <th>1</th>\n",
              "      <td>9</td>\n",
              "      <td>9</td>\n",
              "      <td>1</td>\n",
              "      <td>1.000000</td>\n",
              "    </tr>\n",
              "    <tr>\n",
              "      <th>2</th>\n",
              "      <td>14</td>\n",
              "      <td>15</td>\n",
              "      <td>1</td>\n",
              "      <td>0.933333</td>\n",
              "    </tr>\n",
              "    <tr>\n",
              "      <th>3</th>\n",
              "      <td>56</td>\n",
              "      <td>74</td>\n",
              "      <td>1</td>\n",
              "      <td>0.756757</td>\n",
              "    </tr>\n",
              "    <tr>\n",
              "      <th>4</th>\n",
              "      <td>6</td>\n",
              "      <td>6</td>\n",
              "      <td>1</td>\n",
              "      <td>1.000000</td>\n",
              "    </tr>\n",
              "  </tbody>\n",
              "</table>\n",
              "</div>"
            ],
            "text/plain": [
              "   Unique Words  Total Words  positive   Density\n",
              "0            23           25         1  0.920000\n",
              "1             9            9         1  1.000000\n",
              "2            14           15         1  0.933333\n",
              "3            56           74         1  0.756757\n",
              "4             6            6         1  1.000000"
            ]
          },
          "metadata": {
            "tags": []
          },
          "execution_count": 53
        }
      ]
    },
    {
      "cell_type": "code",
      "metadata": {
        "id": "pe6pBcMQuW3p",
        "colab_type": "code",
        "outputId": "d2c28e28-f13f-469e-8521-1ffbf7ed1351",
        "colab": {
          "base_uri": "https://localhost:8080/",
          "height": 282
        }
      },
      "source": [
        "lexical['Density'].hist()"
      ],
      "execution_count": 54,
      "outputs": [
        {
          "output_type": "execute_result",
          "data": {
            "text/plain": [
              "<matplotlib.axes._subplots.AxesSubplot at 0x7f174b4191d0>"
            ]
          },
          "metadata": {
            "tags": []
          },
          "execution_count": 54
        },
        {
          "output_type": "display_data",
          "data": {
            "image/png": "[encoded data removed]",
            "text/plain": [
              "<Figure size 432x288 with 1 Axes>"
            ]
          },
          "metadata": {
            "tags": [],
            "needs_background": "light"
          }
        }
      ]
    },
    {
      "cell_type": "code",
      "metadata": {
        "id": "ihcymQFruW3s",
        "colab_type": "code",
        "outputId": "f4df6a3e-2052-4b6f-d034-5514dd96b0cd",
        "colab": {
          "base_uri": "https://localhost:8080/",
          "height": 142
        }
      },
      "source": [
        "lexical.groupby('positive').mean()"
      ],
      "execution_count": 55,
      "outputs": [
        {
          "output_type": "execute_result",
          "data": {
            "text/html": [
              "<div>\n",
              "<style scoped>\n",
              "    .dataframe tbody tr th:only-of-type {\n",
              "        vertical-align: middle;\n",
              "    }\n",
              "\n",
              "    .dataframe tbody tr th {\n",
              "        vertical-align: top;\n",
              "    }\n",
              "\n",
              "    .dataframe thead th {\n",
              "        text-align: right;\n",
              "    }\n",
              "</style>\n",
              "<table border=\"1\" class=\"dataframe\">\n",
              "  <thead>\n",
              "    <tr style=\"text-align: right;\">\n",
              "      <th></th>\n",
              "      <th>Unique Words</th>\n",
              "      <th>Total Words</th>\n",
              "      <th>Density</th>\n",
              "    </tr>\n",
              "    <tr>\n",
              "      <th>positive</th>\n",
              "      <th></th>\n",
              "      <th></th>\n",
              "      <th></th>\n",
              "    </tr>\n",
              "  </thead>\n",
              "  <tbody>\n",
              "    <tr>\n",
              "      <th>0</th>\n",
              "      <td>41.464248</td>\n",
              "      <td>52.538218</td>\n",
              "      <td>0.847234</td>\n",
              "    </tr>\n",
              "    <tr>\n",
              "      <th>1</th>\n",
              "      <td>30.276892</td>\n",
              "      <td>35.245173</td>\n",
              "      <td>0.901532</td>\n",
              "    </tr>\n",
              "  </tbody>\n",
              "</table>\n",
              "</div>"
            ],
            "text/plain": [
              "          Unique Words  Total Words   Density\n",
              "positive                                     \n",
              "0            41.464248    52.538218  0.847234\n",
              "1            30.276892    35.245173  0.901532"
            ]
          },
          "metadata": {
            "tags": []
          },
          "execution_count": 55
        }
      ]
    },
    {
      "cell_type": "code",
      "metadata": {
        "id": "IQ7OcvuFuW3u",
        "colab_type": "code",
        "colab": {}
      },
      "source": [
        "# Positive Reviews have larger density, which suggests lower repetition. "
      ],
      "execution_count": 0,
      "outputs": []
    },
    {
      "cell_type": "markdown",
      "metadata": {
        "id": "Ojz6gpWj5v6_",
        "colab_type": "text"
      },
      "source": [
        "# Insights"
      ]
    },
    {
      "cell_type": "markdown",
      "metadata": {
        "id": "xSyCCt7GEbaW",
        "colab_type": "text"
      },
      "source": [
        "Conclusions\n",
        "- Negative reviews have a larger average number of unique and total words, which suggests that users leave a longer review when they have negative feedback\n",
        "- Negative reviews have a lower density, which suggests that users tend to repeat words when they have negative feedback\n",
        "- The most common 20 words in negative reviews are not negative words (except one word - 'wait'), while almost half of the most common 20 words in positive reviews are positive words. Negations (e.g. 'not good') greatly affect Sentiment Analysis, and we extracted words like 'not' using stopwords from reviews."
      ]
    }
  ]
}